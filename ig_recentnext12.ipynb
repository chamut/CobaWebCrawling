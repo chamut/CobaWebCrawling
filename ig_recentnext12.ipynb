{
 "cells": [
  {
   "cell_type": "code",
   "execution_count": 23,
   "metadata": {},
   "outputs": [],
   "source": [
    "import requests\n",
    "import pandas as pd\n",
    "import numpy as np"
   ]
  },
  {
   "cell_type": "code",
   "execution_count": 17,
   "metadata": {},
   "outputs": [],
   "source": [
    "#diambil jam 9 11/01.2021\n",
    "header = {'user-agent': 'Mozilla/5.0 (Windows NT 10.0; Win64; x64) AppleWebKit/537.36', 'cookie': 'mid=XYCUfwALAAGQ6buqvIBQoqsYadCI; fbm_124024574287414=base_domain=.instagram.com; ig_did=DBB90854-8CE8-419E-9D93-E73D46D048CA; csrftoken=qRO1Wcm3pIwFbmhhoNvrmhW5VNG4AwsE; ds_user_id=8737500465; sessionid=8737500465%3APZjk3BZSokwW7S%3A2; shbid=409; shbts=1610091663.2980113; rur=ASH; fbsr_124024574287414=DoGLwEKATs9-kvO1Pe3rJnJoIEhkJCQnCU6y8shDzkI.eyJ1c2VyX2lkIjoiMTAwMDAwNTIyNTM0NTI5IiwiY29kZSI6IkFRQ2lPckZsZlVLN2g5Z2p0WmtXcVdINDVmYUVoSXI4ODc0dE9OQkJpVGRGeldEbkRoVGlhMmNNdkxEWXd5RUNNSzZqbDhXNFhLRXJxcXVZQ0NvYk5YLUM4OXB4LVJib1FLdnVuVnEyWWxybndKUkpOYVYtLTY0ZTFaU2FRYlBNU3FUYVVYSVBXTk1sd0ZQaU9VMWR1dno0YXVFUXpDdldNYnlMdS0wM0FWRjFQQ1lWZ0VTX3MyZXZxdjQ4eFRnbTNIMHgtbi1nZk1mc2ozVGNBNmVUNDJ0LW5OSENXNWxla0RUNmxEYzNRWFZfVk94RGpab1VOSng1dDUtX3hRQjFvdVhoVUZ0MW9mZE05M2FzcklfMFlvY2s1OVdCUVV1WFJHSVVCdTg2cEFYeEYxNzlJSU9MVEJwWUZZaUR1NlVjWFdDTnZYRlpmdURSN1Q1bXJwbUZmMUF2Iiwib2F1dGhfdG9rZW4iOiJFQUFCd3pMaXhuallCQUFheEszUkZSVVVpa0x6em51WkFUVG9mdGpqOHFzNzd0Rjk4NVFFd1pDOEZIWFFrdlpCdXVaQk5kVHdkVXRxMFVaQzF3dVk1SzFBSWxxTTJQcDlzSjVzNGhLTmRrQ0V0cW5ZREFwV1RlWkI0QkF4S2xPenRldTZGaDNWUkNGQlE1Z2htNTdzbDd1MkRMT0ZaQ0gxaWVNcFk5ZzRUVVZCR2xXVm14NEhTS1pBaiIsImFsZ29yaXRobSI6IkhNQUMtU0hBMjU2IiwiaXNzdWVkX2F0IjoxNjEwMzI5OTk5fQ; urlgen=\"{\\\"125.161.137.14\\\": 7713}:1kymOo:5SadDfx3F3oKsDPoHdK1olgFdRU\"'}\n",
    "url = \"https://www.instagram.com/graphql/query/?query_hash=003056d32c2554def87228bc3fd9668a&variables=%7B%22id%22%3A%223054105643%22%2C%22first%22%3A12%2C%22after%22%3A%22QVFBVHdRUlBFWWtMWmFSbmQ1eFJOcHhHWmpjaU5kUUhZbDhRVzJVSXpPdUVKQnpudFBvOU9vd0hMTlZ5MmdNNTlwa2pIWmJMZDZxQ2FDLWZ2c2VET1VHRA%3D%3D%22%7D\"\n",
    "response = requests.get(url, headers=header)"
   ]
  },
  {
   "cell_type": "code",
   "execution_count": 18,
   "metadata": {},
   "outputs": [
    {
     "name": "stdout",
     "output_type": "stream",
     "text": [
      "{'data': {'user': {'edge_owner_to_timeline_media': {'count': 33543, 'page_info': {'has_next_page': True, 'end_cursor': 'QVFDV2tjNEY2ODd0Ri1CUVh0dkFUTkJMazZlcWxHczZnS1JCTG9nZkVzbW5WakU4SUpzWWNWOWg0UmpwdkMtd1UzeHBOWmdMdF81a3JNZEtZYTBTb3ZFVg=='}, 'edges': [{'node': {'__typename': 'GraphImage', 'id': '2483426656704721404', 'gating_info': None, 'fact_check_overall_rating': None, 'fact_check_information': None, 'media_overlay_info': None, 'sensitivity_friction_info': None, 'sharing_friction_info': {'should_have_sharing_friction': False, 'bloks_app_url': None}, 'dimensions': {'height': 1338, 'width': 1080}, 'display_url': 'https://scontent-sin6-3.cdninstagram.com/v/t51.2885-15/e35/p1080x1080/136419192_3637653816355046_350938159593867445_n.jpg?_nc_ht=scontent-sin6-3.cdninstagram.com&_nc_cat=1&_nc_ohc=0dKvdC4LxwkAX8lSwg7&tp=1&oh=87f56f35bf6b1b0fe7cc42d0a34d0665&oe=6025800A', 'display_resources': [{'src': 'https://scontent-sin6-3.cdninstagram.com/v/t51.2885-15/sh0.08/e35/p640x640/136419192_3637653816355046_350938159593867445_n.jpg?_nc_ht=scontent-sin6-3.cdninstagram.com&_nc_cat=1&_nc_ohc=0dKvdC4LxwkAX8lSwg7&tp=1&oh=8ca5923ce4db7c1e0a3d78343d67d1de&oe=6026DF4D', 'config_width': 640, 'config_height': 793}, {'src': 'https://scontent-sin6-3.cdninstagram.com/v/t51.2885-15/sh0.08/e35/p750x750/136419192_3637653816355046_350938159593867445_n.jpg?_nc_ht=scontent-sin6-3.cdninstagram.com&_nc_cat=1&_nc_ohc=0dKvdC4LxwkAX8lSwg7&tp=1&oh=5f4ada64c088108f0850fe7c37229b50&oe=60245889', 'config_width': 750, 'config_height': 929}, {'src': 'https://scontent-sin6-3.cdninstagram.com/v/t51.2885-15/e35/p1080x1080/136419192_3637653816355046_350938159593867445_n.jpg?_nc_ht=scontent-sin6-3.cdninstagram.com&_nc_cat=1&_nc_ohc=0dKvdC4LxwkAX8lSwg7&tp=1&oh=87f56f35bf6b1b0fe7cc42d0a34d0665&oe=6025800A', 'config_width': 1080, 'config_height': 1338}], 'is_video': False, 'media_preview': 'ACEqtSNJK2VBxjHB4qBlkUE7vTAzyPwzzUkkzBhsIUkAZqL5kky7A9eQR6cflW6TWmlrXS1u7dO39bHK3fXrezbSsr/K48RzkdW+uf5ZqSMuJFDbh9WyDxzxTlneI4YhwRkYNPRd7Bu/r/n9K53KS0lFcsk7NX/V/oapJ7S1i1dNL9F/TLPFFP8AL96Kxs+/4s6NDMn2k4wfwqIqrdiPzrQdOc0nlg84P616HM1Y4+VO97/eVFUDrk/gatpIMheePal8le4P5n/GplUHtUN33tpsWoxjtfXfUTevrRUmyioL07MpXEchbKsUGOxHNRBJl6yMfxFKHb1P51YBJrGUpJ2TVvRGiUe34v8AzKzLN/z0Yf5+lPgSUSDc7MO4PTp9Km3H1NQGRvU/maSnJu119yG1Ht+L/wAzTwaKyvMb1P5mit7GZ//Z', 'tracking_token': 'eyJ2ZXJzaW9uIjo1LCJwYXlsb2FkIjp7ImlzX2FuYWx5dGljc190cmFja2VkIjp0cnVlLCJ1dWlkIjoiYjFmOGFjNGYxZTk5NGY2NjhlNzBkMzJiMjY2ZDk2NDYyNDgzNDI2NjU2NzA0NzIxNDA0Iiwic2VydmVyX3Rva2VuIjoiMTYxMDMzMTQ5NjY1MnwyNDgzNDI2NjU2NzA0NzIxNDA0fDg3Mzc1MDA0NjV8OTQwZDlhOTZjMzgxYjZiZWRmN2EyNzZiNjFlNzEwYjVlZGYyMGM5NGY4NDZkMjUzNDg2MGI2MGEyYTUwZDhiYiJ9LCJzaWduYXR1cmUiOiIifQ==', 'edge_media_to_tagged_user': {'edges': [{'node': {'user': {'full_name': 'Aspectama Alam Sutera', 'id': '8157513884', 'is_verified': False, 'profile_pic_url': 'https://scontent-sin6-1.cdninstagram.com/v/t51.2885-19/s150x150/71238122_2439188052968136_8064848885576630272_n.jpg?_nc_ht=scontent-sin6-1.cdninstagram.com&_nc_cat=100&_nc_ohc=kU6SW7UcMx4AX-7ceHd&tp=1&oh=1e9aa9bd348256157e04225247d73fbe&oe=6026B991', 'username': 'aspectamaalamsutera'}, 'x': 0.4975845411, 'y': 0.5628019324}}]}, 'accessibility_caption': None, 'edge_media_to_caption': {'edges': [{'node': {'text': 'WELCOME TO OUR SECOND VIRTUAL EDUCATION EXPO\\n\\nTahun 2021, ASPECTAMA akan mengadakan kembali Virtual Education Expo. Akan hadir representatives dari Universitas- universitas \\xa0dari USA, UK, Australia, Canada, New Zealand, Switzerland, Netherland, South Korea, Singapore. \\n\\nEvent ini FREE lho, jadi untuk teman-teman yang penasaran dan ingin mengetahui lebih lanjut tentang Scholarship, pendaftaran, visa, atau yang masih bingung dengan jurusan dan ingin konsultasi terlebih dahulu boleh join event ini. \\n\\nSabtu, 30 Januari 2021\\n14.00 - 18.00\\n\\nLink untuk Registrasi :\\xa0aspectamaalsut.co.id/events\\nRegistration Deadline : 25 Januari 2021\\n\\nUntuk info lebih lanjut, dapat menghubungi :\\nIG @aspectamaalamsutera\\nWhatsapp : 087875384504\\n\\n#beasiswa #studyabroad #scholarship #kuliahluarnegeri #infobeasiswa #trendingnow #trendingjakarta #trendingindonesia #trending #education'}}]}, 'shortcode': 'CJ252LynvH8', 'edge_media_to_comment': {'count': 3, 'page_info': {'has_next_page': True, 'end_cursor': ''}}, 'edge_media_to_sponsor_user': {'edges': []}, 'comments_disabled': False, 'taken_at_timestamp': 1610267549, 'edge_media_preview_like': {'count': 1968, 'edges': []}, 'owner': {'id': '3054105643', 'username': 'jktinfo'}, 'location': None, 'viewer_has_liked': False, 'viewer_has_saved': False, 'viewer_has_saved_to_collection': False, 'viewer_in_photo_of_you': False, 'viewer_can_reshare': True, 'thumbnail_src': 'https://scontent-sin6-3.cdninstagram.com/v/t51.2885-15/sh0.08/e35/c0.172.1440.1440a/s640x640/136419192_3637653816355046_350938159593867445_n.jpg?_nc_ht=scontent-sin6-3.cdninstagram.com&_nc_cat=1&_nc_ohc=0dKvdC4LxwkAX8lSwg7&tp=1&oh=8e90ce6e699548f336df04746b3a5a3a&oe=6024456F', 'thumbnail_resources': [{'src': 'https://scontent-sin6-3.cdninstagram.com/v/t51.2885-15/e35/c0.172.1440.1440a/s150x150/136419192_3637653816355046_350938159593867445_n.jpg?_nc_ht=scontent-sin6-3.cdninstagram.com&_nc_cat=1&_nc_ohc=0dKvdC4LxwkAX8lSwg7&tp=1&oh=d507c47a9625edb5e212218cbdce6979&oe=602448DF', 'config_width': 150, 'config_height': 150}, {'src': 'https://scontent-sin6-3.cdninstagram.com/v/t51.2885-15/e35/c0.172.1440.1440a/s240x240/136419192_3637653816355046_350938159593867445_n.jpg?_nc_ht=scontent-sin6-3.cdninstagram.com&_nc_cat=1&_nc_ohc=0dKvdC4LxwkAX8lSwg7&tp=1&oh=f0a330cc87e89e850f2ab1b0e6a1c512&oe=602405D9', 'config_width': 240, 'config_height': 240}, {'src': 'https://scontent-sin6-3.cdninstagram.com/v/t51.2885-15/e35/c0.172.1440.1440a/s320x320/136419192_3637653816355046_350938159593867445_n.jpg?_nc_ht=scontent-sin6-3.cdninstagram.com&_nc_cat=1&_nc_ohc=0dKvdC4LxwkAX8lSwg7&tp=1&oh=55762e1883d88def77306bcf5d89e25e&oe=6024CA27', 'config_width': 320, 'config_height': 320}, {'src': 'https://scontent-sin6-3.cdninstagram.com/v/t51.2885-15/e35/c0.172.1440.1440a/s480x480/136419192_3637653816355046_350938159593867445_n.jpg?_nc_ht=scontent-sin6-3.cdninstagram.com&_nc_cat=1&_nc_ohc=0dKvdC4LxwkAX8lSwg7&tp=1&oh=243c345420811d0a832716da6e95df2e&oe=6023B7E2', 'config_width': 480, 'config_height': 480}, {'src': 'https://scontent-sin6-3.cdninstagram.com/v/t51.2885-15/sh0.08/e35/c0.172.1440.1440a/s640x640/136419192_3637653816355046_350938159593867445_n.jpg?_nc_ht=scontent-sin6-3.cdninstagram.com&_nc_cat=1&_nc_ohc=0dKvdC4LxwkAX8lSwg7&tp=1&oh=8e90ce6e699548f336df04746b3a5a3a&oe=6024456F', 'config_width': 640, 'config_height': 640}]}}, {'node': {'__typename': 'GraphImage', 'id': '2483426378395814649', 'gating_info': None, 'fact_check_overall_rating': None, 'fact_check_information': None, 'media_overlay_info': None, 'sensitivity_friction_info': None, 'sharing_friction_info': {'should_have_sharing_friction': False, 'bloks_app_url': None}, 'dimensions': {'height': 1080, 'width': 1080}, 'display_url': 'https://scontent-sin6-3.cdninstagram.com/v/t51.2885-15/e35/137379295_775180463078282_397367479448350664_n.jpg?_nc_ht=scontent-sin6-3.cdninstagram.com&_nc_cat=1&_nc_ohc=m1P28zovIAMAX_XmUr1&tp=1&oh=6bc363fcb0c2df9da3c7b06a9918cdcd&oe=6025D4C7', 'display_resources': [{'src': 'https://scontent-sin6-3.cdninstagram.com/v/t51.2885-15/sh0.08/e35/s640x640/137379295_775180463078282_397367479448350664_n.jpg?_nc_ht=scontent-sin6-3.cdninstagram.com&_nc_cat=1&_nc_ohc=m1P28zovIAMAX_XmUr1&tp=1&oh=b87bba2d8d7c2fd1197dfefe04014f9e&oe=60238C24', 'config_width': 640, 'config_height': 640}, {'src': 'https://scontent-sin6-3.cdninstagram.com/v/t51.2885-15/sh0.08/e35/s750x750/137379295_775180463078282_397367479448350664_n.jpg?_nc_ht=scontent-sin6-3.cdninstagram.com&_nc_cat=1&_nc_ohc=m1P28zovIAMAX_XmUr1&tp=1&oh=f780adec5b6711a89e086e23b6931b5b&oe=602657A4', 'config_width': 750, 'config_height': 750}, {'src': 'https://scontent-sin6-3.cdninstagram.com/v/t51.2885-15/e35/137379295_775180463078282_397367479448350664_n.jpg?_nc_ht=scontent-sin6-3.cdninstagram.com&_nc_cat=1&_nc_ohc=m1P28zovIAMAX_XmUr1&tp=1&oh=6bc363fcb0c2df9da3c7b06a9918cdcd&oe=6025D4C7', 'config_width': 1080, 'config_height': 1080}], 'is_video': False, 'media_preview': 'ACoqg8yJVGU3cc4AqvO6uoZF2jB/XFQhux5pCwxt7dKzSLcm1bT7h6/KM9MAc/Wnyn5c+tRE4XFK5BWmSSxsMY64A4/qDTtq/wB79Kqrxn6CnlsntSGVPMalMtMRWc4QFj6AZp/2ab+435Gr0QrN7EiyjGT19qYXz2pPs039xvyNL9mm7o35Gi67hZ9mKDnnpTs+/wClQurR8MCv1GKbvNACwyGNtwyOMcEj9RVn7Y47sR/vNVGnF2PUk/jRZBdrZlw3r/7f/fZqL7VOf42/M1Dvb1P50gdh0JGevNFl2QXfd/eOkleQ5cliPWo6Uknk80lMR//Z', 'tracking_token': 'eyJ2ZXJzaW9uIjo1LCJwYXlsb2FkIjp7ImlzX2FuYWx5dGljc190cmFja2VkIjp0cnVlLCJ1dWlkIjoiYjFmOGFjNGYxZTk5NGY2NjhlNzBkMzJiMjY2ZDk2NDYyNDgzNDI2Mzc4Mzk1ODE0NjQ5Iiwic2VydmVyX3Rva2VuIjoiMTYxMDMzMTQ5NjY1M3wyNDgzNDI2Mzc4Mzk1ODE0NjQ5fDg3Mzc1MDA0NjV8NTg4MmY4M2Y3YTRmZWY1NjhiZTYwZWJlOWRhNzIyNjZhNzRlYWQ4ZTQxYmU1MmIzOGQ4NmRkMDg5ZmNiYzU4NyJ9LCJzaWduYXR1cmUiOiIifQ==', 'edge_media_to_tagged_user': {'edges': []}, 'accessibility_caption': None, 'edge_media_to_caption': {'edges': [{'node': {'text': 'Brand kendaraan off-road di bawah Fiat Chrysler, Jeep, telah merilis all-new Jeep Grand Cherokee 2021 dengan sejumlah peningkatan yang menakjubkan, termasuk perubahan interiornya yang sekarang berkapasitas hingga tujuh penumpang.\\n\\nTiga sistem Jeep 4x4 dan sistem manajemen traksi Selec-Terrain terdepan di kelasnya dengan lima mode medan yang meningkatkan tradisi kemampuan off-road yang legendaris, termasuk ground clearance yang lebih tinggi dan kemampuan menerobos genangan yang lebih baik dibanding pendahulunya.\\n\\nJeep Grand Cherokee 2021 hadir dengan arsitektur baru, suspensi depan dan belakang independen, serta suspensi udara Quadra-Lift eksklusif di kelasnya dengan peredaman adaptif elektronik menghadirkan kemampuan terdepan di kelasnya dan dinamika berkendara premium di jalan raya.\\n\\nDesain eksterior otentik dan pengerjaan kelas dunia menyampaikan gaya bodi baru yang halus dengan isyarat desain khas Jeep, termasuk kisi tujuh slot khas Jeep, sudut pendekatan depan yang agresif, dan lengkungan roda trapesium.\\n\\nDi sisi interior, Cherokee generasi keempat ini menyediakan ruang lebih luas, dengan fitur layar tampilan 10 inci standar di seluruh panel instrumen, termasuk kluster pengukur digital tanpa bingkai dan radio layar sentuh, pencahayaan LED baru dengan fitur ambien, kursi dengan pemijat untuk pengemudi dan penumpang depan, serta zona iklim yang dipersonalisasi.\\n-\\nBaca selengkapnya di website #jktinfo (klik link di bio)'}}]}, 'shortcode': 'CJ25yImHgr5', 'edge_media_to_comment': {'count': 75, 'page_info': {'has_next_page': True, 'end_cursor': ''}}, 'edge_media_to_sponsor_user': {'edges': []}, 'comments_disabled': False, 'taken_at_timestamp': 1610267515, 'edge_media_preview_like': {'count': 11544, 'edges': []}, 'owner': {'id': '3054105643', 'username': 'jktinfo'}, 'location': None, 'viewer_has_liked': False, 'viewer_has_saved': False, 'viewer_has_saved_to_collection': False, 'viewer_in_photo_of_you': False, 'viewer_can_reshare': True, 'thumbnail_src': 'https://scontent-sin6-3.cdninstagram.com/v/t51.2885-15/sh0.08/e35/s640x640/137379295_775180463078282_397367479448350664_n.jpg?_nc_ht=scontent-sin6-3.cdninstagram.com&_nc_cat=1&_nc_ohc=m1P28zovIAMAX_XmUr1&tp=1&oh=b87bba2d8d7c2fd1197dfefe04014f9e&oe=60238C24', 'thumbnail_resources': [{'src': 'https://scontent-sin6-3.cdninstagram.com/v/t51.2885-15/e35/s150x150/137379295_775180463078282_397367479448350664_n.jpg?_nc_ht=scontent-sin6-3.cdninstagram.com&_nc_cat=1&_nc_ohc=m1P28zovIAMAX_XmUr1&tp=1&oh=cf40f68163eee8a910a9f411c590625f&oe=60247905', 'config_width': 150, 'config_height': 150}, {'src': 'https://scontent-sin6-3.cdninstagram.com/v/t51.2885-15/e35/s240x240/137379295_775180463078282_397367479448350664_n.jpg?_nc_ht=scontent-sin6-3.cdninstagram.com&_nc_cat=1&_nc_ohc=m1P28zovIAMAX_XmUr1&tp=1&oh=e4ae3e86496e85a8448b1386df46ea62&oe=6025504F', 'config_width': 240, 'config_height': 240}, {'src': 'https://scontent-sin6-3.cdninstagram.com/v/t51.2885-15/e35/s320x320/137379295_775180463078282_397367479448350664_n.jpg?_nc_ht=scontent-sin6-3.cdninstagram.com&_nc_cat=1&_nc_ohc=m1P28zovIAMAX_XmUr1&tp=1&oh=7a92605d149ae56bace3519deed88ef2&oe=60248175', 'config_width': 320, 'config_height': 320}, {'src': 'https://scontent-sin6-3.cdninstagram.com/v/t51.2885-15/e35/s480x480/137379295_775180463078282_397367479448350664_n.jpg?_nc_ht=scontent-sin6-3.cdninstagram.com&_nc_cat=1&_nc_ohc=m1P28zovIAMAX_XmUr1&tp=1&oh=5cbaa7b5009a10992f7e5e66debd2674&oe=60243A2F', 'config_width': 480, 'config_height': 480}, {'src': 'https://scontent-sin6-3.cdninstagram.com/v/t51.2885-15/sh0.08/e35/s640x640/137379295_775180463078282_397367479448350664_n.jpg?_nc_ht=scontent-sin6-3.cdninstagram.com&_nc_cat=1&_nc_ohc=m1P28zovIAMAX_XmUr1&tp=1&oh=b87bba2d8d7c2fd1197dfefe04014f9e&oe=60238C24', 'config_width': 640, 'config_height': 640}]}}, {'node': {'__typename': 'GraphImage', 'id': '2483421051243957074', 'gating_info': None, 'fact_check_overall_rating': None, 'fact_check_information': None, 'media_overlay_info': None, 'sensitivity_friction_info': None, 'sharing_friction_info': {'should_have_sharing_friction': False, 'bloks_app_url': None}, 'dimensions': {'height': 1080, 'width': 1080}, 'display_url': 'https://scontent-sin6-3.cdninstagram.com/v/t51.2885-15/e35/137245451_1275325942854504_202792998033228260_n.jpg?_nc_ht=scontent-sin6-3.cdninstagram.com&_nc_cat=1&_nc_ohc=t12PN46sFNMAX-nlrQ6&tp=1&oh=d615bcbb8cfeef05e211b153e6facea8&oe=602692F1', 'display_resources': [{'src': 'https://scontent-sin6-3.cdninstagram.com/v/t51.2885-15/sh0.08/e35/s640x640/137245451_1275325942854504_202792998033228260_n.jpg?_nc_ht=scontent-sin6-3.cdninstagram.com&_nc_cat=1&_nc_ohc=t12PN46sFNMAX-nlrQ6&tp=1&oh=e340740c12d44b0657c3d2e4b591efce&oe=6024FECB', 'config_width': 640, 'config_height': 640}, {'src': 'https://scontent-sin6-3.cdninstagram.com/v/t51.2885-15/sh0.08/e35/s750x750/137245451_1275325942854504_202792998033228260_n.jpg?_nc_ht=scontent-sin6-3.cdninstagram.com&_nc_cat=1&_nc_ohc=t12PN46sFNMAX-nlrQ6&tp=1&oh=5fc3e1dc61a38f7ee559caf9c7421b7e&oe=6026768F', 'config_width': 750, 'config_height': 750}, {'src': 'https://scontent-sin6-3.cdninstagram.com/v/t51.2885-15/e35/137245451_1275325942854504_202792998033228260_n.jpg?_nc_ht=scontent-sin6-3.cdninstagram.com&_nc_cat=1&_nc_ohc=t12PN46sFNMAX-nlrQ6&tp=1&oh=d615bcbb8cfeef05e211b153e6facea8&oe=602692F1', 'config_width': 1080, 'config_height': 1080}], 'is_video': False, 'media_preview': 'ACoqubfenqMdTmub+0zJ3YfX/wCvVtZp9u4tge4H8sZrPl7M159LNG2MU7isMXU3ZgcdsY/pTftknr+gocX3FzI3uKTisE30g7ik+3Seq1PK+4+ZeZWMxx1qAzuepyPemxxvLnYC2OuKk+yTH+BvyrW6M7N9BwuMegP0zTvtG4fMAcew6VF9jm/uN+VH2SYfwN+VF13Qcr7McQp9abtHrTJEeI4cFSfWo91Ah8MpjJxkZ9CR/Kpzdt/tf99tVKnF2PUk/jRZDu+5bF2w67j/AMDaoftEp/ib8zUe9vU/nSB2HQkZ680WXYLvuxXkZzlyWI9TmmUpJPJ5pKYj/9k=', 'tracking_token': 'eyJ2ZXJzaW9uIjo1LCJwYXlsb2FkIjp7ImlzX2FuYWx5dGljc190cmFja2VkIjp0cnVlLCJ1dWlkIjoiYjFmOGFjNGYxZTk5NGY2NjhlNzBkMzJiMjY2ZDk2NDYyNDgzNDIxMDUxMjQzOTU3MDc0Iiwic2VydmVyX3Rva2VuIjoiMTYxMDMzMTQ5NjY1M3wyNDgzNDIxMDUxMjQzOTU3MDc0fDg3Mzc1MDA0NjV8N2VlZjkyMzhjOTE5MTRlYjM3ZDZhNmYwYTUxYWQ2YTcwYjc1Yzg0OTIyMmFmNDQ0YjdjODRiZWM5NjVlNTA2MCJ9LCJzaWduYXR1cmUiOiIifQ==', 'edge_media_to_tagged_user': {'edges': []}, 'accessibility_caption': None, 'edge_media_to_caption': {'edges': [{'node': {'text': 'Meski di tengah pandemi, Mercedes-Benz mampu melipatgandakan penjualan mobil listriknya, dengan menjual lebih dari 160.000 unit sepanjang tahun 2020, dengan 87.000 unit di antaranya pada kuartal keempat.\\n\\nDengan penjualan mobil hybrid dan listrik penuh mencapai angka itu, Mercedes-Benz berarti menikmati pertumbuhan 228,8 persen dibanding 2019, sekaligus memenuhi target CO2 Eropa untuk mobil penumpang pada 2020.\\n\\n\"Kami meningkatkan lebih dari tiga kali lipat penjualan mobil plug-in hybrid dan semua-listrik kami. Permintaan untuk kendaraan ini meningkat tajam, terutama menjelang akhir tahun,\" kata Ola Källenius, Ketua Dewan Manajemen Daimler AG dan Mercedes-Benz AG, dikutip Sabtu.\\n\\nDi Mercedes-Benz Cars, pangsa xEV meningkat dari 2 persen pada 2019 menjadi 7,4 persen 2020. Penjualan model plug-in hybrid hampir empat kali lipat menjadi lebih dari 115.000 unit. Sekitar 20.000 EQC (konsumsi listrik gabungan: 21,5 kWh/100 km; emisi CO2 gabungan: 0 g/km) telah diserahkan kepada pelanggan di seluruh dunia.\\n\\nEQV mencapai penjualan sekitar 1.700 kendaraan. Pengiriman model pintar serba listrik berjumlah sekitar 27.000 unit, peningkatan dua digit yang kuat (+45,6%) dibandingkan dengan rekor penjualan sebelumnya pada tahun 2019 (18.400 unit).\\n\\nPada tahun ini, Mercedes-Benz akan meluncurkan empat model baru dari Mercedes-EQ, masing-masing EQA, EQB, EQE dan EQS. Keluarga plug-in hybrid Mercedes-Benz yang saat ini terdiri dari lebih dari 20 varian model, akan diperbarui dengan turunan listrik dari C-Class dan S-Class.\\n\\nUntuk tahun 2021, Mercedes-Benz Cars berharap dapat meningkatkan pangsa xEV menjadi sekitar 13 persen.\\n-\\nTemukan berita lainnya di website #jktinfo (klik link di bio)'}}]}, 'shortcode': 'CJ24knTH4tS', 'edge_media_to_comment': {'count': 71, 'page_info': {'has_next_page': True, 'end_cursor': ''}}, 'edge_media_to_sponsor_user': {'edges': []}, 'comments_disabled': False, 'taken_at_timestamp': 1610266880, 'edge_media_preview_like': {'count': 13499, 'edges': []}, 'owner': {'id': '3054105643', 'username': 'jktinfo'}, 'location': None, 'viewer_has_liked': False, 'viewer_has_saved': False, 'viewer_has_saved_to_collection': False, 'viewer_in_photo_of_you': False, 'viewer_can_reshare': True, 'thumbnail_src': 'https://scontent-sin6-3.cdninstagram.com/v/t51.2885-15/sh0.08/e35/s640x640/137245451_1275325942854504_202792998033228260_n.jpg?_nc_ht=scontent-sin6-3.cdninstagram.com&_nc_cat=1&_nc_ohc=t12PN46sFNMAX-nlrQ6&tp=1&oh=e340740c12d44b0657c3d2e4b591efce&oe=6024FECB', 'thumbnail_resources': [{'src': 'https://scontent-sin6-3.cdninstagram.com/v/t51.2885-15/e35/s150x150/137245451_1275325942854504_202792998033228260_n.jpg?_nc_ht=scontent-sin6-3.cdninstagram.com&_nc_cat=1&_nc_ohc=t12PN46sFNMAX-nlrQ6&tp=1&oh=1e26926c529c7f0a79fdd4206f68449c&oe=6024FBD0', 'config_width': 150, 'config_height': 150}, {'src': 'https://scontent-sin6-3.cdninstagram.com/v/t51.2885-15/e35/s240x240/137245451_1275325942854504_202792998033228260_n.jpg?_nc_ht=scontent-sin6-3.cdninstagram.com&_nc_cat=1&_nc_ohc=t12PN46sFNMAX-nlrQ6&tp=1&oh=887a9208f642198ac7ac4dd6457e215c&oe=60235E4A', 'config_width': 240, 'config_height': 240}, {'src': 'https://scontent-sin6-3.cdninstagram.com/v/t51.2885-15/e35/s320x320/137245451_1275325942854504_202792998033228260_n.jpg?_nc_ht=scontent-sin6-3.cdninstagram.com&_nc_cat=1&_nc_ohc=t12PN46sFNMAX-nlrQ6&tp=1&oh=a5e920a9b2e1b8641a45ff33bb7d82d1&oe=6026CEB8', 'config_width': 320, 'config_height': 320}, {'src': 'https://scontent-sin6-3.cdninstagram.com/v/t51.2885-15/e35/s480x480/137245451_1275325942854504_202792998033228260_n.jpg?_nc_ht=scontent-sin6-3.cdninstagram.com&_nc_cat=1&_nc_ohc=t12PN46sFNMAX-nlrQ6&tp=1&oh=116cc0c2f95f38a88674a762c682f742&oe=6026AC71', 'config_width': 480, 'config_height': 480}, {'src': 'https://scontent-sin6-3.cdninstagram.com/v/t51.2885-15/sh0.08/e35/s640x640/137245451_1275325942854504_202792998033228260_n.jpg?_nc_ht=scontent-sin6-3.cdninstagram.com&_nc_cat=1&_nc_ohc=t12PN46sFNMAX-nlrQ6&tp=1&oh=e340740c12d44b0657c3d2e4b591efce&oe=6024FECB', 'config_width': 640, 'config_height': 640}]}}, {'node': {'__typename': 'GraphSidecar', 'id': '2483394900681286885', 'gating_info': None, 'fact_check_overall_rating': None, 'fact_check_information': None, 'media_overlay_info': None, 'sensitivity_friction_info': None, 'sharing_friction_info': {'should_have_sharing_friction': False, 'bloks_app_url': None}, 'dimensions': {'height': 1080, 'width': 1080}, 'display_url': 'https://scontent-sin6-3.cdninstagram.com/v/t51.2885-15/e35/s1080x1080/136692921_836320576933514_6785051456072233350_n.jpg?_nc_ht=scontent-sin6-3.cdninstagram.com&_nc_cat=1&_nc_ohc=fOr1-DOljIsAX-lFjEW&tp=1&oh=84dc13c7264209952f24346f105eff07&oe=602632C1', 'display_resources': [{'src': 'https://scontent-sin6-3.cdninstagram.com/v/t51.2885-15/sh0.08/e35/s640x640/136692921_836320576933514_6785051456072233350_n.jpg?_nc_ht=scontent-sin6-3.cdninstagram.com&_nc_cat=1&_nc_ohc=fOr1-DOljIsAX-lFjEW&tp=1&oh=46112560e237c853a8b912550647b0b8&oe=60254705', 'config_width': 640, 'config_height': 640}, {'src': 'https://scontent-sin6-3.cdninstagram.com/v/t51.2885-15/sh0.08/e35/s750x750/136692921_836320576933514_6785051456072233350_n.jpg?_nc_ht=scontent-sin6-3.cdninstagram.com&_nc_cat=1&_nc_ohc=fOr1-DOljIsAX-lFjEW&tp=1&oh=e0848e8a2c7f650bb274720a040fc3ea&oe=6026B541', 'config_width': 750, 'config_height': 750}, {'src': 'https://scontent-sin6-3.cdninstagram.com/v/t51.2885-15/e35/s1080x1080/136692921_836320576933514_6785051456072233350_n.jpg?_nc_ht=scontent-sin6-3.cdninstagram.com&_nc_cat=1&_nc_ohc=fOr1-DOljIsAX-lFjEW&tp=1&oh=84dc13c7264209952f24346f105eff07&oe=602632C1', 'config_width': 1080, 'config_height': 1080}], 'is_video': False, 'media_preview': None, 'tracking_token': 'eyJ2ZXJzaW9uIjo1LCJwYXlsb2FkIjp7ImlzX2FuYWx5dGljc190cmFja2VkIjp0cnVlLCJ1dWlkIjoiYjFmOGFjNGYxZTk5NGY2NjhlNzBkMzJiMjY2ZDk2NDYyNDgzMzk0OTAwNjgxMjg2ODg1Iiwic2VydmVyX3Rva2VuIjoiMTYxMDMzMTQ5NjY1M3wyNDgzMzk0OTAwNjgxMjg2ODg1fDg3Mzc1MDA0NjV8MWFmYmZkZGQ0ZmRjNmQ5ODFiM2MyZjgwNTU5OGI5Y2ExMjk5ODc4MDE3MmQzY2Q0NzE5ZDAxMGJjM2IzZTU5MyJ9LCJzaWduYXR1cmUiOiIifQ==', 'edge_media_to_tagged_user': {'edges': []}, 'accessibility_caption': None, 'edge_media_to_caption': {'edges': [{'node': {'text': 'New Arrivals!\\nUdah siap sama koleksi terbaru KF Outdoor dari Brand Gregory, Stanley & Hydrapak special tahun baru?? \\nAda berbagai product baru yang hadir di KF Outdoor. SO...ARE YOU READY?! Jangan sampai kehabisan.!!\\n\\nHappy Shopping...\\n.\\n.\\nProduct Info :\\nKFOUTDOOR\\xa0Store\\nPlaza Semanggi lt 3 no. 8 Jakarta \\n\\nWhatsApp : 0877 7183 4718\\n\\nCatalogue : @kfoutdoorcatalogue\\n\\nInstagram : @kfoutdoor\\xa0\\n\\nFacebook Fanpage : KF Outdoor Store Plaza Semanggi\\n\\nYoutube : KF Outdoor Official\\n\\n\"KF Outdoor The Original International Outdoor Gear\"\\n.\\n#kfoutdoor\\xa0#kfoutdoorcatalogue #kfoutdoorplazasemanggi #theoriginalinternationaloutdoorgear #kfriends #outdoorequipment #outdoorlife #outdoor #adventure #mountaineering #hiking #trekking #traveling #camping'}}]}, 'shortcode': 'CJ2yoEsH-Tl', 'edge_media_to_comment': {'count': 2, 'page_info': {'has_next_page': True, 'end_cursor': ''}}, 'edge_media_to_sponsor_user': {'edges': []}, 'comments_disabled': False, 'taken_at_timestamp': 1610263763, 'edge_media_preview_like': {'count': 1785, 'edges': []}, 'owner': {'id': '3054105643', 'username': 'jktinfo'}, 'location': None, 'viewer_has_liked': False, 'viewer_has_saved': False, 'viewer_has_saved_to_collection': False, 'viewer_in_photo_of_you': False, 'viewer_can_reshare': True, 'thumbnail_src': 'https://scontent-sin6-3.cdninstagram.com/v/t51.2885-15/sh0.08/e35/s640x640/136692921_836320576933514_6785051456072233350_n.jpg?_nc_ht=scontent-sin6-3.cdninstagram.com&_nc_cat=1&_nc_ohc=fOr1-DOljIsAX-lFjEW&tp=1&oh=46112560e237c853a8b912550647b0b8&oe=60254705', 'thumbnail_resources': [{'src': 'https://scontent-sin6-3.cdninstagram.com/v/t51.2885-15/e35/s150x150/136692921_836320576933514_6785051456072233350_n.jpg?_nc_ht=scontent-sin6-3.cdninstagram.com&_nc_cat=1&_nc_ohc=fOr1-DOljIsAX-lFjEW&tp=1&oh=b5814caa9ad5c5df5176ccd10ef93bc2&oe=6023CA02', 'config_width': 150, 'config_height': 150}, {'src': 'https://scontent-sin6-3.cdninstagram.com/v/t51.2885-15/e35/s240x240/136692921_836320576933514_6785051456072233350_n.jpg?_nc_ht=scontent-sin6-3.cdninstagram.com&_nc_cat=1&_nc_ohc=fOr1-DOljIsAX-lFjEW&tp=1&oh=dd064ecd54f02f79a7c2e402feec2ca9&oe=60271208', 'config_width': 240, 'config_height': 240}, {'src': 'https://scontent-sin6-3.cdninstagram.com/v/t51.2885-15/e35/s320x320/136692921_836320576933514_6785051456072233350_n.jpg?_nc_ht=scontent-sin6-3.cdninstagram.com&_nc_cat=1&_nc_ohc=fOr1-DOljIsAX-lFjEW&tp=1&oh=5921e40732cbed0dd67faf5b64be60bf&oe=602459FA', 'config_width': 320, 'config_height': 320}, {'src': 'https://scontent-sin6-3.cdninstagram.com/v/t51.2885-15/e35/s480x480/136692921_836320576933514_6785051456072233350_n.jpg?_nc_ht=scontent-sin6-3.cdninstagram.com&_nc_cat=1&_nc_ohc=fOr1-DOljIsAX-lFjEW&tp=1&oh=2c2a2ba32d38c9bda6e6680030c8cd3b&oe=6026FBBF', 'config_width': 480, 'config_height': 480}, {'src': 'https://scontent-sin6-3.cdninstagram.com/v/t51.2885-15/sh0.08/e35/s640x640/136692921_836320576933514_6785051456072233350_n.jpg?_nc_ht=scontent-sin6-3.cdninstagram.com&_nc_cat=1&_nc_ohc=fOr1-DOljIsAX-lFjEW&tp=1&oh=46112560e237c853a8b912550647b0b8&oe=60254705', 'config_width': 640, 'config_height': 640}], 'edge_sidecar_to_children': {'edges': [{'node': {'__typename': 'GraphImage', 'id': '2483394897761868685', 'gating_info': None, 'fact_check_overall_rating': None, 'fact_check_information': None, 'media_overlay_info': None, 'sensitivity_friction_info': None, 'sharing_friction_info': {'should_have_sharing_friction': False, 'bloks_app_url': None}, 'dimensions': {'height': 1080, 'width': 1080}, 'display_url': 'https://scontent-sin6-3.cdninstagram.com/v/t51.2885-15/e35/s1080x1080/136692921_836320576933514_6785051456072233350_n.jpg?_nc_ht=scontent-sin6-3.cdninstagram.com&_nc_cat=1&_nc_ohc=fOr1-DOljIsAX-lFjEW&tp=1&oh=84dc13c7264209952f24346f105eff07&oe=602632C1', 'display_resources': [{'src': 'https://scontent-sin6-3.cdninstagram.com/v/t51.2885-15/sh0.08/e35/s640x640/136692921_836320576933514_6785051456072233350_n.jpg?_nc_ht=scontent-sin6-3.cdninstagram.com&_nc_cat=1&_nc_ohc=fOr1-DOljIsAX-lFjEW&tp=1&oh=46112560e237c853a8b912550647b0b8&oe=60254705', 'config_width': 640, 'config_height': 640}, {'src': 'https://scontent-sin6-3.cdninstagram.com/v/t51.2885-15/sh0.08/e35/s750x750/136692921_836320576933514_6785051456072233350_n.jpg?_nc_ht=scontent-sin6-3.cdninstagram.com&_nc_cat=1&_nc_ohc=fOr1-DOljIsAX-lFjEW&tp=1&oh=e0848e8a2c7f650bb274720a040fc3ea&oe=6026B541', 'config_width': 750, 'config_height': 750}, {'src': 'https://scontent-sin6-3.cdninstagram.com/v/t51.2885-15/e35/s1080x1080/136692921_836320576933514_6785051456072233350_n.jpg?_nc_ht=scontent-sin6-3.cdninstagram.com&_nc_cat=1&_nc_ohc=fOr1-DOljIsAX-lFjEW&tp=1&oh=84dc13c7264209952f24346f105eff07&oe=602632C1', 'config_width': 1080, 'config_height': 1080}], 'is_video': False, 'media_preview': 'ACoq0aKmSBmGen1qtcwDKAnDFscdAO5Pv0xW91sc9nuO59qWqaxctvLdG3j0IPy49c/yqWKLa0RYkgq2Tzgdcfzx709hasnoq9HCE56mpqjmNFAz/Nf1qBmLH5W2sDz/AIH86czBQWPQVTZozjchJYZHv+vtV27Gd+5OSxbBkO7/AD/jS5YHc77gM9arl4yeUOTx/T19qTMQOPLOQf1/OnZ+QXXmaAYjoaXzG9T+dQROGHygrjjBqSlYLiEZGD0NRG3Q9QT+J/xqY0UAV/JhX2P1P49/SnfZ4z2/U/41PgUlO7FZDUQIMKMCnUUUhn//2Q==', 'tracking_token': 'eyJ2ZXJzaW9uIjo1LCJwYXlsb2FkIjp7ImlzX2FuYWx5dGljc190cmFja2VkIjp0cnVlLCJ1dWlkIjoiYjFmOGFjNGYxZTk5NGY2NjhlNzBkMzJiMjY2ZDk2NDYyNDgzMzk0ODk3NzYxODY4Njg1Iiwic2VydmVyX3Rva2VuIjoiMTYxMDMzMTQ5Njc0MXwyNDgzMzk0ODk3NzYxODY4Njg1fDg3Mzc1MDA0NjV8MDJhNDhhZDcwNmMyYzZhYTI2ZWZkMTBiNzgzYjhjYmY5YWE4MzRmYjUwMWRhNjc2MjRiNTZkOWI4OGNkODc3YSJ9LCJzaWduYXR1cmUiOiIifQ==', 'edge_media_to_tagged_user': {'edges': []}, 'accessibility_caption': None}}, {'node': {'__typename': 'GraphImage', 'id': '2483394897753495855', 'gating_info': None, 'fact_check_overall_rating': None, 'fact_check_information': None, 'media_overlay_info': None, 'sensitivity_friction_info': None, 'sharing_friction_info': {'should_have_sharing_friction': False, 'bloks_app_url': None}, 'dimensions': {'height': 750, 'width': 750}, 'display_url': 'https://scontent-sin6-3.cdninstagram.com/v/t51.2885-15/e35/136976197_441168530633493_3511033554452391664_n.jpg?_nc_ht=scontent-sin6-3.cdninstagram.com&_nc_cat=109&_nc_ohc=9PBoG3mL3tUAX9wwve2&tp=1&oh=315b1b7292429cb10bc8dcd1ff8e82a1&oe=60240520', 'display_resources': [{'src': 'https://scontent-sin6-3.cdninstagram.com/v/t51.2885-15/sh0.08/e35/s640x640/136976197_441168530633493_3511033554452391664_n.jpg?_nc_ht=scontent-sin6-3.cdninstagram.com&_nc_cat=109&_nc_ohc=9PBoG3mL3tUAX9wwve2&tp=1&oh=9a0c395cf922d267b85fd34208d6f3ad&oe=602446A6', 'config_width': 640, 'config_height': 640}, {'src': 'https://scontent-sin6-3.cdninstagram.com/v/t51.2885-15/e35/136976197_441168530633493_3511033554452391664_n.jpg?_nc_ht=scontent-sin6-3.cdninstagram.com&_nc_cat=109&_nc_ohc=9PBoG3mL3tUAX9wwve2&tp=1&oh=315b1b7292429cb10bc8dcd1ff8e82a1&oe=60240520', 'config_width': 750, 'config_height': 750}, {'src': 'https://scontent-sin6-3.cdninstagram.com/v/t51.2885-15/e35/136976197_441168530633493_3511033554452391664_n.jpg?_nc_ht=scontent-sin6-3.cdninstagram.com&_nc_cat=109&_nc_ohc=9PBoG3mL3tUAX9wwve2&tp=1&oh=315b1b7292429cb10bc8dcd1ff8e82a1&oe=60240520', 'config_width': 1080, 'config_height': 1080}], 'is_video': False, 'media_preview': 'ACoq6Omu2xS2M4GcDvTqy2guJSwEoIyQRz37YxVJX3diW2tlckN7nJAfgbui+xI5/ugg1chl8zIwQVODnGegOcfjWOUIba0gyflPJ56cfd9h+XWrAtLkEkSAZ5PJ+nPHpVtR72+8hSl2v9xqEfjj1o/D+VMjDKgDncwHJ9TUtZGpUnuVgGXOATge5xnrVGznYTFGz8+SM+34D8f/AK9PubEzgiSQkbtyccAnse+McdhUVlpz28vmMwfAIAGe/ck9OKBFJm/ec9if5/zrdMp2qSfvAfjx+FUJdPdnLKVwSTzkHntjBqy8LiJQfmZOhHAx6H8Mfzq2SitYSMJnUsWwM4Pfk5P5YFbVY9nbyRzMzD74xuyMD9f84rYqCytN5px5RUeu7+lMUzI2ZGQRjr2Ptz061ZowDwad+mgrddSl5zf89Is9uRTy8rgeUyEj7/OfpjrVvy19B+Qo2hegA+lF/QVvNleIThv3hUr7dfbtVmkpaHqNKx//2Q==', 'tracking_token': 'eyJ2ZXJzaW9uIjo1LCJwYXlsb2FkIjp7ImlzX2FuYWx5dGljc190cmFja2VkIjp0cnVlLCJ1dWlkIjoiYjFmOGFjNGYxZTk5NGY2NjhlNzBkMzJiMjY2ZDk2NDYyNDgzMzk0ODk3NzUzNDk1ODU1Iiwic2VydmVyX3Rva2VuIjoiMTYxMDMzMTQ5Njc0MXwyNDgzMzk0ODk3NzUzNDk1ODU1fDg3Mzc1MDA0NjV8YjY1NTJlM2E4NDRjOWQ3ZWJiY2NiYzQ3M2JmODE5YWIzY2E3NWQ4MWYwODU0NmJhMDg4ODE1MWZlMThjYTVhYSJ9LCJzaWduYXR1cmUiOiIifQ==', 'edge_media_to_tagged_user': {'edges': []}, 'accessibility_caption': None}}]}}}, {'node': {'__typename': 'GraphVideo', 'id': '2483394132318115081', 'gating_info': None, 'fact_check_overall_rating': None, 'fact_check_information': None, 'media_overlay_info': None, 'sensitivity_friction_info': None, 'sharing_friction_info': {'should_have_sharing_friction': False, 'bloks_app_url': None}, 'dimensions': {'height': 750, 'width': 750}, 'display_url': 'https://scontent-sin6-3.cdninstagram.com/v/t51.2885-15/e35/136981682_725425741442119_7567490112446487266_n.jpg?_nc_ht=scontent-sin6-3.cdninstagram.com&_nc_cat=1&_nc_ohc=vEEyV9tBKpgAX8-P0n_&tp=1&oh=f34f746940f300695f446854d9e3f67b&oe=5FFDC14F', 'display_resources': [{'src': 'https://scontent-sin6-3.cdninstagram.com/v/t51.2885-15/sh0.08/e35/s640x640/136981682_725425741442119_7567490112446487266_n.jpg?_nc_ht=scontent-sin6-3.cdninstagram.com&_nc_cat=1&_nc_ohc=vEEyV9tBKpgAX8-P0n_&tp=1&oh=d680fc5ad25bafe9fa9b525a36c631d5&oe=5FFE11B5', 'config_width': 640, 'config_height': 640}, {'src': 'https://scontent-sin6-3.cdninstagram.com/v/t51.2885-15/e35/136981682_725425741442119_7567490112446487266_n.jpg?_nc_ht=scontent-sin6-3.cdninstagram.com&_nc_cat=1&_nc_ohc=vEEyV9tBKpgAX8-P0n_&tp=1&oh=f34f746940f300695f446854d9e3f67b&oe=5FFDC14F', 'config_width': 750, 'config_height': 750}, {'src': 'https://scontent-sin6-3.cdninstagram.com/v/t51.2885-15/e35/136981682_725425741442119_7567490112446487266_n.jpg?_nc_ht=scontent-sin6-3.cdninstagram.com&_nc_cat=1&_nc_ohc=vEEyV9tBKpgAX8-P0n_&tp=1&oh=f34f746940f300695f446854d9e3f67b&oe=5FFDC14F', 'config_width': 1080, 'config_height': 1080}], 'is_video': True, 'media_preview': 'ACoqj82NPljG4e5/l6CkK56A5+o4rRtdPjkXc/zDPAPTI649iRWbPeQRTMI03R9+cfMO6nGR/XrxSGRotxkBgNv06CpZyDjBxtAUn36//WrStreC8j8xC6+ozyD+tYOpRmN9uSyg8Z/n+lAETlkHzMcnt7fWofNb1NOGRszzjnHtnOK2fOh/up/3yv8AhRewJN7EsEU8Rlc/LkNtyc985A+lc2a04IXUnZycfXg8Efjn8KV7RMdxxzz3pOSjuXGDm9CbQ5SkjjsV/DI9aWdW3YOMgDp25PA/PmktWjhwFyG5z7nt7YA7evNQzylWDHvwazcm3ZbG8KfL70uhWkPz5pN1WY0Uli2Dg4H5UpdAcbT/AN81TetrN2IjF25nJK/c0WVY+F/Oqr81Zn+9Vd65731Z3wSS0K5Garyjj8atiqsvQVrHcyqr3G/Ir7yppfOPoPyqNutJW55p/9k=', 'tracking_token': 'eyJ2ZXJzaW9uIjo1LCJwYXlsb2FkIjp7ImlzX2FuYWx5dGljc190cmFja2VkIjp0cnVlLCJ1dWlkIjoiYjFmOGFjNGYxZTk5NGY2NjhlNzBkMzJiMjY2ZDk2NDYyNDgzMzk0MTMyMzE4MTE1MDgxIiwic2VydmVyX3Rva2VuIjoiMTYxMDMzMTQ5NjY1M3wyNDgzMzk0MTMyMzE4MTE1MDgxfDg3Mzc1MDA0NjV8ZTQxMmNmNDc3OWMyYzFiZGE2MzA2MmZhMjdlN2FmZWJjZmZlYzNiYTM2NTNhZWJmNDUzODBlMDY2YWZmNzMxNCJ9LCJzaWduYXR1cmUiOiIifQ==', 'edge_media_to_tagged_user': {'edges': []}, 'dash_info': {'is_dash_eligible': True, 'video_dash_manifest': '<MPD xmlns=\"urn:mpeg:dash:schema:mpd:2011\" minBufferTime=\"PT1.500S\" type=\"static\" mediaPresentationDuration=\"PT0H0M24.822S\" maxSegmentDuration=\"PT0H0M5.000S\" profiles=\"urn:mpeg:dash:profile:isoff-on-demand:2011,http://dashif.org/guidelines/dash264\">\\n <Period duration=\"PT0H0M24.822S\">\\n  <AdaptationSet segmentAlignment=\"true\" maxWidth=\"720\" maxHeight=\"720\" maxFrameRate=\"30\" par=\"1:1\" lang=\"und\" subsegmentAlignment=\"true\" subsegmentStartsWithSAP=\"1\">\\n   <Representation id=\"18067202611253273vd\" mimeType=\"video/mp4\" codecs=\"avc1.4D401F\" width=\"720\" height=\"720\" frameRate=\"30\" sar=\"1:1\" startWithSAP=\"1\" bandwidth=\"435612\" FBQualityClass=\"hd\" FBQualityLabel=\"720w\" FBPlaybackResolutionMos=\"0:100.00,480:83.37,640:81.97,720:79.64\">\\n    <BaseURL>https://scontent-sin6-2.cdninstagram.com/v/t50.2886-16/137523961_245800960231082_7121636206741738999_n.mp4?_nc_ht=scontent-sin6-2.cdninstagram.com&amp;_nc_cat=102&amp;_nc_ohc=kHVLhJmGls8AX8Rw0NB&amp;oh=416e7b52447f500e0d49888d1a74973b&amp;oe=5FFE32EB</BaseURL>\\n    <SegmentBase indexRangeExact=\"true\" indexRange=\"909-1024\" FBFirstSegmentRange=\"1025-78115\" FBSecondSegmentRange=\"78116-186736\" FBPrefetchSegmentRange=\"1025-186736\">\\n      <Initialization range=\"0-908\"/>\\n    </SegmentBase>\\n   </Representation>\\n  <Representation id=\"18067202656253273v\" mimeType=\"video/mp4\" codecs=\"avc1.4D401F\" width=\"284\" height=\"284\" frameRate=\"30\" sar=\"1:1\" startWithSAP=\"1\" bandwidth=\"102914\" FBQualityClass=\"sd\" FBQualityLabel=\"284w\" FBPlaybackResolutionMos=\"0:100.00,480:65.70,640:64.26,720:62.19\">\\n    <BaseURL>https://scontent-sin6-2.cdninstagram.com/v/t50.2886-16/137000064_498401767791495_4916743219776794388_n.mp4?_nc_ht=scontent-sin6-2.cdninstagram.com&amp;_nc_cat=103&amp;_nc_ohc=HQ2gHGEHpDkAX_fXGLP&amp;oh=26062fe73fb5f1a221c77d1c4260ca7e&amp;oe=5FFE20C6</BaseURL>\\n    <SegmentBase indexRangeExact=\"true\" indexRange=\"910-1025\" FBFirstSegmentRange=\"1026-15488\" FBSecondSegmentRange=\"15489-37513\" FBPrefetchSegmentRange=\"1026-37513\">\\n      <Initialization range=\"0-909\"/>\\n    </SegmentBase>\\n   </Representation>\\n  <Representation id=\"18067202632253273v\" mimeType=\"video/mp4\" codecs=\"avc1.4D401F\" width=\"452\" height=\"452\" frameRate=\"30\" sar=\"1:1\" startWithSAP=\"1\" bandwidth=\"216526\" FBQualityClass=\"sd\" FBQualityLabel=\"452w\" FBPlaybackResolutionMos=\"0:100.00,480:75.66,640:74.70,720:73.03\">\\n    <BaseURL>https://scontent-sin6-3.cdninstagram.com/v/t50.2886-16/136979932_749851538841136_5832470324422739412_n.mp4?_nc_ht=scontent-sin6-3.cdninstagram.com&amp;_nc_cat=104&amp;_nc_ohc=hm9K2zZ1E50AX-uO941&amp;oh=1e0931cda64c691f381d845925132920&amp;oe=5FFE31B3</BaseURL>\\n    <SegmentBase indexRangeExact=\"true\" indexRange=\"910-1025\" FBFirstSegmentRange=\"1026-36022\" FBSecondSegmentRange=\"36023-87777\" FBPrefetchSegmentRange=\"1026-87777\">\\n      <Initialization range=\"0-909\"/>\\n    </SegmentBase>\\n   </Representation>\\n  </AdaptationSet>\\n <AdaptationSet segmentAlignment=\"true\" lang=\"und\" subsegmentAlignment=\"true\" subsegmentStartsWithSAP=\"1\">\\n   <Representation id=\"18067202590253273ad\" mimeType=\"audio/mp4\" codecs=\"mp4a.40.29\" audioSamplingRate=\"44100\" startWithSAP=\"1\" bandwidth=\"48462\">\\n    <AudioChannelConfiguration schemeIdUri=\"urn:mpeg:dash:23003:3:audio_channel_configuration:2011\" value=\"1\"/>\\n    <BaseURL>https://scontent-sin6-3.cdninstagram.com/v/t50.2886-16/136671733_3949173508428052_7891825744636302904_n.mp4?_nc_ht=scontent-sin6-3.cdninstagram.com&amp;_nc_cat=1&amp;_nc_ohc=e1fqtyPgtpcAX8xro6y&amp;oh=56889dc11a67d01e780f7d8e760122e0&amp;oe=5FFE5436</BaseURL>\\n    <SegmentBase indexRangeExact=\"true\" indexRange=\"868-1055\" FBFirstSegmentRange=\"1056-12109\" FBSecondSegmentRange=\"12110-24043\" FBPrefetchSegmentRange=\"1056-24043\">\\n      <Initialization range=\"0-867\"/>\\n    </SegmentBase>\\n   </Representation>\\n  </AdaptationSet>\\n </Period>\\n</MPD>', 'number_of_qualities': 3}, 'has_audio': True, 'video_url': 'https://scontent-sin6-1.cdninstagram.com/v/t50.2886-16/136382412_1153529488414811_2907837906987481646_n.mp4?_nc_ht=scontent-sin6-1.cdninstagram.com&_nc_cat=111&_nc_ohc=IC2odGJzirgAX-Agb-X&oe=5FFE40EF&oh=193368c8de4e38b3a8f4283ad20c355d', 'video_view_count': 815258, 'edge_media_to_caption': {'edges': [{'node': {'text': 'Suasana Pencarian melalui Udara dengan menggunakan Helikopter Basarnas AW 139 HR1301 di atas Perairan Teluk Jakarta. (10/1)\\n-\\nSumber: @kansar_jakarta #jktinfo'}}]}, 'shortcode': 'CJ2yc5GHFUJ', 'edge_media_to_comment': {'count': 462, 'page_info': {'has_next_page': True, 'end_cursor': ''}}, 'edge_media_to_sponsor_user': {'edges': []}, 'comments_disabled': False, 'taken_at_timestamp': 1610263685, 'edge_media_preview_like': {'count': 105769, 'edges': []}, 'owner': {'id': '3054105643', 'username': 'jktinfo'}, 'location': None, 'viewer_has_liked': False, 'viewer_has_saved': False, 'viewer_has_saved_to_collection': False, 'viewer_in_photo_of_you': False, 'viewer_can_reshare': True, 'thumbnail_src': 'https://scontent-sin6-3.cdninstagram.com/v/t51.2885-15/sh0.08/e35/s640x640/136981682_725425741442119_7567490112446487266_n.jpg?_nc_ht=scontent-sin6-3.cdninstagram.com&_nc_cat=1&_nc_ohc=vEEyV9tBKpgAX8-P0n_&tp=1&oh=d680fc5ad25bafe9fa9b525a36c631d5&oe=5FFE11B5', 'thumbnail_resources': [{'src': 'https://scontent-sin6-3.cdninstagram.com/v/t51.2885-15/e35/s150x150/136981682_725425741442119_7567490112446487266_n.jpg?_nc_ht=scontent-sin6-3.cdninstagram.com&_nc_cat=1&_nc_ohc=vEEyV9tBKpgAX8-P0n_&tp=1&oh=54c551890c894b4a913820a663287e8c&oe=5FFE29F2', 'config_width': 150, 'config_height': 150}, {'src': 'https://scontent-sin6-3.cdninstagram.com/v/t51.2885-15/e35/s240x240/136981682_725425741442119_7567490112446487266_n.jpg?_nc_ht=scontent-sin6-3.cdninstagram.com&_nc_cat=1&_nc_ohc=vEEyV9tBKpgAX8-P0n_&tp=1&oh=18d631598c2cbedf20618020aa6e63ce&oe=5FFE22B8', 'config_width': 240, 'config_height': 240}, {'src': 'https://scontent-sin6-3.cdninstagram.com/v/t51.2885-15/e35/s320x320/136981682_725425741442119_7567490112446487266_n.jpg?_nc_ht=scontent-sin6-3.cdninstagram.com&_nc_cat=1&_nc_ohc=vEEyV9tBKpgAX8-P0n_&tp=1&oh=52c93437f0d264ff239f7762d5f56d2e&oe=5FFE1A4A', 'config_width': 320, 'config_height': 320}, {'src': 'https://scontent-sin6-3.cdninstagram.com/v/t51.2885-15/e35/s480x480/136981682_725425741442119_7567490112446487266_n.jpg?_nc_ht=scontent-sin6-3.cdninstagram.com&_nc_cat=1&_nc_ohc=vEEyV9tBKpgAX8-P0n_&tp=1&oh=0b7cd7fa7bd57a2914a214d6278a1d29&oe=5FFDD0CF', 'config_width': 480, 'config_height': 480}, {'src': 'https://scontent-sin6-3.cdninstagram.com/v/t51.2885-15/sh0.08/e35/s640x640/136981682_725425741442119_7567490112446487266_n.jpg?_nc_ht=scontent-sin6-3.cdninstagram.com&_nc_cat=1&_nc_ohc=vEEyV9tBKpgAX8-P0n_&tp=1&oh=d680fc5ad25bafe9fa9b525a36c631d5&oe=5FFE11B5', 'config_width': 640, 'config_height': 640}], 'product_type': 'feed'}}, {'node': {'__typename': 'GraphSidecar', 'id': '2483389099967151538', 'gating_info': None, 'fact_check_overall_rating': None, 'fact_check_information': None, 'media_overlay_info': None, 'sensitivity_friction_info': None, 'sharing_friction_info': {'should_have_sharing_friction': False, 'bloks_app_url': None}, 'dimensions': {'height': 718, 'width': 1080}, 'display_url': 'https://scontent-sin6-3.cdninstagram.com/v/t51.2885-15/e35/s1080x1080/136957646_117992526777239_7552762872733015531_n.jpg?_nc_ht=scontent-sin6-3.cdninstagram.com&_nc_cat=1&_nc_ohc=Kai8Tu99NBEAX8Tr6kY&tp=1&oh=bb7e9d44171f9995c06a47ecf5a5dbe5&oe=6024F98A', 'display_resources': [{'src': 'https://scontent-sin6-3.cdninstagram.com/v/t51.2885-15/sh0.08/e35/s640x640/136957646_117992526777239_7552762872733015531_n.jpg?_nc_ht=scontent-sin6-3.cdninstagram.com&_nc_cat=1&_nc_ohc=Kai8Tu99NBEAX8Tr6kY&tp=1&oh=dfaf920968ea8e23241c4fa9a6cae9db&oe=602547CE', 'config_width': 640, 'config_height': 425}, {'src': 'https://scontent-sin6-3.cdninstagram.com/v/t51.2885-15/sh0.08/e35/s750x750/136957646_117992526777239_7552762872733015531_n.jpg?_nc_ht=scontent-sin6-3.cdninstagram.com&_nc_cat=1&_nc_ohc=Kai8Tu99NBEAX8Tr6kY&tp=1&oh=291271ac430f14b2e290d6ea2e62d4b5&oe=60241D8A', 'config_width': 750, 'config_height': 498}, {'src': 'https://scontent-sin6-3.cdninstagram.com/v/t51.2885-15/e35/s1080x1080/136957646_117992526777239_7552762872733015531_n.jpg?_nc_ht=scontent-sin6-3.cdninstagram.com&_nc_cat=1&_nc_ohc=Kai8Tu99NBEAX8Tr6kY&tp=1&oh=bb7e9d44171f9995c06a47ecf5a5dbe5&oe=6024F98A', 'config_width': 1080, 'config_height': 718}], 'is_video': False, 'media_preview': None, 'tracking_token': 'eyJ2ZXJzaW9uIjo1LCJwYXlsb2FkIjp7ImlzX2FuYWx5dGljc190cmFja2VkIjp0cnVlLCJ1dWlkIjoiYjFmOGFjNGYxZTk5NGY2NjhlNzBkMzJiMjY2ZDk2NDYyNDgzMzg5MDk5OTY3MTUxNTM4Iiwic2VydmVyX3Rva2VuIjoiMTYxMDMzMTQ5NjY1NHwyNDgzMzg5MDk5OTY3MTUxNTM4fDg3Mzc1MDA0NjV8ZTg4NzFhYmFiNWJjNzM3YjQwYmYzMjk5MGZkNDc5OGNjNTk3YTIzYTk3ODQ2MzQ1Nzk2NTM4Nzk5YTEzNDg3NCJ9LCJzaWduYXR1cmUiOiIifQ==', 'edge_media_to_tagged_user': {'edges': []}, 'accessibility_caption': None, 'edge_media_to_caption': {'edges': [{'node': {'text': 'Penemuan puing / body part yang diduga bagian dari pesawat Sriwijaya Air SJ - 182, puing yang ditemukan berupa serpihan body part pesawat dan baju anak berwarna pink. Kemudian paket diserahkan kepada tim DVI polri dan KNKT. (10/1)\\n-\\nvia @kansar_jakarta #jktinfo'}}]}, 'shortcode': 'CJ2xTqWnn2y', 'edge_media_to_comment': {'count': 540, 'page_info': {'has_next_page': True, 'end_cursor': ''}}, 'edge_media_to_sponsor_user': {'edges': []}, 'comments_disabled': False, 'taken_at_timestamp': 1610263072, 'edge_media_preview_like': {'count': 129213, 'edges': []}, 'owner': {'id': '3054105643', 'username': 'jktinfo'}, 'location': None, 'viewer_has_liked': False, 'viewer_has_saved': False, 'viewer_has_saved_to_collection': False, 'viewer_in_photo_of_you': False, 'viewer_can_reshare': True, 'thumbnail_src': 'https://scontent-sin6-3.cdninstagram.com/v/t51.2885-15/sh0.08/e35/c241.0.958.958a/s640x640/136957646_117992526777239_7552762872733015531_n.jpg?_nc_ht=scontent-sin6-3.cdninstagram.com&_nc_cat=1&_nc_ohc=Kai8Tu99NBEAX8Tr6kY&tp=1&oh=bbe6b3da57dc109e1deb0b93c4f035a9&oe=60265F5B', 'thumbnail_resources': [{'src': 'https://scontent-sin6-3.cdninstagram.com/v/t51.2885-15/e35/c241.0.958.958a/s150x150/136957646_117992526777239_7552762872733015531_n.jpg?_nc_ht=scontent-sin6-3.cdninstagram.com&_nc_cat=1&_nc_ohc=Kai8Tu99NBEAX8Tr6kY&tp=1&oh=181fa19473b66b7b8663742010aa3edf&oe=6024BC9E', 'config_width': 150, 'config_height': 150}, {'src': 'https://scontent-sin6-3.cdninstagram.com/v/t51.2885-15/e35/c241.0.958.958a/s240x240/136957646_117992526777239_7552762872733015531_n.jpg?_nc_ht=scontent-sin6-3.cdninstagram.com&_nc_cat=1&_nc_ohc=Kai8Tu99NBEAX8Tr6kY&tp=1&oh=6b21263c6d50839e355f1276f2c918bf&oe=6025D41C', 'config_width': 240, 'config_height': 240}, {'src': 'https://scontent-sin6-3.cdninstagram.com/v/t51.2885-15/e35/c241.0.958.958a/s320x320/136957646_117992526777239_7552762872733015531_n.jpg?_nc_ht=scontent-sin6-3.cdninstagram.com&_nc_cat=1&_nc_ohc=Kai8Tu99NBEAX8Tr6kY&tp=1&oh=948dcca6dba5279b121cad52a233f621&oe=60236C66', 'config_width': 320, 'config_height': 320}, {'src': 'https://scontent-sin6-3.cdninstagram.com/v/t51.2885-15/e35/c241.0.958.958a/s480x480/136957646_117992526777239_7552762872733015531_n.jpg?_nc_ht=scontent-sin6-3.cdninstagram.com&_nc_cat=1&_nc_ohc=Kai8Tu99NBEAX8Tr6kY&tp=1&oh=2c81e76e006e610e620797b006096c8e&oe=602735A3', 'config_width': 480, 'config_height': 480}, {'src': 'https://scontent-sin6-3.cdninstagram.com/v/t51.2885-15/sh0.08/e35/c241.0.958.958a/s640x640/136957646_117992526777239_7552762872733015531_n.jpg?_nc_ht=scontent-sin6-3.cdninstagram.com&_nc_cat=1&_nc_ohc=Kai8Tu99NBEAX8Tr6kY&tp=1&oh=bbe6b3da57dc109e1deb0b93c4f035a9&oe=60265F5B', 'config_width': 640, 'config_height': 640}], 'edge_sidecar_to_children': {'edges': [{'node': {'__typename': 'GraphImage', 'id': '2483389096913571791', 'gating_info': None, 'fact_check_overall_rating': None, 'fact_check_information': None, 'media_overlay_info': None, 'sensitivity_friction_info': None, 'sharing_friction_info': {'should_have_sharing_friction': False, 'bloks_app_url': None}, 'dimensions': {'height': 718, 'width': 1080}, 'display_url': 'https://scontent-sin6-3.cdninstagram.com/v/t51.2885-15/e35/s1080x1080/136957646_117992526777239_7552762872733015531_n.jpg?_nc_ht=scontent-sin6-3.cdninstagram.com&_nc_cat=1&_nc_ohc=Kai8Tu99NBEAX8Tr6kY&tp=1&oh=bb7e9d44171f9995c06a47ecf5a5dbe5&oe=6024F98A', 'display_resources': [{'src': 'https://scontent-sin6-3.cdninstagram.com/v/t51.2885-15/sh0.08/e35/s640x640/136957646_117992526777239_7552762872733015531_n.jpg?_nc_ht=scontent-sin6-3.cdninstagram.com&_nc_cat=1&_nc_ohc=Kai8Tu99NBEAX8Tr6kY&tp=1&oh=dfaf920968ea8e23241c4fa9a6cae9db&oe=602547CE', 'config_width': 640, 'config_height': 425}, {'src': 'https://scontent-sin6-3.cdninstagram.com/v/t51.2885-15/sh0.08/e35/s750x750/136957646_117992526777239_7552762872733015531_n.jpg?_nc_ht=scontent-sin6-3.cdninstagram.com&_nc_cat=1&_nc_ohc=Kai8Tu99NBEAX8Tr6kY&tp=1&oh=291271ac430f14b2e290d6ea2e62d4b5&oe=60241D8A', 'config_width': 750, 'config_height': 498}, {'src': 'https://scontent-sin6-3.cdninstagram.com/v/t51.2885-15/e35/s1080x1080/136957646_117992526777239_7552762872733015531_n.jpg?_nc_ht=scontent-sin6-3.cdninstagram.com&_nc_cat=1&_nc_ohc=Kai8Tu99NBEAX8Tr6kY&tp=1&oh=bb7e9d44171f9995c06a47ecf5a5dbe5&oe=6024F98A', 'config_width': 1080, 'config_height': 718}], 'is_video': False, 'media_preview': 'ACobx45HQcEgexrfs3DJvA2knn6juPrWFE6g4bp/nr7VrRSqnyjH06fl/nmpcrGkYcyurFxi2xQxZipJ6Zxzxz19Kurdxso8whSffjPsaoRThxn8P/rfWnNPFglmXCnB9j6H/OKadyGrbl6SLn5aZtakWSNBhsDaM9unpio/taH+JR7Hr+NUI48HmtJv3a5AAJIGefoOvGayz1/Gpy7M+CSRnpUNXaNIuyffp5F23fYwU/MG9fXtj3qSLD5yFzgE/L1PcHnqPUVCBufB6dfxxmmxMRJtzwOP8/lUS697Fwfw9rk8iKckcHGB+HPPrn3qkY88krn61cmP9P61VJpwvbUVRJPQ/9k=', 'tracking_token': 'eyJ2ZXJzaW9uIjo1LCJwYXlsb2FkIjp7ImlzX2FuYWx5dGljc190cmFja2VkIjp0cnVlLCJ1dWlkIjoiYjFmOGFjNGYxZTk5NGY2NjhlNzBkMzJiMjY2ZDk2NDYyNDgzMzg5MDk2OTEzNTcxNzkxIiwic2VydmVyX3Rva2VuIjoiMTYxMDMzMTQ5Njc0MXwyNDgzMzg5MDk2OTEzNTcxNzkxfDg3Mzc1MDA0NjV8MzU3MWE3MTdiOTM4YTdhNDZhNWUzNjg1Mjk5NmJmMjliZDE1NzM2MDZhMGJmMGE4MTY5ZDc4NDIwZWYyMmMzNSJ9LCJzaWduYXR1cmUiOiIifQ==', 'edge_media_to_tagged_user': {'edges': []}, 'accessibility_caption': None}}, {'node': {'__typename': 'GraphImage', 'id': '2483389096947254685', 'gating_info': None, 'fact_check_overall_rating': None, 'fact_check_information': None, 'media_overlay_info': None, 'sensitivity_friction_info': None, 'sharing_friction_info': {'should_have_sharing_friction': False, 'bloks_app_url': None}, 'dimensions': {'height': 718, 'width': 1080}, 'display_url': 'https://scontent-sin6-3.cdninstagram.com/v/t51.2885-15/e35/s1080x1080/137278909_1276930526009987_325762692997836643_n.jpg?_nc_ht=scontent-sin6-3.cdninstagram.com&_nc_cat=1&_nc_ohc=lu8ah4BVs6YAX9M2jom&tp=1&oh=76ee995cb210f8f1b8dc29a8d0a69e35&oe=6024E813', 'display_resources': [{'src': 'https://scontent-sin6-3.cdninstagram.com/v/t51.2885-15/sh0.08/e35/s640x640/137278909_1276930526009987_325762692997836643_n.jpg?_nc_ht=scontent-sin6-3.cdninstagram.com&_nc_cat=1&_nc_ohc=lu8ah4BVs6YAX9M2jom&tp=1&oh=edf06a91be09d62920357db935d0e1e1&oe=60238757', 'config_width': 640, 'config_height': 425}, {'src': 'https://scontent-sin6-3.cdninstagram.com/v/t51.2885-15/sh0.08/e35/s750x750/137278909_1276930526009987_325762692997836643_n.jpg?_nc_ht=scontent-sin6-3.cdninstagram.com&_nc_cat=1&_nc_ohc=lu8ah4BVs6YAX9M2jom&tp=1&oh=49fa28a097e073adac4a602095766603&oe=60242713', 'config_width': 750, 'config_height': 498}, {'src': 'https://scontent-sin6-3.cdninstagram.com/v/t51.2885-15/e35/s1080x1080/137278909_1276930526009987_325762692997836643_n.jpg?_nc_ht=scontent-sin6-3.cdninstagram.com&_nc_cat=1&_nc_ohc=lu8ah4BVs6YAX9M2jom&tp=1&oh=76ee995cb210f8f1b8dc29a8d0a69e35&oe=6024E813', 'config_width': 1080, 'config_height': 718}], 'is_video': False, 'media_preview': 'ACobqJJ5ZSTjEbDIPcHv36dPypZJd0zDqA29T7nuPwxVIrhzzw3Tv17Y/l6cVZEUjHIGOOS3Hb0qHta5tHWV0tO243kKzEk88ZPQ5Jz+v55qJJAD83JxwDz78en1q79lbbwwbvjGAfxyaheAZ9OtLRlPmitupXi3v0Oc8H3x/nr34qQvEODjI61G6/LhT06j+v8Aj60gtpjzjr9aGu7sSpWVrX9dTQtlCpuA5Izkjn8KroskikncW9+Fx3yKLad2wCePoK0MbgQeRWd2m77nTyKUVbRW+/1K8D4AUHOSfYZ9B/SpWY8g89uR09/w/wAmm4COFXgDtUinOc9jSb6opKy5ZamU1pJn5Rx6ZqQ3M4ONp49v/rVauHZFyvBql9pl/vH86te8tUmc8rQdk2vQ/9k=', 'tracking_token': 'eyJ2ZXJzaW9uIjo1LCJwYXlsb2FkIjp7ImlzX2FuYWx5dGljc190cmFja2VkIjp0cnVlLCJ1dWlkIjoiYjFmOGFjNGYxZTk5NGY2NjhlNzBkMzJiMjY2ZDk2NDYyNDgzMzg5MDk2OTQ3MjU0Njg1Iiwic2VydmVyX3Rva2VuIjoiMTYxMDMzMTQ5Njc0MnwyNDgzMzg5MDk2OTQ3MjU0Njg1fDg3Mzc1MDA0NjV8NWM2MDdhZTMzODMxN2FlYjU3ZjZiMzM3NzkwOGQwZjUwMGNiODAyN2NkNDJlOWMzYjhiYzYxNTI2NTcyOTM5MCJ9LCJzaWduYXR1cmUiOiIifQ==', 'edge_media_to_tagged_user': {'edges': []}, 'accessibility_caption': None}}, {'node': {'__typename': 'GraphImage', 'id': '2483389097014252917', 'gating_info': None, 'fact_check_overall_rating': None, 'fact_check_information': None, 'media_overlay_info': None, 'sensitivity_friction_info': None, 'sharing_friction_info': {'should_have_sharing_friction': False, 'bloks_app_url': None}, 'dimensions': {'height': 718, 'width': 1080}, 'display_url': 'https://scontent-sin6-3.cdninstagram.com/v/t51.2885-15/e35/s1080x1080/136971634_800751050797105_7880217024198820159_n.jpg?_nc_ht=scontent-sin6-3.cdninstagram.com&_nc_cat=1&_nc_ohc=pHI9uXFc4F4AX-UhKde&tp=1&oh=8ad8bb1ec8e6af2204d586b8486c5fc7&oe=60259C5A', 'display_resources': [{'src': 'https://scontent-sin6-3.cdninstagram.com/v/t51.2885-15/sh0.08/e35/s640x640/136971634_800751050797105_7880217024198820159_n.jpg?_nc_ht=scontent-sin6-3.cdninstagram.com&_nc_cat=1&_nc_ohc=pHI9uXFc4F4AX-UhKde&tp=1&oh=cf1cb2022a3085edb667a63ba5d578be&oe=6024BE9E', 'config_width': 640, 'config_height': 425}, {'src': 'https://scontent-sin6-3.cdninstagram.com/v/t51.2885-15/sh0.08/e35/s750x750/136971634_800751050797105_7880217024198820159_n.jpg?_nc_ht=scontent-sin6-3.cdninstagram.com&_nc_cat=1&_nc_ohc=pHI9uXFc4F4AX-UhKde&tp=1&oh=4805b8bc47ce29f9f6a0331328f17599&oe=602374DA', 'config_width': 750, 'config_height': 498}, {'src': 'https://scontent-sin6-3.cdninstagram.com/v/t51.2885-15/e35/s1080x1080/136971634_800751050797105_7880217024198820159_n.jpg?_nc_ht=scontent-sin6-3.cdninstagram.com&_nc_cat=1&_nc_ohc=pHI9uXFc4F4AX-UhKde&tp=1&oh=8ad8bb1ec8e6af2204d586b8486c5fc7&oe=60259C5A', 'config_width': 1080, 'config_height': 718}], 'is_video': False, 'media_preview': 'ACoblS7iPAP58fzpftcSnOR0+v8ASsxrZkG51IFNWInBUY3tsX3Pp/8AXpN20LUbq97I1vtsR6HHrkf5z+FVpb9FHync3uCB+OOaoyRMPlPJJx65xxx9OlV3Qq2DwfQjFCYmreZc/tB3ON2332f/AFzUn2l/+eo/791m7P8AIpPmpiOguZF2MDnOMdD6/wCTVPiRFXJGxiRxjndkH8h+prXAFQXFvGF3BQCPSh90VFrZooySEbQI9+wEg54yTzkfrUS3DOGEg+8wYnHPHQfoB9M1ODxU2OBUJtmsoxjZ6kLrE/O3GfQkfpVfyF9/0qR2IbHapBQrsUuWO6/r7z//2Q==', 'tracking_token': 'eyJ2ZXJzaW9uIjo1LCJwYXlsb2FkIjp7ImlzX2FuYWx5dGljc190cmFja2VkIjp0cnVlLCJ1dWlkIjoiYjFmOGFjNGYxZTk5NGY2NjhlNzBkMzJiMjY2ZDk2NDYyNDgzMzg5MDk3MDE0MjUyOTE3Iiwic2VydmVyX3Rva2VuIjoiMTYxMDMzMTQ5Njc0MnwyNDgzMzg5MDk3MDE0MjUyOTE3fDg3Mzc1MDA0NjV8NzkwYThkM2VhZWE5NzAzYmU2OWE5YTk5YTBjMTRkYjFmNWExZjY0ODYwMWM4NDkxNTY0ZTg2NjUxODVkNjY2ZCJ9LCJzaWduYXR1cmUiOiIifQ==', 'edge_media_to_tagged_user': {'edges': []}, 'accessibility_caption': None}}, {'node': {'__typename': 'GraphImage', 'id': '2483389096905169085', 'gating_info': None, 'fact_check_overall_rating': None, 'fact_check_information': None, 'media_overlay_info': None, 'sensitivity_friction_info': None, 'sharing_friction_info': {'should_have_sharing_friction': False, 'bloks_app_url': None}, 'dimensions': {'height': 719, 'width': 1080}, 'display_url': 'https://scontent-sin6-3.cdninstagram.com/v/t51.2885-15/e35/s1080x1080/137621509_240922877631848_6057632436627187201_n.jpg?_nc_ht=scontent-sin6-3.cdninstagram.com&_nc_cat=1&_nc_ohc=grW-6O6_A9UAX_clGLj&tp=1&oh=d527a6ce373a54aa0b2a2de5a2a7a59a&oe=60238CB7', 'display_resources': [{'src': 'https://scontent-sin6-3.cdninstagram.com/v/t51.2885-15/sh0.08/e35/s640x640/137621509_240922877631848_6057632436627187201_n.jpg?_nc_ht=scontent-sin6-3.cdninstagram.com&_nc_cat=1&_nc_ohc=grW-6O6_A9UAX_clGLj&tp=1&oh=5f928393b15a043eafb4aade2169fd64&oe=60250A73', 'config_width': 640, 'config_height': 426}, {'src': 'https://scontent-sin6-3.cdninstagram.com/v/t51.2885-15/sh0.08/e35/s750x750/137621509_240922877631848_6057632436627187201_n.jpg?_nc_ht=scontent-sin6-3.cdninstagram.com&_nc_cat=1&_nc_ohc=grW-6O6_A9UAX_clGLj&tp=1&oh=b95bc4811e3fabf1f6ecfb31003ea977&oe=60266237', 'config_width': 750, 'config_height': 499}, {'src': 'https://scontent-sin6-3.cdninstagram.com/v/t51.2885-15/e35/s1080x1080/137621509_240922877631848_6057632436627187201_n.jpg?_nc_ht=scontent-sin6-3.cdninstagram.com&_nc_cat=1&_nc_ohc=grW-6O6_A9UAX_clGLj&tp=1&oh=d527a6ce373a54aa0b2a2de5a2a7a59a&oe=60238CB7', 'config_width': 1080, 'config_height': 719}], 'is_video': False, 'media_preview': 'ACobvZkHZW+hIP6gj9azZZZVlJRWU9DnkED25BA9qFv1DfIuRjHJ/Mgf0qBrmRiScbeT0zwe2M4oukNRb1SJ5JJZDlCu3A+b7p9cYOcEe3BPeiaZp18uQ4I6EDG5s/0Geh61nphznA4xggc8DHP1p00rNjtt5ovrYfK0uY0bSQwHaxYrznJB59QB/jVr7Wvofy/+vWQZyq88sehqQSqQDzzRe5LVtGRtCm3HJI6bSMc+ufwqSOKM4DK4HcZzx9Qf6VoxfMuSAfwH+FTDjpxRb+rFXS2T+/8A4BmS2kIUGMOpLKMk44Jwev14qobYpCJT97jv/tEfyxW8RnrzUMkKSDawBA6e309Pwp2JuZsVgGRi27JwUORgg9c/0qdbBcDLODjnGKtkbFwvGOBQCaYH/9k=', 'tracking_token': 'eyJ2ZXJzaW9uIjo1LCJwYXlsb2FkIjp7ImlzX2FuYWx5dGljc190cmFja2VkIjp0cnVlLCJ1dWlkIjoiYjFmOGFjNGYxZTk5NGY2NjhlNzBkMzJiMjY2ZDk2NDYyNDgzMzg5MDk2OTA1MTY5MDg1Iiwic2VydmVyX3Rva2VuIjoiMTYxMDMzMTQ5Njc0MnwyNDgzMzg5MDk2OTA1MTY5MDg1fDg3Mzc1MDA0NjV8OGFiY2Q0MDVhNTk1NGJkZDFlNGMwZTBmZTkwYjk1Y2IxODg0ZWJjZTEwYTQzNmY1NTE1Y2VjZjlhNDRiMjhkNiJ9LCJzaWduYXR1cmUiOiIifQ==', 'edge_media_to_tagged_user': {'edges': []}, 'accessibility_caption': None}}, {'node': {'__typename': 'GraphImage', 'id': '2483389096930485644', 'gating_info': None, 'fact_check_overall_rating': None, 'fact_check_information': None, 'media_overlay_info': None, 'sensitivity_friction_info': None, 'sharing_friction_info': {'should_have_sharing_friction': False, 'bloks_app_url': None}, 'dimensions': {'height': 718, 'width': 1080}, 'display_url': 'https://scontent-sin6-3.cdninstagram.com/v/t51.2885-15/e35/s1080x1080/136451078_222119996155195_4273953320031647730_n.jpg?_nc_ht=scontent-sin6-3.cdninstagram.com&_nc_cat=1&_nc_ohc=SwNk44Kdgx4AX8p2Ee6&tp=1&oh=fe496fbdf1fece9639239a9bb7a77e93&oe=6025B920', 'display_resources': [{'src': 'https://scontent-sin6-3.cdninstagram.com/v/t51.2885-15/sh0.08/e35/s640x640/136451078_222119996155195_4273953320031647730_n.jpg?_nc_ht=scontent-sin6-3.cdninstagram.com&_nc_cat=1&_nc_ohc=SwNk44Kdgx4AX8p2Ee6&tp=1&oh=7c2402dfd1112fd36bccefd31f5e36e8&oe=602594DC', 'config_width': 640, 'config_height': 425}, {'src': 'https://scontent-sin6-3.cdninstagram.com/v/t51.2885-15/sh0.08/e35/s750x750/136451078_222119996155195_4273953320031647730_n.jpg?_nc_ht=scontent-sin6-3.cdninstagram.com&_nc_cat=1&_nc_ohc=SwNk44Kdgx4AX8p2Ee6&tp=1&oh=edbfdacd7619a4b4a51b02a443e3bc03&oe=6024F4A0', 'config_width': 750, 'config_height': 498}, {'src': 'https://scontent-sin6-3.cdninstagram.com/v/t51.2885-15/e35/s1080x1080/136451078_222119996155195_4273953320031647730_n.jpg?_nc_ht=scontent-sin6-3.cdninstagram.com&_nc_cat=1&_nc_ohc=SwNk44Kdgx4AX8p2Ee6&tp=1&oh=fe496fbdf1fece9639239a9bb7a77e93&oe=6025B920', 'config_width': 1080, 'config_height': 718}], 'is_video': False, 'media_preview': 'ACob1g7Ku5xnAOSvt7Ht701LuMorknk7eh+8Bk/h6Vjy3ztGxU43EZHoDnhfTPU1nh8KFJbJPAzhfT8/egdrHQ+ejI20ZDEkDgdgeh+mKqtOkkYGSjAjK56Yz0Pb8KxyV3EHJyDyfXtx+nNXFCq3mxdccg89fTNJtK1+o1G97dBjiNi29n5OVwSR0JAb36dOmc9KakMBAJMmSB2H+NNjtzKSchdrgFfZjyevQd6sGYDjP6f/AFqmUmraXLjBSvrYrI2YyoO8AglcYYj269OOmadCFlTuW3YXHXpnkk9wPTtUtlGoXzMAtjqRnv2ByBUkbl5jntgjAAwRxnjHY1WxKVyv9nkVtxwB15YE8cknt/nFRnKklSSD94ev07VYdADgeuPyqsSUc7eMmhO7HyuwfZyZcc7Syjd7PwPx68Z7GtY6Kn/PQ/8AfP8A9es1iSpOTnI/z/h6UgnkH8TfmaLisf/Z', 'tracking_token': 'eyJ2ZXJzaW9uIjo1LCJwYXlsb2FkIjp7ImlzX2FuYWx5dGljc190cmFja2VkIjp0cnVlLCJ1dWlkIjoiYjFmOGFjNGYxZTk5NGY2NjhlNzBkMzJiMjY2ZDk2NDYyNDgzMzg5MDk2OTMwNDg1NjQ0Iiwic2VydmVyX3Rva2VuIjoiMTYxMDMzMTQ5Njc0MnwyNDgzMzg5MDk2OTMwNDg1NjQ0fDg3Mzc1MDA0NjV8ZGI3ODU0ZDU0ODhkYmFlMjZmYTYyNzRhM2ZlMTlkNDU1ODc0NDliMjQwY2ZmMWQ3Y2Y1Yzk2NDhkODVjMjAxYiJ9LCJzaWduYXR1cmUiOiIifQ==', 'edge_media_to_tagged_user': {'edges': []}, 'accessibility_caption': None}}, {'node': {'__typename': 'GraphImage', 'id': '2483389096955713849', 'gating_info': None, 'fact_check_overall_rating': None, 'fact_check_information': None, 'media_overlay_info': None, 'sensitivity_friction_info': None, 'sharing_friction_info': {'should_have_sharing_friction': False, 'bloks_app_url': None}, 'dimensions': {'height': 718, 'width': 1080}, 'display_url': 'https://scontent-sin6-3.cdninstagram.com/v/t51.2885-15/e35/s1080x1080/137103500_1025176761303374_5115425665594983809_n.jpg?_nc_ht=scontent-sin6-3.cdninstagram.com&_nc_cat=1&_nc_ohc=3MgHbvUaDNIAX98r9Wd&tp=1&oh=c0b5e585fb86dd3fba073bb6272c6625&oe=6024F67C', 'display_resources': [{'src': 'https://scontent-sin6-3.cdninstagram.com/v/t51.2885-15/sh0.08/e35/s640x640/137103500_1025176761303374_5115425665594983809_n.jpg?_nc_ht=scontent-sin6-3.cdninstagram.com&_nc_cat=1&_nc_ohc=3MgHbvUaDNIAX98r9Wd&tp=1&oh=98821199cf4dee2adc0d995702aae1f3&oe=60267313', 'config_width': 640, 'config_height': 425}, {'src': 'https://scontent-sin6-3.cdninstagram.com/v/t51.2885-15/sh0.08/e35/s750x750/137103500_1025176761303374_5115425665594983809_n.jpg?_nc_ht=scontent-sin6-3.cdninstagram.com&_nc_cat=1&_nc_ohc=3MgHbvUaDNIAX98r9Wd&tp=1&oh=91aa78bfccf679093dc5dc36e612611c&oe=6023CE2C', 'config_width': 750, 'config_height': 498}, {'src': 'https://scontent-sin6-3.cdninstagram.com/v/t51.2885-15/e35/s1080x1080/137103500_1025176761303374_5115425665594983809_n.jpg?_nc_ht=scontent-sin6-3.cdninstagram.com&_nc_cat=1&_nc_ohc=3MgHbvUaDNIAX98r9Wd&tp=1&oh=c0b5e585fb86dd3fba073bb6272c6625&oe=6024F67C', 'config_width': 1080, 'config_height': 718}], 'is_video': False, 'media_preview': 'ACob2ykYbOFBzyeOeCf0qvPcLBKgLZHzbgTnbx19fz+grDd5Gx+OT7nr9SfWoGYk/PyZOQScEc4y3vj9MGgDZGp5ZlfBRshcA554Gfb39ajWSXDCQ7scrjA5weP5dee1ZYdg2AAVXI4UdPXpkn3q1ESV25wBnn37Y/Cpk2loXFJv3gluisokJJ3dB/CvPbpn3+p71A98dxzjqeg/xpgRmJf7yopOf04z7nP61MJIyMkrk9abdulwST62HeXsUknp29fr6Yqvcr84dgSrBcnrjI6emeuBW15akYwPXoOtDjzRtckg9sn/ABqedGns33RjiElS6HcOgOeQPoDnJHQfWltHUh1PA6j2zxj+VaoiRF2qMCqbopgJwM8HgAd/ahO4nHlIDBgBQcknBHccD+pIx7Vpw6REyKWLhioJx6457VjxyMcjJxVgID/+s1baI5Wf/9k=', 'tracking_token': 'eyJ2ZXJzaW9uIjo1LCJwYXlsb2FkIjp7ImlzX2FuYWx5dGljc190cmFja2VkIjp0cnVlLCJ1dWlkIjoiYjFmOGFjNGYxZTk5NGY2NjhlNzBkMzJiMjY2ZDk2NDYyNDgzMzg5MDk2OTU1NzEzODQ5Iiwic2VydmVyX3Rva2VuIjoiMTYxMDMzMTQ5Njc0MnwyNDgzMzg5MDk2OTU1NzEzODQ5fDg3Mzc1MDA0NjV8ZjEwZWZmNjliNDA3YmYwMTQxZTUxM2YzMzY3ZDM2ZDg2Y2E0ZGI1Y2U1MDM3ZjQ0MDAyMWQ0MDg0YmUzOWJjMiJ9LCJzaWduYXR1cmUiOiIifQ==', 'edge_media_to_tagged_user': {'edges': []}, 'accessibility_caption': None}}, {'node': {'__typename': 'GraphImage', 'id': '2483389096938758278', 'gating_info': None, 'fact_check_overall_rating': None, 'fact_check_information': None, 'media_overlay_info': None, 'sensitivity_friction_info': None, 'sharing_friction_info': {'should_have_sharing_friction': False, 'bloks_app_url': None}, 'dimensions': {'height': 718, 'width': 1080}, 'display_url': 'https://scontent-sin6-3.cdninstagram.com/v/t51.2885-15/e35/s1080x1080/137341588_398015074762560_3921577231749444026_n.jpg?_nc_ht=scontent-sin6-3.cdninstagram.com&_nc_cat=1&_nc_ohc=ItEct7sJPSkAX_O70d3&tp=1&oh=70797f3a67d0593ad2be12e6eb17cb9c&oe=602594B3', 'display_resources': [{'src': 'https://scontent-sin6-3.cdninstagram.com/v/t51.2885-15/sh0.08/e35/s640x640/137341588_398015074762560_3921577231749444026_n.jpg?_nc_ht=scontent-sin6-3.cdninstagram.com&_nc_cat=1&_nc_ohc=ItEct7sJPSkAX_O70d3&tp=1&oh=248034eac387113c945b244f894034db&oe=60248677', 'config_width': 640, 'config_height': 425}, {'src': 'https://scontent-sin6-3.cdninstagram.com/v/t51.2885-15/sh0.08/e35/s750x750/137341588_398015074762560_3921577231749444026_n.jpg?_nc_ht=scontent-sin6-3.cdninstagram.com&_nc_cat=1&_nc_ohc=ItEct7sJPSkAX_O70d3&tp=1&oh=02ab800c29d61e36b44af9871375a7a8&oe=60252633', 'config_width': 750, 'config_height': 498}, {'src': 'https://scontent-sin6-3.cdninstagram.com/v/t51.2885-15/e35/s1080x1080/137341588_398015074762560_3921577231749444026_n.jpg?_nc_ht=scontent-sin6-3.cdninstagram.com&_nc_cat=1&_nc_ohc=ItEct7sJPSkAX_O70d3&tp=1&oh=70797f3a67d0593ad2be12e6eb17cb9c&oe=602594B3', 'config_width': 1080, 'config_height': 718}], 'is_video': False, 'media_preview': 'ACobtTjJk7fvITn8hTTxYkHgYIz/AMDNUbiYy5b+E7Sffb/nFQGYspQk4PAUHgZPp7U7oLNbmxb3LTD5cEIVAyT2HOMVbgMvJYhsngHjA9Bgc1hl2AwGwNu09unGeO/HPqKabiSOPywSU6YHU57buoHbiknfYbi1uXpChZxj5mPuOCQBk/TpUJABwI8jt0/xqoMqDvOAvpkn8+/9Krfvu2SO3FNPsJxa3JiHzgA7QDgY9APbvk0xoWHGDz7Ht0/Oulbng9DVB4xvA55J7n/GlYd27GfIwHy98/z56VFkYBPbmlmGJn+n+FM6kA9Dn/0EmhKysU227sJHBQgHnPTnPfn6VdW5VQAM4HHSqEagwl/4t4GfYqTj8xUoUGspRVkjSM223of/2Q==', 'tracking_token': 'eyJ2ZXJzaW9uIjo1LCJwYXlsb2FkIjp7ImlzX2FuYWx5dGljc190cmFja2VkIjp0cnVlLCJ1dWlkIjoiYjFmOGFjNGYxZTk5NGY2NjhlNzBkMzJiMjY2ZDk2NDYyNDgzMzg5MDk2OTM4NzU4Mjc4Iiwic2VydmVyX3Rva2VuIjoiMTYxMDMzMTQ5Njc0MnwyNDgzMzg5MDk2OTM4NzU4Mjc4fDg3Mzc1MDA0NjV8MTViNjI1NGQ4YzNhMDMxODA0NGFkY2MxMzMyYWQwNGY2NGQ3OTJmOGE5ZDk3YTM2M2ZkZDI4YmIyMWMzYjFkYiJ9LCJzaWduYXR1cmUiOiIifQ==', 'edge_media_to_tagged_user': {'edges': []}, 'accessibility_caption': None}}]}}}, {'node': {'__typename': 'GraphVideo', 'id': '2483371686844407140', 'gating_info': None, 'fact_check_overall_rating': None, 'fact_check_information': None, 'media_overlay_info': None, 'sensitivity_friction_info': None, 'sharing_friction_info': {'should_have_sharing_friction': False, 'bloks_app_url': None}, 'dimensions': {'height': 640, 'width': 640}, 'display_url': 'https://scontent-sin6-3.cdninstagram.com/v/t51.2885-15/e35/136111574_192392679303299_8234551178258666178_n.jpg?_nc_ht=scontent-sin6-3.cdninstagram.com&_nc_cat=1&_nc_ohc=r3cpMdiprfQAX_RrB2G&tp=1&oh=ce7e9cda0c5421204f139330338193f5&oe=5FFDD404', 'display_resources': [{'src': 'https://scontent-sin6-3.cdninstagram.com/v/t51.2885-15/e35/136111574_192392679303299_8234551178258666178_n.jpg?_nc_ht=scontent-sin6-3.cdninstagram.com&_nc_cat=1&_nc_ohc=r3cpMdiprfQAX_RrB2G&tp=1&oh=ce7e9cda0c5421204f139330338193f5&oe=5FFDD404', 'config_width': 640, 'config_height': 640}, {'src': 'https://scontent-sin6-3.cdninstagram.com/v/t51.2885-15/e35/136111574_192392679303299_8234551178258666178_n.jpg?_nc_ht=scontent-sin6-3.cdninstagram.com&_nc_cat=1&_nc_ohc=r3cpMdiprfQAX_RrB2G&tp=1&oh=ce7e9cda0c5421204f139330338193f5&oe=5FFDD404', 'config_width': 750, 'config_height': 750}, {'src': 'https://scontent-sin6-3.cdninstagram.com/v/t51.2885-15/e35/136111574_192392679303299_8234551178258666178_n.jpg?_nc_ht=scontent-sin6-3.cdninstagram.com&_nc_cat=1&_nc_ohc=r3cpMdiprfQAX_RrB2G&tp=1&oh=ce7e9cda0c5421204f139330338193f5&oe=5FFDD404', 'config_width': 1080, 'config_height': 1080}], 'is_video': True, 'media_preview': 'ACoq0brfkFW2jHIHeo4EYuGZ2OO3OD1/Dipon3/h+dSeWBzkk/Xis395akS4DZHcfXr/AFp2wHH/ANeq8pZlJXHt71BFlvvZX8ePw/8Ar1aVyGzQ2D/Of8aaRUDRYHXP41BtquW4c1iWONUJOMmnuSeR/n/61Vlnbvg0/fG/3gaLInYk3Z4498c/rTsmhdh6Gn9KpWWwt9xuKZtFPbio91MCCZiCRuORwAB1PfPH5enWrP2dKimJAb/PapbfmNfpXPqup09Lh9nSj7OnvU1FFwKkpEZCqdmO55H09M1GJpz0UEeuOvv+NMiJIYdsn+dadHUHpof/2Q==', 'tracking_token': 'eyJ2ZXJzaW9uIjo1LCJwYXlsb2FkIjp7ImlzX2FuYWx5dGljc190cmFja2VkIjp0cnVlLCJ1dWlkIjoiYjFmOGFjNGYxZTk5NGY2NjhlNzBkMzJiMjY2ZDk2NDYyNDgzMzcxNjg2ODQ0NDA3MTQwIiwic2VydmVyX3Rva2VuIjoiMTYxMDMzMTQ5NjY1NHwyNDgzMzcxNjg2ODQ0NDA3MTQwfDg3Mzc1MDA0NjV8NDg4MTU0NDRjODcxM2Q3OWFlYTgzM2Q0MTA4NDJmZjQ2ZjJiNmJhYTI2MTg5MmRhZmNhN2FjYzA1YmY1ZjQwOSJ9LCJzaWduYXR1cmUiOiIifQ==', 'edge_media_to_tagged_user': {'edges': [{'node': {'user': {'full_name': 'All about Korean Product', 'id': '10455342679', 'is_verified': False, 'profile_pic_url': 'https://scontent-sin6-1.cdninstagram.com/v/t51.2885-19/s150x150/125464873_663693250891549_8393140281412231012_n.jpg?_nc_ht=scontent-sin6-1.cdninstagram.com&_nc_cat=101&_nc_ohc=_4tLujnA9WAAX91njzg&tp=1&oh=b8049d0ce548bfd6397e67a29aa5de74&oe=60244CF5', 'username': 'korinus_id'}, 'x': 0.0, 'y': 0.0}}]}, 'dash_info': {'is_dash_eligible': True, 'video_dash_manifest': '<MPD xmlns=\"urn:mpeg:dash:schema:mpd:2011\" minBufferTime=\"PT1.500S\" type=\"static\" mediaPresentationDuration=\"PT0H0M47.113S\" maxSegmentDuration=\"PT0H0M5.000S\" profiles=\"urn:mpeg:dash:profile:isoff-on-demand:2011,http://dashif.org/guidelines/dash264\">\\n <Period duration=\"PT0H0M47.113S\">\\n  <AdaptationSet segmentAlignment=\"true\" maxWidth=\"540\" maxHeight=\"540\" maxFrameRate=\"30\" par=\"1:1\" lang=\"und\" subsegmentAlignment=\"true\" subsegmentStartsWithSAP=\"1\">\\n   <Representation id=\"18088756900225896vd\" mimeType=\"video/mp4\" codecs=\"avc1.4D401F\" width=\"540\" height=\"540\" frameRate=\"30\" sar=\"1:1\" startWithSAP=\"1\" bandwidth=\"682504\" FBQualityClass=\"sd\" FBQualityLabel=\"540w\" FBPlaybackResolutionMos=\"0:100.00,480:85.09,540:78.52\">\\n    <BaseURL>https://scontent-sin6-2.cdninstagram.com/v/t50.2886-16/137010222_1838993432922317_2234744954317689813_n.mp4?_nc_ht=scontent-sin6-2.cdninstagram.com&amp;_nc_cat=105&amp;_nc_ohc=7Vly36314gQAX97HS7p&amp;oh=8c1e1b7e15e1182281726478db3823a8&amp;oe=5FFE5220</BaseURL>\\n    <SegmentBase indexRangeExact=\"true\" indexRange=\"911-1074\" FBFirstSegmentRange=\"1075-157617\" FBSecondSegmentRange=\"157618-318986\" FBPrefetchSegmentRange=\"1075-318986\">\\n      <Initialization range=\"0-910\"/>\\n    </SegmentBase>\\n   </Representation>\\n  <Representation id=\"18088756948225896v\" mimeType=\"video/mp4\" codecs=\"avc1.4D401F\" width=\"482\" height=\"482\" frameRate=\"30\" sar=\"1:1\" startWithSAP=\"1\" bandwidth=\"156324\" FBQualityClass=\"sd\" FBQualityLabel=\"482w\" FBPlaybackResolutionMos=\"0:100.00,480:50.84,540:41.83\">\\n    <BaseURL>https://scontent-sin6-2.cdninstagram.com/v/t50.2886-16/136682269_157164875915912_3627257557184305848_n.mp4?_nc_ht=scontent-sin6-2.cdninstagram.com&amp;_nc_cat=108&amp;_nc_ohc=dbsfuUQzFS0AX8ccJ0X&amp;oh=5a554f496fc5dfe94688ab33ce12cfad&amp;oe=5FFDDAB0</BaseURL>\\n    <SegmentBase indexRangeExact=\"true\" indexRange=\"912-1075\" FBFirstSegmentRange=\"1076-43026\" FBSecondSegmentRange=\"43027-90108\" FBPrefetchSegmentRange=\"1076-90108\">\\n      <Initialization range=\"0-911\"/>\\n    </SegmentBase>\\n   </Representation>\\n  <Representation id=\"18088756936225896v\" mimeType=\"video/mp4\" codecs=\"avc1.4D401F\" width=\"540\" height=\"540\" frameRate=\"30\" sar=\"1:1\" startWithSAP=\"1\" bandwidth=\"321159\" FBQualityClass=\"sd\" FBQualityLabel=\"540w\" FBPlaybackResolutionMos=\"0:100.00,480:70.78,540:63.68\">\\n    <BaseURL>https://scontent-sin6-3.cdninstagram.com/v/t50.2886-16/137088068_181599290369538_7269601282888254038_n.mp4?_nc_ht=scontent-sin6-3.cdninstagram.com&amp;_nc_cat=106&amp;_nc_ohc=sNCsX-gM7mcAX8IhY5I&amp;oh=6717c2efa22a769103d3c1c924fc3af4&amp;oe=5FFDEBE3</BaseURL>\\n    <SegmentBase indexRangeExact=\"true\" indexRange=\"911-1074\" FBFirstSegmentRange=\"1075-81186\" FBSecondSegmentRange=\"81187-168021\" FBPrefetchSegmentRange=\"1075-168021\">\\n      <Initialization range=\"0-910\"/>\\n    </SegmentBase>\\n   </Representation>\\n  </AdaptationSet>\\n <AdaptationSet segmentAlignment=\"true\" lang=\"und\" subsegmentAlignment=\"true\" subsegmentStartsWithSAP=\"1\">\\n   <Representation id=\"18088756888225896ad\" mimeType=\"audio/mp4\" codecs=\"mp4a.40.29\" audioSamplingRate=\"44100\" startWithSAP=\"1\" bandwidth=\"56221\">\\n    <AudioChannelConfiguration schemeIdUri=\"urn:mpeg:dash:23003:3:audio_channel_configuration:2011\" value=\"1\"/>\\n    <BaseURL>https://scontent-sin6-3.cdninstagram.com/v/t50.2886-16/136074267_310377287059409_9029099736082103322_n.mp4?_nc_ht=scontent-sin6-3.cdninstagram.com&amp;_nc_cat=1&amp;_nc_ohc=vBCeyVwkdfEAX8G4MzP&amp;oh=b6e6fb8deaa3e1c551d006302ec34e5f&amp;oe=5FFDD03B</BaseURL>\\n    <SegmentBase indexRangeExact=\"true\" indexRange=\"868-1187\" FBFirstSegmentRange=\"1188-14607\" FBSecondSegmentRange=\"14608-29402\" FBPrefetchSegmentRange=\"1188-29402\">\\n      <Initialization range=\"0-867\"/>\\n    </SegmentBase>\\n   </Representation>\\n  </AdaptationSet>\\n </Period>\\n</MPD>', 'number_of_qualities': 3}, 'has_audio': True, 'video_url': 'https://scontent-sin6-3.cdninstagram.com/v/t50.2886-16/137547478_905848716891256_4192564691418673428_n.mp4?_nc_ht=scontent-sin6-3.cdninstagram.com&_nc_cat=104&_nc_ohc=LvcRYlY2blIAX-7otZO&oe=5FFE0EC4&oh=fb7a64c496006449affd308f37cfd12a', 'video_view_count': 34137, 'edge_media_to_caption': {'edges': [{'node': {'text': 'Masak tokpoki cuma butuh waktu 3 menit ?\\n.\\n.\\nSerius secepat itu? \\n.\\n.\\n\\nYuk kita praktekin\\n- Langkah pertama siapkan air 100 ml\\n- Masukan Korinus TokPoki \\n- Masukan saos Korinus TokPoki Cheese nya\\n- Tambahkan Topping sesuai selera kamu\\n\\nWhoala... Jadi deh TokPoki Rasa Cheese nya..\\nRasa Keju berasa banget loh, cocok banget buat kalian yang suka keju dan ga punya banyak waktu karena segudang kegiatan\\n\\nYuk follow dan kepoin instagramnya @korinus_id\\n.\\n.\\nTersedia di:\\n* Offline Market : Farmers Market, Diamond, Lulu, Aeon, GrandLucky, GS Supermarket, Market City, Ranch Market, Total Buah dan masih banyak lagi\\n* Online Market: Shopee, Tokopedia, Lazada, Bukalapak,\\xa0Blibli.com. JD ID\\n.\\n.\\nSelamat mencoba~~'}}]}, 'shortcode': 'CJ2tWRHn51k', 'edge_media_to_comment': {'count': 6, 'page_info': {'has_next_page': True, 'end_cursor': ''}}, 'edge_media_to_sponsor_user': {'edges': []}, 'comments_disabled': False, 'taken_at_timestamp': 1610261012, 'edge_media_preview_like': {'count': 1005, 'edges': []}, 'owner': {'id': '3054105643', 'username': 'jktinfo'}, 'location': None, 'viewer_has_liked': False, 'viewer_has_saved': False, 'viewer_has_saved_to_collection': False, 'viewer_in_photo_of_you': False, 'viewer_can_reshare': True, 'thumbnail_src': 'https://scontent-sin6-3.cdninstagram.com/v/t51.2885-15/e35/136111574_192392679303299_8234551178258666178_n.jpg?_nc_ht=scontent-sin6-3.cdninstagram.com&_nc_cat=1&_nc_ohc=r3cpMdiprfQAX_RrB2G&tp=1&oh=ce7e9cda0c5421204f139330338193f5&oe=5FFDD404', 'thumbnail_resources': [{'src': 'https://scontent-sin6-3.cdninstagram.com/v/t51.2885-15/e35/s150x150/136111574_192392679303299_8234551178258666178_n.jpg?_nc_ht=scontent-sin6-3.cdninstagram.com&_nc_cat=1&_nc_ohc=r3cpMdiprfQAX_RrB2G&tp=1&oh=10916294f6686fd8227c2a82f92a4f33&oe=5FFE457D', 'config_width': 150, 'config_height': 150}, {'src': 'https://scontent-sin6-3.cdninstagram.com/v/t51.2885-15/e35/s240x240/136111574_192392679303299_8234551178258666178_n.jpg?_nc_ht=scontent-sin6-3.cdninstagram.com&_nc_cat=1&_nc_ohc=r3cpMdiprfQAX_RrB2G&tp=1&oh=7bc5a9c87d96ce23ab20c150fd8ec4db&oe=5FFE307B', 'config_width': 240, 'config_height': 240}, {'src': 'https://scontent-sin6-3.cdninstagram.com/v/t51.2885-15/e35/s320x320/136111574_192392679303299_8234551178258666178_n.jpg?_nc_ht=scontent-sin6-3.cdninstagram.com&_nc_cat=1&_nc_ohc=r3cpMdiprfQAX_RrB2G&tp=1&oh=e2ab25bf1b021ddfa0d87277170d7617&oe=5FFE3845', 'config_width': 320, 'config_height': 320}, {'src': 'https://scontent-sin6-3.cdninstagram.com/v/t51.2885-15/e35/s480x480/136111574_192392679303299_8234551178258666178_n.jpg?_nc_ht=scontent-sin6-3.cdninstagram.com&_nc_cat=1&_nc_ohc=r3cpMdiprfQAX_RrB2G&tp=1&oh=5190966758170ac7823661647e4d218a&oe=5FFE4844', 'config_width': 480, 'config_height': 480}, {'src': 'https://scontent-sin6-3.cdninstagram.com/v/t51.2885-15/e35/136111574_192392679303299_8234551178258666178_n.jpg?_nc_ht=scontent-sin6-3.cdninstagram.com&_nc_cat=1&_nc_ohc=r3cpMdiprfQAX_RrB2G&tp=1&oh=ce7e9cda0c5421204f139330338193f5&oe=5FFDD404', 'config_width': 640, 'config_height': 640}], 'product_type': 'feed'}}, {'node': {'__typename': 'GraphVideo', 'id': '2483345707551743681', 'gating_info': None, 'fact_check_overall_rating': None, 'fact_check_information': None, 'media_overlay_info': None, 'sensitivity_friction_info': None, 'sharing_friction_info': {'should_have_sharing_friction': False, 'bloks_app_url': None}, 'dimensions': {'height': 480, 'width': 480}, 'display_url': 'https://scontent-sin6-3.cdninstagram.com/v/t51.2885-15/e35/136984034_163049135199712_3118731079279695099_n.jpg?_nc_ht=scontent-sin6-3.cdninstagram.com&_nc_cat=1&_nc_ohc=sSqQuPVgS8wAX9LjiQ6&tp=1&oh=204387aadea51a5831e764e34adfb05f&oe=5FFE1607', 'display_resources': [{'src': 'https://scontent-sin6-3.cdninstagram.com/v/t51.2885-15/e35/136984034_163049135199712_3118731079279695099_n.jpg?_nc_ht=scontent-sin6-3.cdninstagram.com&_nc_cat=1&_nc_ohc=sSqQuPVgS8wAX9LjiQ6&tp=1&oh=204387aadea51a5831e764e34adfb05f&oe=5FFE1607', 'config_width': 640, 'config_height': 640}, {'src': 'https://scontent-sin6-3.cdninstagram.com/v/t51.2885-15/e35/136984034_163049135199712_3118731079279695099_n.jpg?_nc_ht=scontent-sin6-3.cdninstagram.com&_nc_cat=1&_nc_ohc=sSqQuPVgS8wAX9LjiQ6&tp=1&oh=204387aadea51a5831e764e34adfb05f&oe=5FFE1607', 'config_width': 750, 'config_height': 750}, {'src': 'https://scontent-sin6-3.cdninstagram.com/v/t51.2885-15/e35/136984034_163049135199712_3118731079279695099_n.jpg?_nc_ht=scontent-sin6-3.cdninstagram.com&_nc_cat=1&_nc_ohc=sSqQuPVgS8wAX9LjiQ6&tp=1&oh=204387aadea51a5831e764e34adfb05f&oe=5FFE1607', 'config_width': 1080, 'config_height': 1080}], 'is_video': True, 'media_preview': 'ACoqxEztYqODwfanM5CgHGcD64HH+fpTQwXOMgH0/wA81Is0XR0J9880hj7YkyqeuXX+Yq5elvtThM5z2/3RmmQIFlVVHyMVYH6Hp/Spb2YR3bbgSAcnb9KasxO6V7XZWgBd9vC+5rUFwFG3AOOPyqq5S5dxjbgLjBzjj1HH1qQIo4wKmUknYuEXJXejMLFRmpM8VF3qzMvWd15TBW5XcD7g9Py9q0roN9ubHRsD9BWbDAtw4WPqBuz9PWtK+Ei3bMoypAPryF/rUeZT7Ec2ItwXPX889c1WDGrEyORuYFc478/X2HamFBStqaU2o3uZeKjNSvUfetDE6PTLFY8Sht5ccYHGP8fyrWeHe5OcA4yB9Kw/D7Hc65OMA47d66U1NuoyhcBEAjzgtkj3x1/n0rN2MO2f+BVe1Ifuye4Ix7fSq69B9KAP/9k=', 'tracking_token': 'eyJ2ZXJzaW9uIjo1LCJwYXlsb2FkIjp7ImlzX2FuYWx5dGljc190cmFja2VkIjp0cnVlLCJ1dWlkIjoiYjFmOGFjNGYxZTk5NGY2NjhlNzBkMzJiMjY2ZDk2NDYyNDgzMzQ1NzA3NTUxNzQzNjgxIiwic2VydmVyX3Rva2VuIjoiMTYxMDMzMTQ5NjY1NHwyNDgzMzQ1NzA3NTUxNzQzNjgxfDg3Mzc1MDA0NjV8ZDdlZmY1MjAyNzk4OTJkNjNkOTJkMzQxZmNlYThjMmUwODllMThiYzMwMzc5N2FlYmRkOWJkZmM1YTkyMTI1NyJ9LCJzaWduYXR1cmUiOiIifQ==', 'edge_media_to_tagged_user': {'edges': [{'node': {'user': {'full_name': 'SUMPAH \"Susu Tumpah\"', 'id': '40325589693', 'is_verified': False, 'profile_pic_url': 'https://scontent-sin6-3.cdninstagram.com/v/t51.2885-19/s150x150/118004943_2729433433971753_1793270002697850224_n.jpg?_nc_ht=scontent-sin6-3.cdninstagram.com&_nc_cat=109&_nc_ohc=s_QpMiAt36cAX-5wtBY&tp=1&oh=3177c9c23ec00828470e87826ecaba98&oe=602675E9', 'username': 'susu_tumpah'}, 'x': 0.0, 'y': 0.0}}]}, 'dash_info': {'is_dash_eligible': True, 'video_dash_manifest': '<MPD xmlns=\"urn:mpeg:dash:schema:mpd:2011\" minBufferTime=\"PT1.500S\" type=\"static\" mediaPresentationDuration=\"PT0H0M27.051S\" maxSegmentDuration=\"PT0H0M5.000S\" profiles=\"urn:mpeg:dash:profile:isoff-on-demand:2011,http://dashif.org/guidelines/dash264\">\\n <Period duration=\"PT0H0M27.051S\">\\n  <AdaptationSet segmentAlignment=\"true\" maxWidth=\"480\" maxHeight=\"480\" maxFrameRate=\"30\" par=\"1:1\" lang=\"und\" subsegmentAlignment=\"true\" subsegmentStartsWithSAP=\"1\">\\n   <Representation id=\"17883167896959310vd\" mimeType=\"video/mp4\" codecs=\"avc1.4D401F\" width=\"480\" height=\"480\" frameRate=\"30\" sar=\"1:1\" startWithSAP=\"1\" bandwidth=\"353533\" FBQualityClass=\"sd\" FBQualityLabel=\"480w\" FBPlaybackResolutionMos=\"0:100.00,480:77.11\">\\n    <BaseURL>https://scontent-sin6-3.cdninstagram.com/v/t50.2886-16/137005433_397313044666942_8188015219239711885_n.mp4?_nc_ht=scontent-sin6-3.cdninstagram.com&amp;_nc_cat=110&amp;_nc_ohc=CwO1OmwEQAEAX8BTCj3&amp;oh=ab50745a8eff5873ba74b61c14cce0b5&amp;oe=5FFDFC1A</BaseURL>\\n    <SegmentBase indexRangeExact=\"true\" indexRange=\"909-1024\" FBFirstSegmentRange=\"1025-47820\" FBSecondSegmentRange=\"47821-178360\" FBPrefetchSegmentRange=\"1025-178360\">\\n      <Initialization range=\"0-908\"/>\\n    </SegmentBase>\\n   </Representation>\\n  <Representation id=\"17883167908959310v\" mimeType=\"video/mp4\" codecs=\"avc1.4D401F\" width=\"480\" height=\"480\" frameRate=\"30\" sar=\"1:1\" startWithSAP=\"1\" bandwidth=\"173890\" FBQualityClass=\"sd\" FBQualityLabel=\"480w\" FBPlaybackResolutionMos=\"0:100.00,480:63.46\">\\n    <BaseURL>https://scontent-sin6-1.cdninstagram.com/v/t50.2886-16/136476769_395234388220171_6697435182964009942_n.mp4?_nc_ht=scontent-sin6-1.cdninstagram.com&amp;_nc_cat=107&amp;_nc_ohc=invKPfb5Rk0AX9l0JJj&amp;oh=52142bb08150d3add356fbb7fa168ea3&amp;oe=5FFE0F70</BaseURL>\\n    <SegmentBase indexRangeExact=\"true\" indexRange=\"910-1025\" FBFirstSegmentRange=\"1026-26746\" FBSecondSegmentRange=\"26747-99411\" FBPrefetchSegmentRange=\"1026-99411\">\\n      <Initialization range=\"0-909\"/>\\n    </SegmentBase>\\n   </Representation>\\n  </AdaptationSet>\\n <AdaptationSet segmentAlignment=\"true\" lang=\"und\" subsegmentAlignment=\"true\" subsegmentStartsWithSAP=\"1\">\\n   <Representation id=\"17883167878959310ad\" mimeType=\"audio/mp4\" codecs=\"mp4a.40.29\" audioSamplingRate=\"44100\" startWithSAP=\"1\" bandwidth=\"48952\">\\n    <AudioChannelConfiguration schemeIdUri=\"urn:mpeg:dash:23003:3:audio_channel_configuration:2011\" value=\"1\"/>\\n    <BaseURL>https://scontent-sin6-3.cdninstagram.com/v/t50.2886-16/136384598_223562729315920_2344129750070715399_n.mp4?_nc_ht=scontent-sin6-3.cdninstagram.com&amp;_nc_cat=1&amp;_nc_ohc=kQEOgmCU9r0AX_G0sQb&amp;oh=9518169615a132cee15dcc830f85ae13&amp;oe=5FFE4AA0</BaseURL>\\n    <SegmentBase indexRangeExact=\"true\" indexRange=\"868-1067\" FBFirstSegmentRange=\"1068-12366\" FBSecondSegmentRange=\"12367-25250\" FBPrefetchSegmentRange=\"1068-25250\">\\n      <Initialization range=\"0-867\"/>\\n    </SegmentBase>\\n   </Representation>\\n  </AdaptationSet>\\n </Period>\\n</MPD>', 'number_of_qualities': 2}, 'has_audio': True, 'video_url': 'https://scontent-sin6-3.cdninstagram.com/v/t50.2886-16/137560849_454093525620621_6767685276511530260_n.mp4?_nc_ht=scontent-sin6-3.cdninstagram.com&_nc_cat=109&_nc_ohc=QNyiGwKRUEEAX9qO6_i&oe=5FFE1A23&oh=762aba90692534e727f2d986e2d8a06a', 'video_view_count': 103979, 'edge_media_to_caption': {'edges': [{'node': {'text': '*** JAJANAN SEHAT ALA SUMPAH \\xa0*** \\nJajan jangan asal cuma enak aja yah guys.. Cuma di SUMPAH alias @susu_tumpah yang bisa kasih kamu jajan sehat, nikmat dan menyegarkan...\\n\\nKamu bisa datengin stand SUMPAH yang Lokasi tepatnya di seberang pintu masuk Blok M Plaza... Jalan Bulungan, Kramat Pela, Kebayoran Baru\\n\\nHarga mulai dari 10 - 16 K\\n\\nKita buka dari jam 18.00\\n\\nNikmati hari-hari mu bersama SUMPAH\\n\\nKuy tunggu apa lagi ajak temen, pacar, adik, kakak, ibu, ayah, oma, opa, paman, bibi, pak RT, dan pak Lurah kamu ke stand SUMPAH Blok M....\\n\\nAwasss jangan sampai kehabisan yah guys...\\n\\nAvailable On :\\nGrab food\\nGo food\\n(Susu Tumpah)\\n\\n#susutumpah #susumurniviral #minumansehat #minumankekinian #minumansegar #minumanhits #healthylifestyle #healthyfood #mimisusu'}}]}, 'shortcode': 'CJ2ncOBHN7B', 'edge_media_to_comment': {'count': 24, 'page_info': {'has_next_page': True, 'end_cursor': ''}}, 'edge_media_to_sponsor_user': {'edges': []}, 'comments_disabled': False, 'taken_at_timestamp': 1610257914, 'edge_media_preview_like': {'count': 3119, 'edges': []}, 'owner': {'id': '3054105643', 'username': 'jktinfo'}, 'location': None, 'viewer_has_liked': False, 'viewer_has_saved': False, 'viewer_has_saved_to_collection': False, 'viewer_in_photo_of_you': False, 'viewer_can_reshare': True, 'thumbnail_src': 'https://scontent-sin6-3.cdninstagram.com/v/t51.2885-15/e35/136984034_163049135199712_3118731079279695099_n.jpg?_nc_ht=scontent-sin6-3.cdninstagram.com&_nc_cat=1&_nc_ohc=sSqQuPVgS8wAX9LjiQ6&tp=1&oh=204387aadea51a5831e764e34adfb05f&oe=5FFE1607', 'thumbnail_resources': [{'src': 'https://scontent-sin6-3.cdninstagram.com/v/t51.2885-15/e35/s150x150/136984034_163049135199712_3118731079279695099_n.jpg?_nc_ht=scontent-sin6-3.cdninstagram.com&_nc_cat=1&_nc_ohc=sSqQuPVgS8wAX9LjiQ6&tp=1&oh=8c57e58311a98185b28caa362183377f&oe=5FFDC63A', 'config_width': 150, 'config_height': 150}, {'src': 'https://scontent-sin6-3.cdninstagram.com/v/t51.2885-15/e35/s240x240/136984034_163049135199712_3118731079279695099_n.jpg?_nc_ht=scontent-sin6-3.cdninstagram.com&_nc_cat=1&_nc_ohc=sSqQuPVgS8wAX9LjiQ6&tp=1&oh=f525af8d63392588b3671b76d65dcf5b&oe=5FFDCF80', 'config_width': 240, 'config_height': 240}, {'src': 'https://scontent-sin6-3.cdninstagram.com/v/t51.2885-15/e35/s320x320/136984034_163049135199712_3118731079279695099_n.jpg?_nc_ht=scontent-sin6-3.cdninstagram.com&_nc_cat=1&_nc_ohc=sSqQuPVgS8wAX9LjiQ6&tp=1&oh=9d28c55cfaec66852efe86ecf00f2cec&oe=5FFDD142', 'config_width': 320, 'config_height': 320}, {'src': 'https://scontent-sin6-3.cdninstagram.com/v/t51.2885-15/e35/136984034_163049135199712_3118731079279695099_n.jpg?_nc_ht=scontent-sin6-3.cdninstagram.com&_nc_cat=1&_nc_ohc=sSqQuPVgS8wAX9LjiQ6&tp=1&oh=204387aadea51a5831e764e34adfb05f&oe=5FFE1607', 'config_width': 480, 'config_height': 480}, {'src': 'https://scontent-sin6-3.cdninstagram.com/v/t51.2885-15/e35/136984034_163049135199712_3118731079279695099_n.jpg?_nc_ht=scontent-sin6-3.cdninstagram.com&_nc_cat=1&_nc_ohc=sSqQuPVgS8wAX9LjiQ6&tp=1&oh=204387aadea51a5831e764e34adfb05f&oe=5FFE1607', 'config_width': 640, 'config_height': 640}], 'product_type': 'feed'}}, {'node': {'__typename': 'GraphImage', 'id': '2483345606519306932', 'gating_info': None, 'fact_check_overall_rating': None, 'fact_check_information': None, 'media_overlay_info': None, 'sensitivity_friction_info': None, 'sharing_friction_info': {'should_have_sharing_friction': False, 'bloks_app_url': None}, 'dimensions': {'height': 1349, 'width': 1080}, 'display_url': 'https://scontent-sin6-3.cdninstagram.com/v/t51.2885-15/e35/p1080x1080/136741832_247365633462681_2135152885103225574_n.jpg?_nc_ht=scontent-sin6-3.cdninstagram.com&_nc_cat=1&_nc_ohc=lvTdhgkNlaYAX_rZTEk&tp=1&oh=07aeab75112e842594162d32732827f4&oe=60265285', 'display_resources': [{'src': 'https://scontent-sin6-3.cdninstagram.com/v/t51.2885-15/sh0.08/e35/p640x640/136741832_247365633462681_2135152885103225574_n.jpg?_nc_ht=scontent-sin6-3.cdninstagram.com&_nc_cat=1&_nc_ohc=lvTdhgkNlaYAX_rZTEk&tp=1&oh=3e3831f7739ff8c3b50c8bf8303a86b5&oe=60241DC2', 'config_width': 640, 'config_height': 799}, {'src': 'https://scontent-sin6-3.cdninstagram.com/v/t51.2885-15/sh0.08/e35/p750x750/136741832_247365633462681_2135152885103225574_n.jpg?_nc_ht=scontent-sin6-3.cdninstagram.com&_nc_cat=1&_nc_ohc=lvTdhgkNlaYAX_rZTEk&tp=1&oh=1f5efa5805681f6fe2c87475f8c7aad7&oe=60268306', 'config_width': 750, 'config_height': 936}, {'src': 'https://scontent-sin6-3.cdninstagram.com/v/t51.2885-15/e35/p1080x1080/136741832_247365633462681_2135152885103225574_n.jpg?_nc_ht=scontent-sin6-3.cdninstagram.com&_nc_cat=1&_nc_ohc=lvTdhgkNlaYAX_rZTEk&tp=1&oh=07aeab75112e842594162d32732827f4&oe=60265285', 'config_width': 1080, 'config_height': 1349}], 'is_video': False, 'media_preview': 'ACEq6IClzXPJfuoJ+YKOvHT0p39okjgtn6fnQI3wc9KU9KxEuHcbgJCD3A/SpYS7Nhw4I5+bj8hTA1N6eo/MUVm7TRSuM55y7fKvzY9O4/8A10oSRzjByOox09PpVq1UwyBW6sp49Of61o/KMkDk9f8A69K+trBbqZ6LLgRgkBuSPp9T696huXkQL8xYtnPXt7+nXH1rUCjOe5pptkfLEfdHH40basRh/a5v7x/OitT7IlFMLk4j53Y59cU88deBTAx9TSwMWByc/WjYW44Z+lWMbY/941AetWZe1Zt6otIg3e1FOopgf//Z', 'tracking_token': 'eyJ2ZXJzaW9uIjo1LCJwYXlsb2FkIjp7ImlzX2FuYWx5dGljc190cmFja2VkIjp0cnVlLCJ1dWlkIjoiYjFmOGFjNGYxZTk5NGY2NjhlNzBkMzJiMjY2ZDk2NDYyNDgzMzQ1NjA2NTE5MzA2OTMyIiwic2VydmVyX3Rva2VuIjoiMTYxMDMzMTQ5NjY1NHwyNDgzMzQ1NjA2NTE5MzA2OTMyfDg3Mzc1MDA0NjV8OTk5YmE1MThlYWM5MjI2OWJhYWNmODVjZmRmNGVjYzhmNjA3YWJjZjE0ZDJhNGFmZTIwYjE5ZGUxYzMwODQ2NyJ9LCJzaWduYXR1cmUiOiIifQ==', 'edge_media_to_tagged_user': {'edges': []}, 'accessibility_caption': None, 'edge_media_to_caption': {'edges': [{'node': {'text': 'Minggu (10/1) Suasana lalin Daan Mogot pada siang hari ini terpantau lancar. via @y_rifai #jktinfo'}}]}, 'shortcode': 'CJ2nav7HDq0', 'edge_media_to_comment': {'count': 25, 'page_info': {'has_next_page': True, 'end_cursor': ''}}, 'edge_media_to_sponsor_user': {'edges': []}, 'comments_disabled': False, 'taken_at_timestamp': 1610257887, 'edge_media_preview_like': {'count': 12375, 'edges': []}, 'owner': {'id': '3054105643', 'username': 'jktinfo'}, 'location': None, 'viewer_has_liked': False, 'viewer_has_saved': False, 'viewer_has_saved_to_collection': False, 'viewer_in_photo_of_you': False, 'viewer_can_reshare': True, 'thumbnail_src': 'https://scontent-sin6-3.cdninstagram.com/v/t51.2885-15/sh0.08/e35/c0.179.1440.1440a/s640x640/136741832_247365633462681_2135152885103225574_n.jpg?_nc_ht=scontent-sin6-3.cdninstagram.com&_nc_cat=1&_nc_ohc=lvTdhgkNlaYAX_rZTEk&tp=1&oh=318f0e782eb92a81a7b9ab2b6e63eae1&oe=60254945', 'thumbnail_resources': [{'src': 'https://scontent-sin6-3.cdninstagram.com/v/t51.2885-15/e35/c0.179.1440.1440a/s150x150/136741832_247365633462681_2135152885103225574_n.jpg?_nc_ht=scontent-sin6-3.cdninstagram.com&_nc_cat=1&_nc_ohc=lvTdhgkNlaYAX_rZTEk&tp=1&oh=60319a9c6d866d8ed247351c46e022a3&oe=6025D2F5', 'config_width': 150, 'config_height': 150}, {'src': 'https://scontent-sin6-3.cdninstagram.com/v/t51.2885-15/e35/c0.179.1440.1440a/s240x240/136741832_247365633462681_2135152885103225574_n.jpg?_nc_ht=scontent-sin6-3.cdninstagram.com&_nc_cat=1&_nc_ohc=lvTdhgkNlaYAX_rZTEk&tp=1&oh=93fb06434c02f68370e84923200e1395&oe=602632F3', 'config_width': 240, 'config_height': 240}, {'src': 'https://scontent-sin6-3.cdninstagram.com/v/t51.2885-15/e35/c0.179.1440.1440a/s320x320/136741832_247365633462681_2135152885103225574_n.jpg?_nc_ht=scontent-sin6-3.cdninstagram.com&_nc_cat=1&_nc_ohc=lvTdhgkNlaYAX_rZTEk&tp=1&oh=68afebc08e3eba067b1f4cda7e3f0f95&oe=6026940D', 'config_width': 320, 'config_height': 320}, {'src': 'https://scontent-sin6-3.cdninstagram.com/v/t51.2885-15/e35/c0.179.1440.1440a/s480x480/136741832_247365633462681_2135152885103225574_n.jpg?_nc_ht=scontent-sin6-3.cdninstagram.com&_nc_cat=1&_nc_ohc=lvTdhgkNlaYAX_rZTEk&tp=1&oh=1098da3b13275c754882659e276a5d7a&oe=6027114C', 'config_width': 480, 'config_height': 480}, {'src': 'https://scontent-sin6-3.cdninstagram.com/v/t51.2885-15/sh0.08/e35/c0.179.1440.1440a/s640x640/136741832_247365633462681_2135152885103225574_n.jpg?_nc_ht=scontent-sin6-3.cdninstagram.com&_nc_cat=1&_nc_ohc=lvTdhgkNlaYAX_rZTEk&tp=1&oh=318f0e782eb92a81a7b9ab2b6e63eae1&oe=60254945', 'config_width': 640, 'config_height': 640}]}}, {'node': {'__typename': 'GraphImage', 'id': '2483297493691729794', 'gating_info': None, 'fact_check_overall_rating': None, 'fact_check_information': None, 'media_overlay_info': None, 'sensitivity_friction_info': None, 'sharing_friction_info': {'should_have_sharing_friction': False, 'bloks_app_url': None}, 'dimensions': {'height': 1080, 'width': 1080}, 'display_url': 'https://scontent-sin6-3.cdninstagram.com/v/t51.2885-15/e35/s1080x1080/136990386_164106408859880_1491449855116277052_n.jpg?_nc_ht=scontent-sin6-3.cdninstagram.com&_nc_cat=1&_nc_ohc=Z-SP1OynjSsAX8c0L9R&tp=1&oh=fa52b438c7a32b6665bd21658a6b312a&oe=60268973', 'display_resources': [{'src': 'https://scontent-sin6-3.cdninstagram.com/v/t51.2885-15/sh0.08/e35/s640x640/136990386_164106408859880_1491449855116277052_n.jpg?_nc_ht=scontent-sin6-3.cdninstagram.com&_nc_cat=1&_nc_ohc=Z-SP1OynjSsAX8c0L9R&tp=1&oh=127e3aca4634bff8e98b3453cbe1e2d0&oe=60260437', 'config_width': 640, 'config_height': 640}, {'src': 'https://scontent-sin6-3.cdninstagram.com/v/t51.2885-15/sh0.08/e35/s750x750/136990386_164106408859880_1491449855116277052_n.jpg?_nc_ht=scontent-sin6-3.cdninstagram.com&_nc_cat=1&_nc_ohc=Z-SP1OynjSsAX8c0L9R&tp=1&oh=e3945fb6a9b24a4de412ce10cc7b0342&oe=602350F3', 'config_width': 750, 'config_height': 750}, {'src': 'https://scontent-sin6-3.cdninstagram.com/v/t51.2885-15/e35/s1080x1080/136990386_164106408859880_1491449855116277052_n.jpg?_nc_ht=scontent-sin6-3.cdninstagram.com&_nc_cat=1&_nc_ohc=Z-SP1OynjSsAX8c0L9R&tp=1&oh=fa52b438c7a32b6665bd21658a6b312a&oe=60268973', 'config_width': 1080, 'config_height': 1080}], 'is_video': False, 'media_preview': 'ACoqv0VKiAjJP4cf41LtHr+v/wBegCrRVrA9f1H+NG0ev6//AF6AK6ngjJGR1FW1nUADLHA61C0annP+fzqGlbqO+lhKhadFYqxx6VI+cfL1/wA/55qv5WRkoD+Wf1piH/aY/X9DUwIYZBBHrVMJzzFgeuR1+gPT3quYHbjbtz9eKANKOQSDcvTJGfXHf6VJUEUIjQJkkD8P8/nU9ACUuDViHo30/wAanUc0AUMf5xQRV0AYpXHA+v8AjQBQxinVbk+4fwqrQB//2Q==', 'tracking_token': 'eyJ2ZXJzaW9uIjo1LCJwYXlsb2FkIjp7ImlzX2FuYWx5dGljc190cmFja2VkIjp0cnVlLCJ1dWlkIjoiYjFmOGFjNGYxZTk5NGY2NjhlNzBkMzJiMjY2ZDk2NDYyNDgzMjk3NDkzNjkxNzI5Nzk0Iiwic2VydmVyX3Rva2VuIjoiMTYxMDMzMTQ5NjY1NXwyNDgzMjk3NDkzNjkxNzI5Nzk0fDg3Mzc1MDA0NjV8NGMzOTI1OWEzZjQ4MDc1MmRiYWZjZjFmOTYzODc0NWI4ZWZiMmM3YzBhOWI1ODE5MmY2NzY1YjA3MDFiNTY5YyJ9LCJzaWduYXR1cmUiOiIifQ==', 'edge_media_to_tagged_user': {'edges': []}, 'accessibility_caption': None, 'edge_media_to_caption': {'edges': [{'node': {'text': 'Turut berduka cita sedalam-dalamnya atas musibah pesawat Sriwijaya Air SJ-182 rute Jakarta - Pontianak. Doa terbaik untuk semua penumpang dan kru pesawat. Semoga keluarga korban diberikan ketabahan, kekuatan dan kesabaran. #SJ182 #JKTINFO'}}]}, 'shortcode': 'CJ2cenXHQeC', 'edge_media_to_comment': {'count': 188, 'page_info': {'has_next_page': True, 'end_cursor': ''}}, 'edge_media_to_sponsor_user': {'edges': []}, 'comments_disabled': False, 'taken_at_timestamp': 1610252151, 'edge_media_preview_like': {'count': 66274, 'edges': []}, 'owner': {'id': '3054105643', 'username': 'jktinfo'}, 'location': None, 'viewer_has_liked': False, 'viewer_has_saved': False, 'viewer_has_saved_to_collection': False, 'viewer_in_photo_of_you': False, 'viewer_can_reshare': True, 'thumbnail_src': 'https://scontent-sin6-3.cdninstagram.com/v/t51.2885-15/sh0.08/e35/s640x640/136990386_164106408859880_1491449855116277052_n.jpg?_nc_ht=scontent-sin6-3.cdninstagram.com&_nc_cat=1&_nc_ohc=Z-SP1OynjSsAX8c0L9R&tp=1&oh=127e3aca4634bff8e98b3453cbe1e2d0&oe=60260437', 'thumbnail_resources': [{'src': 'https://scontent-sin6-3.cdninstagram.com/v/t51.2885-15/e35/s150x150/136990386_164106408859880_1491449855116277052_n.jpg?_nc_ht=scontent-sin6-3.cdninstagram.com&_nc_cat=1&_nc_ohc=Z-SP1OynjSsAX8c0L9R&tp=1&oh=d5c02a5697f62fc4a75708c9734c2790&oe=6023BBB4', 'config_width': 150, 'config_height': 150}, {'src': 'https://scontent-sin6-3.cdninstagram.com/v/t51.2885-15/e35/s240x240/136990386_164106408859880_1491449855116277052_n.jpg?_nc_ht=scontent-sin6-3.cdninstagram.com&_nc_cat=1&_nc_ohc=Z-SP1OynjSsAX8c0L9R&tp=1&oh=0c61032a0ae18a29011bd83803bf1897&oe=602437B6', 'config_width': 240, 'config_height': 240}, {'src': 'https://scontent-sin6-3.cdninstagram.com/v/t51.2885-15/e35/s320x320/136990386_164106408859880_1491449855116277052_n.jpg?_nc_ht=scontent-sin6-3.cdninstagram.com&_nc_cat=1&_nc_ohc=Z-SP1OynjSsAX8c0L9R&tp=1&oh=8e52c8b6958ee142e092e66ce1988bf7&oe=6025074C', 'config_width': 320, 'config_height': 320}, {'src': 'https://scontent-sin6-3.cdninstagram.com/v/t51.2885-15/e35/s480x480/136990386_164106408859880_1491449855116277052_n.jpg?_nc_ht=scontent-sin6-3.cdninstagram.com&_nc_cat=1&_nc_ohc=Z-SP1OynjSsAX8c0L9R&tp=1&oh=953d60bafe83c300e1e91892087abf04&oe=6023A00D', 'config_width': 480, 'config_height': 480}, {'src': 'https://scontent-sin6-3.cdninstagram.com/v/t51.2885-15/sh0.08/e35/s640x640/136990386_164106408859880_1491449855116277052_n.jpg?_nc_ht=scontent-sin6-3.cdninstagram.com&_nc_cat=1&_nc_ohc=Z-SP1OynjSsAX8c0L9R&tp=1&oh=127e3aca4634bff8e98b3453cbe1e2d0&oe=60260437', 'config_width': 640, 'config_height': 640}]}}, {'node': {'__typename': 'GraphImage', 'id': '2483289347782984164', 'gating_info': None, 'fact_check_overall_rating': None, 'fact_check_information': None, 'media_overlay_info': None, 'sensitivity_friction_info': None, 'sharing_friction_info': {'should_have_sharing_friction': False, 'bloks_app_url': None}, 'dimensions': {'height': 1349, 'width': 1080}, 'display_url': 'https://scontent-sin6-3.cdninstagram.com/v/t51.2885-15/e35/p1080x1080/135811432_2759119237687408_9169640118056029162_n.jpg?_nc_ht=scontent-sin6-3.cdninstagram.com&_nc_cat=1&_nc_ohc=p4OqG-xwp-EAX-7ee-a&tp=1&oh=d108cbed48f0d1acd98f2e987b2b6eab&oe=6025543B', 'display_resources': [{'src': 'https://scontent-sin6-3.cdninstagram.com/v/t51.2885-15/sh0.08/e35/p640x640/135811432_2759119237687408_9169640118056029162_n.jpg?_nc_ht=scontent-sin6-3.cdninstagram.com&_nc_cat=1&_nc_ohc=p4OqG-xwp-EAX-7ee-a&tp=1&oh=44eb909890f18358b54cd6ce4407ab9d&oe=6025E677', 'config_width': 640, 'config_height': 799}, {'src': 'https://scontent-sin6-3.cdninstagram.com/v/t51.2885-15/sh0.08/e35/p750x750/135811432_2759119237687408_9169640118056029162_n.jpg?_nc_ht=scontent-sin6-3.cdninstagram.com&_nc_cat=1&_nc_ohc=p4OqG-xwp-EAX-7ee-a&tp=1&oh=0890927356e0b10ef4ba71159104e289&oe=602613D0', 'config_width': 750, 'config_height': 936}, {'src': 'https://scontent-sin6-3.cdninstagram.com/v/t51.2885-15/e35/p1080x1080/135811432_2759119237687408_9169640118056029162_n.jpg?_nc_ht=scontent-sin6-3.cdninstagram.com&_nc_cat=1&_nc_ohc=p4OqG-xwp-EAX-7ee-a&tp=1&oh=d108cbed48f0d1acd98f2e987b2b6eab&oe=6025543B', 'config_width': 1080, 'config_height': 1349}], 'is_video': False, 'media_preview': 'ACEqti+QAZyx7lQMfqRVzAPzDoRmuX85FGM88569620ugIlZT1wPpV3JJ5tsamQ84x096eE4qjcTGVGX0KjP1PWkNxudSP4Tg+lVcku+X9fzNFHnj2opcyHY5lrQ5wfz/wDrf404WwHXg/X+dXelNJrMsXyGRcn7pGOpzTFjQDocfWlW4ZsQ7eORuJ69+n44FJmm7CH7U9/0opmaKVhhuppakpppiGFsN2wf8/rUpk3cnr6+v196gftSikBLuoqOimB//9k=', 'tracking_token': 'eyJ2ZXJzaW9uIjo1LCJwYXlsb2FkIjp7ImlzX2FuYWx5dGljc190cmFja2VkIjp0cnVlLCJ1dWlkIjoiYjFmOGFjNGYxZTk5NGY2NjhlNzBkMzJiMjY2ZDk2NDYyNDgzMjg5MzQ3NzgyOTg0MTY0Iiwic2VydmVyX3Rva2VuIjoiMTYxMDMzMTQ5NjY1NXwyNDgzMjg5MzQ3NzgyOTg0MTY0fDg3Mzc1MDA0NjV8YjFlOTY5NzE2MDQ5YjgyM2YyOWEwZmQ2ODk2ZWU4NjhhNzM5ZmEzODA0NjlkNzJlYTY3YTFlMjU3MTQzYTk4NiJ9LCJzaWduYXR1cmUiOiIifQ==', 'edge_media_to_tagged_user': {'edges': []}, 'accessibility_caption': None, 'edge_media_to_caption': {'edges': [{'node': {'text': 'Sudirman di hari Minggu (10/1) pagi\\nPhoto @wildan.hanafiah #jktinfo'}}]}, 'shortcode': 'CJ2aoE5HcHk', 'edge_media_to_comment': {'count': 34, 'page_info': {'has_next_page': True, 'end_cursor': ''}}, 'edge_media_to_sponsor_user': {'edges': []}, 'comments_disabled': False, 'taken_at_timestamp': 1610251180, 'edge_media_preview_like': {'count': 11962, 'edges': []}, 'owner': {'id': '3054105643', 'username': 'jktinfo'}, 'location': None, 'viewer_has_liked': False, 'viewer_has_saved': False, 'viewer_has_saved_to_collection': False, 'viewer_in_photo_of_you': False, 'viewer_can_reshare': True, 'thumbnail_src': 'https://scontent-sin6-3.cdninstagram.com/v/t51.2885-15/sh0.08/e35/c0.179.1440.1440a/s640x640/135811432_2759119237687408_9169640118056029162_n.jpg?_nc_ht=scontent-sin6-3.cdninstagram.com&_nc_cat=1&_nc_ohc=p4OqG-xwp-EAX-7ee-a&tp=1&oh=b5b3f96e67774c3fd78420f384468f82&oe=60267385', 'thumbnail_resources': [{'src': 'https://scontent-sin6-3.cdninstagram.com/v/t51.2885-15/e35/c0.179.1440.1440a/s150x150/135811432_2759119237687408_9169640118056029162_n.jpg?_nc_ht=scontent-sin6-3.cdninstagram.com&_nc_cat=1&_nc_ohc=p4OqG-xwp-EAX-7ee-a&tp=1&oh=a18b5b2e51f1c86c6bb3df2156aaece7&oe=60246CEC', 'config_width': 150, 'config_height': 150}, {'src': 'https://scontent-sin6-3.cdninstagram.com/v/t51.2885-15/e35/c0.179.1440.1440a/s240x240/135811432_2759119237687408_9169640118056029162_n.jpg?_nc_ht=scontent-sin6-3.cdninstagram.com&_nc_cat=1&_nc_ohc=p4OqG-xwp-EAX-7ee-a&tp=1&oh=a6a61b3c793dd1370725cf9d0cd2ce7a&oe=6024BCA4', 'config_width': 240, 'config_height': 240}, {'src': 'https://scontent-sin6-3.cdninstagram.com/v/t51.2885-15/e35/c0.179.1440.1440a/s320x320/135811432_2759119237687408_9169640118056029162_n.jpg?_nc_ht=scontent-sin6-3.cdninstagram.com&_nc_cat=1&_nc_ohc=p4OqG-xwp-EAX-7ee-a&tp=1&oh=b8842137e2d610f14fe32dc6e212299b&oe=6025B87D', 'config_width': 320, 'config_height': 320}, {'src': 'https://scontent-sin6-3.cdninstagram.com/v/t51.2885-15/e35/c0.179.1440.1440a/s480x480/135811432_2759119237687408_9169640118056029162_n.jpg?_nc_ht=scontent-sin6-3.cdninstagram.com&_nc_cat=1&_nc_ohc=p4OqG-xwp-EAX-7ee-a&tp=1&oh=a8d15a10ae0256100a16330ba6a0b119&oe=6024BCBF', 'config_width': 480, 'config_height': 480}, {'src': 'https://scontent-sin6-3.cdninstagram.com/v/t51.2885-15/sh0.08/e35/c0.179.1440.1440a/s640x640/135811432_2759119237687408_9169640118056029162_n.jpg?_nc_ht=scontent-sin6-3.cdninstagram.com&_nc_cat=1&_nc_ohc=p4OqG-xwp-EAX-7ee-a&tp=1&oh=b5b3f96e67774c3fd78420f384468f82&oe=60267385', 'config_width': 640, 'config_height': 640}]}}, {'node': {'__typename': 'GraphSidecar', 'id': '2483284530817873786', 'gating_info': None, 'fact_check_overall_rating': None, 'fact_check_information': None, 'media_overlay_info': None, 'sensitivity_friction_info': None, 'sharing_friction_info': {'should_have_sharing_friction': False, 'bloks_app_url': None}, 'dimensions': {'height': 302, 'width': 480}, 'display_url': 'https://scontent-sin6-3.cdninstagram.com/v/t51.2885-15/e35/136377062_316165549722109_3113326484447504084_n.jpg?_nc_ht=scontent-sin6-3.cdninstagram.com&_nc_cat=1&_nc_ohc=HKuEA1laGnIAX8Qp8eN&tp=1&oh=949960a59c623a386d3a136e2605b442&oe=60270163', 'display_resources': [{'src': 'https://scontent-sin6-3.cdninstagram.com/v/t51.2885-15/e35/136377062_316165549722109_3113326484447504084_n.jpg?_nc_ht=scontent-sin6-3.cdninstagram.com&_nc_cat=1&_nc_ohc=HKuEA1laGnIAX8Qp8eN&tp=1&oh=949960a59c623a386d3a136e2605b442&oe=60270163', 'config_width': 640, 'config_height': 403}, {'src': 'https://scontent-sin6-3.cdninstagram.com/v/t51.2885-15/e35/136377062_316165549722109_3113326484447504084_n.jpg?_nc_ht=scontent-sin6-3.cdninstagram.com&_nc_cat=1&_nc_ohc=HKuEA1laGnIAX8Qp8eN&tp=1&oh=949960a59c623a386d3a136e2605b442&oe=60270163', 'config_width': 750, 'config_height': 473}, {'src': 'https://scontent-sin6-3.cdninstagram.com/v/t51.2885-15/e35/136377062_316165549722109_3113326484447504084_n.jpg?_nc_ht=scontent-sin6-3.cdninstagram.com&_nc_cat=1&_nc_ohc=HKuEA1laGnIAX8Qp8eN&tp=1&oh=949960a59c623a386d3a136e2605b442&oe=60270163', 'config_width': 1080, 'config_height': 681}], 'is_video': False, 'media_preview': None, 'tracking_token': 'eyJ2ZXJzaW9uIjo1LCJwYXlsb2FkIjp7ImlzX2FuYWx5dGljc190cmFja2VkIjp0cnVlLCJ1dWlkIjoiYjFmOGFjNGYxZTk5NGY2NjhlNzBkMzJiMjY2ZDk2NDYyNDgzMjg0NTMwODE3ODczNzg2Iiwic2VydmVyX3Rva2VuIjoiMTYxMDMzMTQ5NjY1NXwyNDgzMjg0NTMwODE3ODczNzg2fDg3Mzc1MDA0NjV8MGM4YTEzMDRiMTk2MzI5ZjM5M2EwYTM0Njc0M2Y3ZTA4OTU5MjNiYWYzZGE2OTNmYTAxNjI0ODQwMDJkYmU1OSJ9LCJzaWduYXR1cmUiOiIifQ==', 'edge_media_to_tagged_user': {'edges': []}, 'accessibility_caption': None, 'edge_media_to_caption': {'edges': [{'node': {'text': 'Pencarian pesawat Sriwijaya Air SJ 182 yang hilang kontak di perairan Kepulauan Seribu, Jakarta, Minggu (10/1/2021). Pesawat Sriwijaya Air SJ 182 yang hilang kontak pada Sabtu (9/1) sekitar pukul 14.40 WIB di ketinggian 10 ribu kaki tersebut membawa enam awak dan 56 penumpang.\\n-\\nFoto: Antara/M Risyal Hidayat #jktinfo'}}]}, 'shortcode': 'CJ2Zh-vnzd6', 'edge_media_to_comment': {'count': 378, 'page_info': {'has_next_page': True, 'end_cursor': ''}}, 'edge_media_to_sponsor_user': {'edges': []}, 'comments_disabled': False, 'taken_at_timestamp': 1610250606, 'edge_media_preview_like': {'count': 109484, 'edges': []}, 'owner': {'id': '3054105643', 'username': 'jktinfo'}, 'location': None, 'viewer_has_liked': False, 'viewer_has_saved': False, 'viewer_has_saved_to_collection': False, 'viewer_in_photo_of_you': False, 'viewer_can_reshare': True, 'thumbnail_src': 'https://scontent-sin6-3.cdninstagram.com/v/t51.2885-15/e35/c85.0.291.291a/136377062_316165549722109_3113326484447504084_n.jpg?_nc_ht=scontent-sin6-3.cdninstagram.com&_nc_cat=1&_nc_ohc=HKuEA1laGnIAX8Qp8eN&tp=1&oh=aaffb769a855fd5b12eba04314d498ee&oe=60263945', 'thumbnail_resources': [{'src': 'https://scontent-sin6-3.cdninstagram.com/v/t51.2885-15/e35/c85.0.291.291a/s150x150/136377062_316165549722109_3113326484447504084_n.jpg?_nc_ht=scontent-sin6-3.cdninstagram.com&_nc_cat=1&_nc_ohc=HKuEA1laGnIAX8Qp8eN&tp=1&oh=c241015ae4e0ad81a9a7b416c1a20773&oe=60258FDB', 'config_width': 150, 'config_height': 150}, {'src': 'https://scontent-sin6-3.cdninstagram.com/v/t51.2885-15/e35/c85.0.291.291a/s240x240/136377062_316165549722109_3113326484447504084_n.jpg?_nc_ht=scontent-sin6-3.cdninstagram.com&_nc_cat=1&_nc_ohc=HKuEA1laGnIAX8Qp8eN&tp=1&oh=25dd4d05ff534d46068581f70ee7f01a&oe=60251ADD', 'config_width': 240, 'config_height': 240}, {'src': 'https://scontent-sin6-3.cdninstagram.com/v/t51.2885-15/e35/c85.0.291.291a/136377062_316165549722109_3113326484447504084_n.jpg?_nc_ht=scontent-sin6-3.cdninstagram.com&_nc_cat=1&_nc_ohc=HKuEA1laGnIAX8Qp8eN&tp=1&oh=aaffb769a855fd5b12eba04314d498ee&oe=60263945', 'config_width': 320, 'config_height': 320}, {'src': 'https://scontent-sin6-3.cdninstagram.com/v/t51.2885-15/e35/c85.0.291.291a/136377062_316165549722109_3113326484447504084_n.jpg?_nc_ht=scontent-sin6-3.cdninstagram.com&_nc_cat=1&_nc_ohc=HKuEA1laGnIAX8Qp8eN&tp=1&oh=aaffb769a855fd5b12eba04314d498ee&oe=60263945', 'config_width': 480, 'config_height': 480}, {'src': 'https://scontent-sin6-3.cdninstagram.com/v/t51.2885-15/e35/c85.0.291.291a/136377062_316165549722109_3113326484447504084_n.jpg?_nc_ht=scontent-sin6-3.cdninstagram.com&_nc_cat=1&_nc_ohc=HKuEA1laGnIAX8Qp8eN&tp=1&oh=aaffb769a855fd5b12eba04314d498ee&oe=60263945', 'config_width': 640, 'config_height': 640}], 'edge_sidecar_to_children': {'edges': [{'node': {'__typename': 'GraphImage', 'id': '2483284527630024743', 'gating_info': None, 'fact_check_overall_rating': None, 'fact_check_information': None, 'media_overlay_info': None, 'sensitivity_friction_info': None, 'sharing_friction_info': {'should_have_sharing_friction': False, 'bloks_app_url': None}, 'dimensions': {'height': 302, 'width': 480}, 'display_url': 'https://scontent-sin6-3.cdninstagram.com/v/t51.2885-15/e35/136377062_316165549722109_3113326484447504084_n.jpg?_nc_ht=scontent-sin6-3.cdninstagram.com&_nc_cat=1&_nc_ohc=HKuEA1laGnIAX8Qp8eN&tp=1&oh=949960a59c623a386d3a136e2605b442&oe=60270163', 'display_resources': [{'src': 'https://scontent-sin6-3.cdninstagram.com/v/t51.2885-15/e35/136377062_316165549722109_3113326484447504084_n.jpg?_nc_ht=scontent-sin6-3.cdninstagram.com&_nc_cat=1&_nc_ohc=HKuEA1laGnIAX8Qp8eN&tp=1&oh=949960a59c623a386d3a136e2605b442&oe=60270163', 'config_width': 640, 'config_height': 403}, {'src': 'https://scontent-sin6-3.cdninstagram.com/v/t51.2885-15/e35/136377062_316165549722109_3113326484447504084_n.jpg?_nc_ht=scontent-sin6-3.cdninstagram.com&_nc_cat=1&_nc_ohc=HKuEA1laGnIAX8Qp8eN&tp=1&oh=949960a59c623a386d3a136e2605b442&oe=60270163', 'config_width': 750, 'config_height': 473}, {'src': 'https://scontent-sin6-3.cdninstagram.com/v/t51.2885-15/e35/136377062_316165549722109_3113326484447504084_n.jpg?_nc_ht=scontent-sin6-3.cdninstagram.com&_nc_cat=1&_nc_ohc=HKuEA1laGnIAX8Qp8eN&tp=1&oh=949960a59c623a386d3a136e2605b442&oe=60270163', 'config_width': 1080, 'config_height': 681}], 'is_video': False, 'media_preview': 'ACoa2wTRk1nfaG4Hc/T8/pUb3xU4GXJ7KKYF+WQqRzjmrAauYkv3dido+hPp/WrVtqJbCsCvv2/HigDfzSZqgl0H+6wOaf5p9aAMqWaM8Rjn+93GfTPNRNEEUFsqqj1+Zj6ewA/rToABM3t/jSX54P0/qKQyBGCrlDyD3xgg+nGc9utNyrL/ALfXd7Z5Hpms/ccdTUwPyigRcilSMgMPcMM8fUd6ufafR0pZVHJwMhk/pTzGhOSo/IUAf//Z', 'tracking_token': 'eyJ2ZXJzaW9uIjo1LCJwYXlsb2FkIjp7ImlzX2FuYWx5dGljc190cmFja2VkIjp0cnVlLCJ1dWlkIjoiYjFmOGFjNGYxZTk5NGY2NjhlNzBkMzJiMjY2ZDk2NDYyNDgzMjg0NTI3NjMwMDI0NzQzIiwic2VydmVyX3Rva2VuIjoiMTYxMDMzMTQ5Njc0MnwyNDgzMjg0NTI3NjMwMDI0NzQzfDg3Mzc1MDA0NjV8YTU0MTRmMzRhMDdhOWM1ODQ3OWRlNTRkMjM1NTNjYWM3ZjJlN2JlMjBjZWQxMWEzZTFlZmFjN2FiNjZkYTVlOSJ9LCJzaWduYXR1cmUiOiIifQ==', 'edge_media_to_tagged_user': {'edges': []}, 'accessibility_caption': None}}, {'node': {'__typename': 'GraphImage', 'id': '2483284527730887197', 'gating_info': None, 'fact_check_overall_rating': None, 'fact_check_information': None, 'media_overlay_info': None, 'sensitivity_friction_info': None, 'sharing_friction_info': {'should_have_sharing_friction': False, 'bloks_app_url': None}, 'dimensions': {'height': 304, 'width': 480}, 'display_url': 'https://scontent-sin6-1.cdninstagram.com/v/t51.2885-15/e35/137278910_193296149174215_6587085671424763018_n.jpg?_nc_ht=scontent-sin6-1.cdninstagram.com&_nc_cat=107&_nc_ohc=tI7GopsBqOoAX_T9qqc&tp=1&oh=135f16bb1130707e2b5c45c493629f51&oe=60250DDD', 'display_resources': [{'src': 'https://scontent-sin6-1.cdninstagram.com/v/t51.2885-15/e35/137278910_193296149174215_6587085671424763018_n.jpg?_nc_ht=scontent-sin6-1.cdninstagram.com&_nc_cat=107&_nc_ohc=tI7GopsBqOoAX_T9qqc&tp=1&oh=135f16bb1130707e2b5c45c493629f51&oe=60250DDD', 'config_width': 640, 'config_height': 405}, {'src': 'https://scontent-sin6-1.cdninstagram.com/v/t51.2885-15/e35/137278910_193296149174215_6587085671424763018_n.jpg?_nc_ht=scontent-sin6-1.cdninstagram.com&_nc_cat=107&_nc_ohc=tI7GopsBqOoAX_T9qqc&tp=1&oh=135f16bb1130707e2b5c45c493629f51&oe=60250DDD', 'config_width': 750, 'config_height': 475}, {'src': 'https://scontent-sin6-1.cdninstagram.com/v/t51.2885-15/e35/137278910_193296149174215_6587085671424763018_n.jpg?_nc_ht=scontent-sin6-1.cdninstagram.com&_nc_cat=107&_nc_ohc=tI7GopsBqOoAX_T9qqc&tp=1&oh=135f16bb1130707e2b5c45c493629f51&oe=60250DDD', 'config_width': 1080, 'config_height': 684}], 'is_video': False, 'media_preview': None, 'tracking_token': 'eyJ2ZXJzaW9uIjo1LCJwYXlsb2FkIjp7ImlzX2FuYWx5dGljc190cmFja2VkIjp0cnVlLCJ1dWlkIjoiYjFmOGFjNGYxZTk5NGY2NjhlNzBkMzJiMjY2ZDk2NDYyNDgzMjg0NTI3NzMwODg3MTk3Iiwic2VydmVyX3Rva2VuIjoiMTYxMDMzMTQ5Njc0M3wyNDgzMjg0NTI3NzMwODg3MTk3fDg3Mzc1MDA0NjV8ZDQ5MGQwMThmMGMyZWIwZGI1NTBhYWRkNTcyZWE2MDczMzg0NmY2YTNlZmQzMzk2YjMzM2UyMjgzMmMzYzE5NiJ9LCJzaWduYXR1cmUiOiIifQ==', 'edge_media_to_tagged_user': {'edges': []}, 'accessibility_caption': None}}, {'node': {'__typename': 'GraphImage', 'id': '2483284527747438010', 'gating_info': None, 'fact_check_overall_rating': None, 'fact_check_information': None, 'media_overlay_info': None, 'sensitivity_friction_info': None, 'sharing_friction_info': {'should_have_sharing_friction': False, 'bloks_app_url': None}, 'dimensions': {'height': 304, 'width': 480}, 'display_url': 'https://scontent-sin6-3.cdninstagram.com/v/t51.2885-15/e35/136734018_135447455053150_8403776519325420447_n.jpg?_nc_ht=scontent-sin6-3.cdninstagram.com&_nc_cat=1&_nc_ohc=ge4YkdtycjcAX-QlzVl&tp=1&oh=e7fd12491e5dc71c7ebcb822b7bf4e4d&oe=602695BD', 'display_resources': [{'src': 'https://scontent-sin6-3.cdninstagram.com/v/t51.2885-15/e35/136734018_135447455053150_8403776519325420447_n.jpg?_nc_ht=scontent-sin6-3.cdninstagram.com&_nc_cat=1&_nc_ohc=ge4YkdtycjcAX-QlzVl&tp=1&oh=e7fd12491e5dc71c7ebcb822b7bf4e4d&oe=602695BD', 'config_width': 640, 'config_height': 405}, {'src': 'https://scontent-sin6-3.cdninstagram.com/v/t51.2885-15/e35/136734018_135447455053150_8403776519325420447_n.jpg?_nc_ht=scontent-sin6-3.cdninstagram.com&_nc_cat=1&_nc_ohc=ge4YkdtycjcAX-QlzVl&tp=1&oh=e7fd12491e5dc71c7ebcb822b7bf4e4d&oe=602695BD', 'config_width': 750, 'config_height': 475}, {'src': 'https://scontent-sin6-3.cdninstagram.com/v/t51.2885-15/e35/136734018_135447455053150_8403776519325420447_n.jpg?_nc_ht=scontent-sin6-3.cdninstagram.com&_nc_cat=1&_nc_ohc=ge4YkdtycjcAX-QlzVl&tp=1&oh=e7fd12491e5dc71c7ebcb822b7bf4e4d&oe=602695BD', 'config_width': 1080, 'config_height': 684}], 'is_video': False, 'media_preview': 'ACoa0pIY5BtcncAASvVs/wA+c1UudOEoBiblVC4buB3yO/4U6XhwQcNg49D9fanwSsNxIG7aCMdM+me/bmgDIuoJAithNq4UlT69Cf8AH86tx2CXC/K2NoHzAfKTjng8n68fWoZ1OGUOGz9AOuevf2/yKlEoWMxxn5mGS2OCR246DsPqe5pDIZtKdV3RESeoHB/DPB/nWTk10VpM8xZGICqBnHfPY+386kaKEkkqCSfQUeoFW+J3eyjkA4yCQOcetVorsJlGyVfj9MZzVnUOp+n+FUGUZ6f3f601sOW44SsrfKcLkrnA5GPcYH5U+FisXAIyeT7df5VX/wCWa/WrcvT/AICtUSSRMd7YOPl5YdyB+XT+VMDuwzknPPQUzpCT/tGoB0pAf//Z', 'tracking_token': 'eyJ2ZXJzaW9uIjo1LCJwYXlsb2FkIjp7ImlzX2FuYWx5dGljc190cmFja2VkIjp0cnVlLCJ1dWlkIjoiYjFmOGFjNGYxZTk5NGY2NjhlNzBkMzJiMjY2ZDk2NDYyNDgzMjg0NTI3NzQ3NDM4MDEwIiwic2VydmVyX3Rva2VuIjoiMTYxMDMzMTQ5Njc0M3wyNDgzMjg0NTI3NzQ3NDM4MDEwfDg3Mzc1MDA0NjV8NTA2ZTE3YmZmNjU2Y2ZkOTQ1ZjFmYzUwMzRkNzdkNTI4ODRlNTFhODk4YTE5NjE0ZDUxMTVjYWY5ZGY3YTYxNSJ9LCJzaWduYXR1cmUiOiIifQ==', 'edge_media_to_tagged_user': {'edges': []}, 'accessibility_caption': None}}, {'node': {'__typename': 'GraphImage', 'id': '2483284527613236127', 'gating_info': None, 'fact_check_overall_rating': None, 'fact_check_information': None, 'media_overlay_info': None, 'sensitivity_friction_info': None, 'sharing_friction_info': {'should_have_sharing_friction': False, 'bloks_app_url': None}, 'dimensions': {'height': 304, 'width': 480}, 'display_url': 'https://scontent-sin6-3.cdninstagram.com/v/t51.2885-15/e35/136402474_397169144924608_2327169058451746602_n.jpg?_nc_ht=scontent-sin6-3.cdninstagram.com&_nc_cat=104&_nc_ohc=CqW6-1__-VkAX9z8QAX&tp=1&oh=e473ac8b754e149b4a166273d3a18075&oe=60255C51', 'display_resources': [{'src': 'https://scontent-sin6-3.cdninstagram.com/v/t51.2885-15/e35/136402474_397169144924608_2327169058451746602_n.jpg?_nc_ht=scontent-sin6-3.cdninstagram.com&_nc_cat=104&_nc_ohc=CqW6-1__-VkAX9z8QAX&tp=1&oh=e473ac8b754e149b4a166273d3a18075&oe=60255C51', 'config_width': 640, 'config_height': 405}, {'src': 'https://scontent-sin6-3.cdninstagram.com/v/t51.2885-15/e35/136402474_397169144924608_2327169058451746602_n.jpg?_nc_ht=scontent-sin6-3.cdninstagram.com&_nc_cat=104&_nc_ohc=CqW6-1__-VkAX9z8QAX&tp=1&oh=e473ac8b754e149b4a166273d3a18075&oe=60255C51', 'config_width': 750, 'config_height': 475}, {'src': 'https://scontent-sin6-3.cdninstagram.com/v/t51.2885-15/e35/136402474_397169144924608_2327169058451746602_n.jpg?_nc_ht=scontent-sin6-3.cdninstagram.com&_nc_cat=104&_nc_ohc=CqW6-1__-VkAX9z8QAX&tp=1&oh=e473ac8b754e149b4a166273d3a18075&oe=60255C51', 'config_width': 1080, 'config_height': 684}], 'is_video': False, 'media_preview': 'ACoayIIRIQGO0H+X4kCpZLZFYBGBUjrwefTj+daFrZIBu4PTr3P+egq2bNRIQdrbhk57dgB2xxQBmrDD5Jzszj7/AM2Q3+GfbGKbBGkaeaw3dRxgke+09v8A9dbH2dFXZxtPVccGomhWAArjaR3H8/UUAZs8Ymj3j92UyeVVdw9iDz7cd6ys11UgSRMEA9AOOOeOPT2rAezkRio52kj8qANO3mWNV7jOB79s/hUsUhmkkXjkcevA4xVW1A+Qf7X9TSxfLdccZJ6fQ0wNRXBAPp+dV5yQAr9S2dowTgA8/h1NWLo4U47nn3rDQkzOTyd2M+1SPYt3bMoUf3Tu49v/ANdRFPMO/n5ue/fmrROXXPPy1nO7Bjyep70wtc//2Q==', 'tracking_token': 'eyJ2ZXJzaW9uIjo1LCJwYXlsb2FkIjp7ImlzX2FuYWx5dGljc190cmFja2VkIjp0cnVlLCJ1dWlkIjoiYjFmOGFjNGYxZTk5NGY2NjhlNzBkMzJiMjY2ZDk2NDYyNDgzMjg0NTI3NjEzMjM2MTI3Iiwic2VydmVyX3Rva2VuIjoiMTYxMDMzMTQ5Njc0M3wyNDgzMjg0NTI3NjEzMjM2MTI3fDg3Mzc1MDA0NjV8ZGRjNzliZjFlYWQwZmUzNjFhYWVhZjY5ZDE4NzcwYTc4NTk4ZDYxZjM3ZGM3MjEwMTk5MzU2ZWYxNWRjZDFkNiJ9LCJzaWduYXR1cmUiOiIifQ==', 'edge_media_to_tagged_user': {'edges': []}, 'accessibility_caption': None}}]}}}]}}}, 'status': 'ok'}\n"
     ]
    }
   ],
   "source": [
    "print(response.json())"
   ]
  },
  {
   "cell_type": "code",
   "execution_count": 1,
   "metadata": {},
   "outputs": [
    {
     "ename": "NameError",
     "evalue": "name 'response' is not defined",
     "output_type": "error",
     "traceback": [
      "\u001b[1;31m---------------------------------------------------------------------------\u001b[0m",
      "\u001b[1;31mNameError\u001b[0m                                 Traceback (most recent call last)",
      "\u001b[1;32m<ipython-input-1-571d623fa2b7>\u001b[0m in \u001b[0;36m<module>\u001b[1;34m\u001b[0m\n\u001b[1;32m----> 1\u001b[1;33m \u001b[0mcategory\u001b[0m \u001b[1;33m=\u001b[0m \u001b[0mresponse\u001b[0m\u001b[1;33m.\u001b[0m\u001b[0mjson\u001b[0m\u001b[1;33m(\u001b[0m\u001b[1;33m)\u001b[0m\u001b[1;33m[\u001b[0m\u001b[1;34m'item'\u001b[0m\u001b[1;33m]\u001b[0m\u001b[1;33m[\u001b[0m\u001b[1;34m'categories'\u001b[0m\u001b[1;33m]\u001b[0m\u001b[1;33m\u001b[0m\u001b[1;33m\u001b[0m\u001b[0m\n\u001b[0m\u001b[0;32m      2\u001b[0m \u001b[0mcategories\u001b[0m \u001b[1;33m=\u001b[0m \u001b[1;33m[\u001b[0m\u001b[1;33m]\u001b[0m\u001b[1;33m\u001b[0m\u001b[1;33m\u001b[0m\u001b[0m\n\u001b[0;32m      3\u001b[0m \u001b[1;32mfor\u001b[0m \u001b[0mi\u001b[0m \u001b[1;32min\u001b[0m \u001b[0mcategory\u001b[0m\u001b[1;33m:\u001b[0m\u001b[1;33m\u001b[0m\u001b[1;33m\u001b[0m\u001b[0m\n\u001b[0;32m      4\u001b[0m     \u001b[0mcat\u001b[0m \u001b[1;33m=\u001b[0m \u001b[0mi\u001b[0m\u001b[1;33m[\u001b[0m\u001b[1;34m'display_name'\u001b[0m\u001b[1;33m]\u001b[0m\u001b[1;33m\u001b[0m\u001b[1;33m\u001b[0m\u001b[0m\n\u001b[0;32m      5\u001b[0m     \u001b[0mcategories\u001b[0m\u001b[1;33m.\u001b[0m\u001b[0mappend\u001b[0m\u001b[1;33m(\u001b[0m\u001b[0mcat\u001b[0m\u001b[1;33m)\u001b[0m\u001b[1;33m\u001b[0m\u001b[1;33m\u001b[0m\u001b[0m\n",
      "\u001b[1;31mNameError\u001b[0m: name 'response' is not defined"
     ]
    }
   ],
   "source": [
    "post = response.json()['data']['user']['edge_owner_to_timeline_media']['edges']\n",
    "likes = []\n",
    "for i in post:\n",
    "    postlike = i['node']['edge_media_preview_like']['count']\n",
    "    likes.append(postlike)\n",
    "    print(postlike)\n",
    "print(likes)\n",
    "print(sum(likes))"
   ]
  },
  {
   "cell_type": "code",
   "execution_count": 32,
   "metadata": {},
   "outputs": [
    {
     "name": "stdout",
     "output_type": "stream",
     "text": [
      "3\n",
      "75\n",
      "71\n",
      "2\n",
      "462\n",
      "540\n",
      "6\n",
      "24\n",
      "25\n",
      "188\n",
      "34\n",
      "378\n",
      "[3, 75, 71, 2, 462, 540, 6, 24, 25, 188, 34, 378]\n",
      "1808\n"
     ]
    }
   ],
   "source": [
    "comments = []\n",
    "for i in post:\n",
    "    postcom = i['node']['edge_media_to_comment']['count']\n",
    "    comments.append(postcom)\n",
    "    print(postcom)\n",
    "print(comments)\n",
    "print(sum(comments))"
   ]
  },
  {
   "cell_type": "code",
   "execution_count": 33,
   "metadata": {},
   "outputs": [],
   "source": [
    "ig = pd.DataFrame(likes, columns = ['Likes'])"
   ]
  },
  {
   "cell_type": "code",
   "execution_count": 39,
   "metadata": {},
   "outputs": [],
   "source": [
    "ig['Comments'] = comments"
   ]
  },
  {
   "cell_type": "code",
   "execution_count": 43,
   "metadata": {},
   "outputs": [
    {
     "name": "stdout",
     "output_type": "stream",
     "text": [
      "image\n",
      "image\n",
      "image\n",
      "multiple\n",
      "video\n",
      "multiple\n",
      "video\n",
      "video\n",
      "image\n",
      "image\n",
      "image\n",
      "multiple\n",
      "['image', 'image', 'image', 'multiple', 'video', 'multiple', 'video', 'video', 'image', 'image', 'image', 'multiple']\n"
     ]
    }
   ],
   "source": [
    "post_type = []\n",
    "for i in post:\n",
    "    posttype = i['node']['__typename']\n",
    "    if (posttype == 'GraphImage'):\n",
    "        posttype = 'image'\n",
    "    elif (posttype == 'GraphVideo'):\n",
    "        posttype = 'video'\n",
    "    else:\n",
    "        posttype = 'multiple'\n",
    "    post_type.append(posttype)\n",
    "    print(posttype)\n",
    "print(post_type)"
   ]
  },
  {
   "cell_type": "code",
   "execution_count": 44,
   "metadata": {},
   "outputs": [],
   "source": [
    "ig['PostType'] = post_type"
   ]
  },
  {
   "cell_type": "code",
   "execution_count": 45,
   "metadata": {},
   "outputs": [
    {
     "data": {
      "text/html": [
       "<div>\n",
       "<style scoped>\n",
       "    .dataframe tbody tr th:only-of-type {\n",
       "        vertical-align: middle;\n",
       "    }\n",
       "\n",
       "    .dataframe tbody tr th {\n",
       "        vertical-align: top;\n",
       "    }\n",
       "\n",
       "    .dataframe thead th {\n",
       "        text-align: right;\n",
       "    }\n",
       "</style>\n",
       "<table border=\"1\" class=\"dataframe\">\n",
       "  <thead>\n",
       "    <tr style=\"text-align: right;\">\n",
       "      <th></th>\n",
       "      <th>Likes</th>\n",
       "      <th>comments</th>\n",
       "      <th>Comments</th>\n",
       "      <th>PostType</th>\n",
       "    </tr>\n",
       "  </thead>\n",
       "  <tbody>\n",
       "    <tr>\n",
       "      <th>0</th>\n",
       "      <td>1968</td>\n",
       "      <td>3</td>\n",
       "      <td>3</td>\n",
       "      <td>image</td>\n",
       "    </tr>\n",
       "    <tr>\n",
       "      <th>1</th>\n",
       "      <td>11544</td>\n",
       "      <td>75</td>\n",
       "      <td>75</td>\n",
       "      <td>image</td>\n",
       "    </tr>\n",
       "    <tr>\n",
       "      <th>2</th>\n",
       "      <td>13499</td>\n",
       "      <td>71</td>\n",
       "      <td>71</td>\n",
       "      <td>image</td>\n",
       "    </tr>\n",
       "    <tr>\n",
       "      <th>3</th>\n",
       "      <td>1785</td>\n",
       "      <td>2</td>\n",
       "      <td>2</td>\n",
       "      <td>multiple</td>\n",
       "    </tr>\n",
       "    <tr>\n",
       "      <th>4</th>\n",
       "      <td>105769</td>\n",
       "      <td>462</td>\n",
       "      <td>462</td>\n",
       "      <td>video</td>\n",
       "    </tr>\n",
       "    <tr>\n",
       "      <th>5</th>\n",
       "      <td>129213</td>\n",
       "      <td>540</td>\n",
       "      <td>540</td>\n",
       "      <td>multiple</td>\n",
       "    </tr>\n",
       "    <tr>\n",
       "      <th>6</th>\n",
       "      <td>1005</td>\n",
       "      <td>6</td>\n",
       "      <td>6</td>\n",
       "      <td>video</td>\n",
       "    </tr>\n",
       "    <tr>\n",
       "      <th>7</th>\n",
       "      <td>3119</td>\n",
       "      <td>24</td>\n",
       "      <td>24</td>\n",
       "      <td>video</td>\n",
       "    </tr>\n",
       "    <tr>\n",
       "      <th>8</th>\n",
       "      <td>12375</td>\n",
       "      <td>25</td>\n",
       "      <td>25</td>\n",
       "      <td>image</td>\n",
       "    </tr>\n",
       "    <tr>\n",
       "      <th>9</th>\n",
       "      <td>66274</td>\n",
       "      <td>188</td>\n",
       "      <td>188</td>\n",
       "      <td>image</td>\n",
       "    </tr>\n",
       "    <tr>\n",
       "      <th>10</th>\n",
       "      <td>11962</td>\n",
       "      <td>34</td>\n",
       "      <td>34</td>\n",
       "      <td>image</td>\n",
       "    </tr>\n",
       "    <tr>\n",
       "      <th>11</th>\n",
       "      <td>109484</td>\n",
       "      <td>378</td>\n",
       "      <td>378</td>\n",
       "      <td>multiple</td>\n",
       "    </tr>\n",
       "  </tbody>\n",
       "</table>\n",
       "</div>"
      ],
      "text/plain": [
       "     Likes  comments  Comments  PostType\n",
       "0     1968         3         3     image\n",
       "1    11544        75        75     image\n",
       "2    13499        71        71     image\n",
       "3     1785         2         2  multiple\n",
       "4   105769       462       462     video\n",
       "5   129213       540       540  multiple\n",
       "6     1005         6         6     video\n",
       "7     3119        24        24     video\n",
       "8    12375        25        25     image\n",
       "9    66274       188       188     image\n",
       "10   11962        34        34     image\n",
       "11  109484       378       378  multiple"
      ]
     },
     "execution_count": 45,
     "metadata": {},
     "output_type": "execute_result"
    }
   ],
   "source": [
    "ig"
   ]
  },
  {
   "cell_type": "code",
   "execution_count": 46,
   "metadata": {},
   "outputs": [
    {
     "name": "stdout",
     "output_type": "stream",
     "text": [
      "2021-01-10 15:32:29\n",
      "2021-01-10 15:31:55\n",
      "2021-01-10 15:21:20\n",
      "2021-01-10 14:29:23\n",
      "2021-01-10 14:28:05\n",
      "2021-01-10 14:17:52\n",
      "2021-01-10 13:43:32\n",
      "2021-01-10 12:51:54\n",
      "2021-01-10 12:51:27\n",
      "2021-01-10 11:15:51\n",
      "2021-01-10 10:59:40\n",
      "2021-01-10 10:50:06\n",
      "[datetime.datetime(2021, 1, 10, 15, 32, 29), datetime.datetime(2021, 1, 10, 15, 31, 55), datetime.datetime(2021, 1, 10, 15, 21, 20), datetime.datetime(2021, 1, 10, 14, 29, 23), datetime.datetime(2021, 1, 10, 14, 28, 5), datetime.datetime(2021, 1, 10, 14, 17, 52), datetime.datetime(2021, 1, 10, 13, 43, 32), datetime.datetime(2021, 1, 10, 12, 51, 54), datetime.datetime(2021, 1, 10, 12, 51, 27), datetime.datetime(2021, 1, 10, 11, 15, 51), datetime.datetime(2021, 1, 10, 10, 59, 40), datetime.datetime(2021, 1, 10, 10, 50, 6)]\n"
     ]
    }
   ],
   "source": [
    "from datetime import datetime\n",
    "\n",
    "timestamp = []\n",
    "for i in post:\n",
    "    timestmp = i['node']['taken_at_timestamp']\n",
    "    timestmp = datetime.fromtimestamp(timestmp)\n",
    "    timestamp.append(timestmp)\n",
    "    print(timestmp)\n",
    "print(timestamp)"
   ]
  },
  {
   "cell_type": "code",
   "execution_count": 47,
   "metadata": {},
   "outputs": [],
   "source": [
    "ig['Time_Posted'] = timestamp"
   ]
  },
  {
   "cell_type": "code",
   "execution_count": 48,
   "metadata": {},
   "outputs": [
    {
     "data": {
      "text/html": [
       "<div>\n",
       "<style scoped>\n",
       "    .dataframe tbody tr th:only-of-type {\n",
       "        vertical-align: middle;\n",
       "    }\n",
       "\n",
       "    .dataframe tbody tr th {\n",
       "        vertical-align: top;\n",
       "    }\n",
       "\n",
       "    .dataframe thead th {\n",
       "        text-align: right;\n",
       "    }\n",
       "</style>\n",
       "<table border=\"1\" class=\"dataframe\">\n",
       "  <thead>\n",
       "    <tr style=\"text-align: right;\">\n",
       "      <th></th>\n",
       "      <th>Likes</th>\n",
       "      <th>comments</th>\n",
       "      <th>Comments</th>\n",
       "      <th>PostType</th>\n",
       "      <th>Time_Posted</th>\n",
       "    </tr>\n",
       "  </thead>\n",
       "  <tbody>\n",
       "    <tr>\n",
       "      <th>0</th>\n",
       "      <td>1968</td>\n",
       "      <td>3</td>\n",
       "      <td>3</td>\n",
       "      <td>image</td>\n",
       "      <td>2021-01-10 15:32:29</td>\n",
       "    </tr>\n",
       "    <tr>\n",
       "      <th>1</th>\n",
       "      <td>11544</td>\n",
       "      <td>75</td>\n",
       "      <td>75</td>\n",
       "      <td>image</td>\n",
       "      <td>2021-01-10 15:31:55</td>\n",
       "    </tr>\n",
       "    <tr>\n",
       "      <th>2</th>\n",
       "      <td>13499</td>\n",
       "      <td>71</td>\n",
       "      <td>71</td>\n",
       "      <td>image</td>\n",
       "      <td>2021-01-10 15:21:20</td>\n",
       "    </tr>\n",
       "    <tr>\n",
       "      <th>3</th>\n",
       "      <td>1785</td>\n",
       "      <td>2</td>\n",
       "      <td>2</td>\n",
       "      <td>multiple</td>\n",
       "      <td>2021-01-10 14:29:23</td>\n",
       "    </tr>\n",
       "    <tr>\n",
       "      <th>4</th>\n",
       "      <td>105769</td>\n",
       "      <td>462</td>\n",
       "      <td>462</td>\n",
       "      <td>video</td>\n",
       "      <td>2021-01-10 14:28:05</td>\n",
       "    </tr>\n",
       "    <tr>\n",
       "      <th>5</th>\n",
       "      <td>129213</td>\n",
       "      <td>540</td>\n",
       "      <td>540</td>\n",
       "      <td>multiple</td>\n",
       "      <td>2021-01-10 14:17:52</td>\n",
       "    </tr>\n",
       "    <tr>\n",
       "      <th>6</th>\n",
       "      <td>1005</td>\n",
       "      <td>6</td>\n",
       "      <td>6</td>\n",
       "      <td>video</td>\n",
       "      <td>2021-01-10 13:43:32</td>\n",
       "    </tr>\n",
       "    <tr>\n",
       "      <th>7</th>\n",
       "      <td>3119</td>\n",
       "      <td>24</td>\n",
       "      <td>24</td>\n",
       "      <td>video</td>\n",
       "      <td>2021-01-10 12:51:54</td>\n",
       "    </tr>\n",
       "    <tr>\n",
       "      <th>8</th>\n",
       "      <td>12375</td>\n",
       "      <td>25</td>\n",
       "      <td>25</td>\n",
       "      <td>image</td>\n",
       "      <td>2021-01-10 12:51:27</td>\n",
       "    </tr>\n",
       "    <tr>\n",
       "      <th>9</th>\n",
       "      <td>66274</td>\n",
       "      <td>188</td>\n",
       "      <td>188</td>\n",
       "      <td>image</td>\n",
       "      <td>2021-01-10 11:15:51</td>\n",
       "    </tr>\n",
       "    <tr>\n",
       "      <th>10</th>\n",
       "      <td>11962</td>\n",
       "      <td>34</td>\n",
       "      <td>34</td>\n",
       "      <td>image</td>\n",
       "      <td>2021-01-10 10:59:40</td>\n",
       "    </tr>\n",
       "    <tr>\n",
       "      <th>11</th>\n",
       "      <td>109484</td>\n",
       "      <td>378</td>\n",
       "      <td>378</td>\n",
       "      <td>multiple</td>\n",
       "      <td>2021-01-10 10:50:06</td>\n",
       "    </tr>\n",
       "  </tbody>\n",
       "</table>\n",
       "</div>"
      ],
      "text/plain": [
       "     Likes  comments  Comments  PostType         Time_Posted\n",
       "0     1968         3         3     image 2021-01-10 15:32:29\n",
       "1    11544        75        75     image 2021-01-10 15:31:55\n",
       "2    13499        71        71     image 2021-01-10 15:21:20\n",
       "3     1785         2         2  multiple 2021-01-10 14:29:23\n",
       "4   105769       462       462     video 2021-01-10 14:28:05\n",
       "5   129213       540       540  multiple 2021-01-10 14:17:52\n",
       "6     1005         6         6     video 2021-01-10 13:43:32\n",
       "7     3119        24        24     video 2021-01-10 12:51:54\n",
       "8    12375        25        25     image 2021-01-10 12:51:27\n",
       "9    66274       188       188     image 2021-01-10 11:15:51\n",
       "10   11962        34        34     image 2021-01-10 10:59:40\n",
       "11  109484       378       378  multiple 2021-01-10 10:50:06"
      ]
     },
     "execution_count": 48,
     "metadata": {},
     "output_type": "execute_result"
    }
   ],
   "source": [
    "ig"
   ]
  },
  {
   "cell_type": "code",
   "execution_count": 62,
   "metadata": {},
   "outputs": [],
   "source": [
    "ig.to_csv(r'D:\\PKL\\igjktinfo.csv', index = None)"
   ]
  },
  {
   "cell_type": "code",
   "execution_count": 49,
   "metadata": {},
   "outputs": [
    {
     "data": {
      "text/html": [
       "<div>\n",
       "<style scoped>\n",
       "    .dataframe tbody tr th:only-of-type {\n",
       "        vertical-align: middle;\n",
       "    }\n",
       "\n",
       "    .dataframe tbody tr th {\n",
       "        vertical-align: top;\n",
       "    }\n",
       "\n",
       "    .dataframe thead th {\n",
       "        text-align: right;\n",
       "    }\n",
       "</style>\n",
       "<table border=\"1\" class=\"dataframe\">\n",
       "  <thead>\n",
       "    <tr style=\"text-align: right;\">\n",
       "      <th></th>\n",
       "      <th>Likes</th>\n",
       "      <th>comments</th>\n",
       "      <th>Comments</th>\n",
       "    </tr>\n",
       "  </thead>\n",
       "  <tbody>\n",
       "    <tr>\n",
       "      <th>count</th>\n",
       "      <td>12.000000</td>\n",
       "      <td>12.000000</td>\n",
       "      <td>12.000000</td>\n",
       "    </tr>\n",
       "    <tr>\n",
       "      <th>mean</th>\n",
       "      <td>38999.750000</td>\n",
       "      <td>150.666667</td>\n",
       "      <td>150.666667</td>\n",
       "    </tr>\n",
       "    <tr>\n",
       "      <th>std</th>\n",
       "      <td>49211.804296</td>\n",
       "      <td>196.315763</td>\n",
       "      <td>196.315763</td>\n",
       "    </tr>\n",
       "    <tr>\n",
       "      <th>min</th>\n",
       "      <td>1005.000000</td>\n",
       "      <td>2.000000</td>\n",
       "      <td>2.000000</td>\n",
       "    </tr>\n",
       "    <tr>\n",
       "      <th>25%</th>\n",
       "      <td>2831.250000</td>\n",
       "      <td>19.500000</td>\n",
       "      <td>19.500000</td>\n",
       "    </tr>\n",
       "    <tr>\n",
       "      <th>50%</th>\n",
       "      <td>12168.500000</td>\n",
       "      <td>52.500000</td>\n",
       "      <td>52.500000</td>\n",
       "    </tr>\n",
       "    <tr>\n",
       "      <th>75%</th>\n",
       "      <td>76147.750000</td>\n",
       "      <td>235.500000</td>\n",
       "      <td>235.500000</td>\n",
       "    </tr>\n",
       "    <tr>\n",
       "      <th>max</th>\n",
       "      <td>129213.000000</td>\n",
       "      <td>540.000000</td>\n",
       "      <td>540.000000</td>\n",
       "    </tr>\n",
       "  </tbody>\n",
       "</table>\n",
       "</div>"
      ],
      "text/plain": [
       "               Likes    comments    Comments\n",
       "count      12.000000   12.000000   12.000000\n",
       "mean    38999.750000  150.666667  150.666667\n",
       "std     49211.804296  196.315763  196.315763\n",
       "min      1005.000000    2.000000    2.000000\n",
       "25%      2831.250000   19.500000   19.500000\n",
       "50%     12168.500000   52.500000   52.500000\n",
       "75%     76147.750000  235.500000  235.500000\n",
       "max    129213.000000  540.000000  540.000000"
      ]
     },
     "execution_count": 49,
     "metadata": {},
     "output_type": "execute_result"
    }
   ],
   "source": [
    "ig.describe()"
   ]
  },
  {
   "cell_type": "code",
   "execution_count": 56,
   "metadata": {},
   "outputs": [
    {
     "name": "stdout",
     "output_type": "stream",
     "text": [
      "1.51%\n"
     ]
    }
   ],
   "source": [
    "followers = 2588246\n",
    "engagement_rate = (ig['Likes'].mean() + ig['Comments'].mean()) / followers\n",
    "print(format(engagement_rate,'.2%'))"
   ]
  },
  {
   "cell_type": "code",
   "execution_count": 59,
   "metadata": {},
   "outputs": [
    {
     "data": {
      "text/html": [
       "<div>\n",
       "<style scoped>\n",
       "    .dataframe tbody tr th:only-of-type {\n",
       "        vertical-align: middle;\n",
       "    }\n",
       "\n",
       "    .dataframe tbody tr th {\n",
       "        vertical-align: top;\n",
       "    }\n",
       "\n",
       "    .dataframe thead th {\n",
       "        text-align: right;\n",
       "    }\n",
       "</style>\n",
       "<table border=\"1\" class=\"dataframe\">\n",
       "  <thead>\n",
       "    <tr style=\"text-align: right;\">\n",
       "      <th></th>\n",
       "      <th>Likes</th>\n",
       "      <th>Comments</th>\n",
       "      <th>PostType</th>\n",
       "      <th>Time_Posted</th>\n",
       "    </tr>\n",
       "  </thead>\n",
       "  <tbody>\n",
       "    <tr>\n",
       "      <th>0</th>\n",
       "      <td>1968</td>\n",
       "      <td>3</td>\n",
       "      <td>image</td>\n",
       "      <td>2021-01-10 15:32:29</td>\n",
       "    </tr>\n",
       "    <tr>\n",
       "      <th>1</th>\n",
       "      <td>11544</td>\n",
       "      <td>75</td>\n",
       "      <td>image</td>\n",
       "      <td>2021-01-10 15:31:55</td>\n",
       "    </tr>\n",
       "    <tr>\n",
       "      <th>2</th>\n",
       "      <td>13499</td>\n",
       "      <td>71</td>\n",
       "      <td>image</td>\n",
       "      <td>2021-01-10 15:21:20</td>\n",
       "    </tr>\n",
       "    <tr>\n",
       "      <th>3</th>\n",
       "      <td>1785</td>\n",
       "      <td>2</td>\n",
       "      <td>multiple</td>\n",
       "      <td>2021-01-10 14:29:23</td>\n",
       "    </tr>\n",
       "    <tr>\n",
       "      <th>4</th>\n",
       "      <td>105769</td>\n",
       "      <td>462</td>\n",
       "      <td>video</td>\n",
       "      <td>2021-01-10 14:28:05</td>\n",
       "    </tr>\n",
       "    <tr>\n",
       "      <th>5</th>\n",
       "      <td>129213</td>\n",
       "      <td>540</td>\n",
       "      <td>multiple</td>\n",
       "      <td>2021-01-10 14:17:52</td>\n",
       "    </tr>\n",
       "    <tr>\n",
       "      <th>6</th>\n",
       "      <td>1005</td>\n",
       "      <td>6</td>\n",
       "      <td>video</td>\n",
       "      <td>2021-01-10 13:43:32</td>\n",
       "    </tr>\n",
       "    <tr>\n",
       "      <th>7</th>\n",
       "      <td>3119</td>\n",
       "      <td>24</td>\n",
       "      <td>video</td>\n",
       "      <td>2021-01-10 12:51:54</td>\n",
       "    </tr>\n",
       "    <tr>\n",
       "      <th>8</th>\n",
       "      <td>12375</td>\n",
       "      <td>25</td>\n",
       "      <td>image</td>\n",
       "      <td>2021-01-10 12:51:27</td>\n",
       "    </tr>\n",
       "    <tr>\n",
       "      <th>9</th>\n",
       "      <td>66274</td>\n",
       "      <td>188</td>\n",
       "      <td>image</td>\n",
       "      <td>2021-01-10 11:15:51</td>\n",
       "    </tr>\n",
       "    <tr>\n",
       "      <th>10</th>\n",
       "      <td>11962</td>\n",
       "      <td>34</td>\n",
       "      <td>image</td>\n",
       "      <td>2021-01-10 10:59:40</td>\n",
       "    </tr>\n",
       "    <tr>\n",
       "      <th>11</th>\n",
       "      <td>109484</td>\n",
       "      <td>378</td>\n",
       "      <td>multiple</td>\n",
       "      <td>2021-01-10 10:50:06</td>\n",
       "    </tr>\n",
       "  </tbody>\n",
       "</table>\n",
       "</div>"
      ],
      "text/plain": [
       "     Likes  Comments  PostType         Time_Posted\n",
       "0     1968         3     image 2021-01-10 15:32:29\n",
       "1    11544        75     image 2021-01-10 15:31:55\n",
       "2    13499        71     image 2021-01-10 15:21:20\n",
       "3     1785         2  multiple 2021-01-10 14:29:23\n",
       "4   105769       462     video 2021-01-10 14:28:05\n",
       "5   129213       540  multiple 2021-01-10 14:17:52\n",
       "6     1005         6     video 2021-01-10 13:43:32\n",
       "7     3119        24     video 2021-01-10 12:51:54\n",
       "8    12375        25     image 2021-01-10 12:51:27\n",
       "9    66274       188     image 2021-01-10 11:15:51\n",
       "10   11962        34     image 2021-01-10 10:59:40\n",
       "11  109484       378  multiple 2021-01-10 10:50:06"
      ]
     },
     "execution_count": 59,
     "metadata": {},
     "output_type": "execute_result"
    }
   ],
   "source": [
    "ig"
   ]
  },
  {
   "cell_type": "code",
   "execution_count": 60,
   "metadata": {},
   "outputs": [],
   "source": [
    "egm = ig['Likes'] + ig['Comments']\n",
    "ig['engagement'] = egm"
   ]
  },
  {
   "cell_type": "code",
   "execution_count": 61,
   "metadata": {},
   "outputs": [
    {
     "data": {
      "text/html": [
       "<div>\n",
       "<style scoped>\n",
       "    .dataframe tbody tr th:only-of-type {\n",
       "        vertical-align: middle;\n",
       "    }\n",
       "\n",
       "    .dataframe tbody tr th {\n",
       "        vertical-align: top;\n",
       "    }\n",
       "\n",
       "    .dataframe thead th {\n",
       "        text-align: right;\n",
       "    }\n",
       "</style>\n",
       "<table border=\"1\" class=\"dataframe\">\n",
       "  <thead>\n",
       "    <tr style=\"text-align: right;\">\n",
       "      <th></th>\n",
       "      <th>Likes</th>\n",
       "      <th>Comments</th>\n",
       "      <th>PostType</th>\n",
       "      <th>Time_Posted</th>\n",
       "      <th>engagement</th>\n",
       "    </tr>\n",
       "  </thead>\n",
       "  <tbody>\n",
       "    <tr>\n",
       "      <th>0</th>\n",
       "      <td>1968</td>\n",
       "      <td>3</td>\n",
       "      <td>image</td>\n",
       "      <td>2021-01-10 15:32:29</td>\n",
       "      <td>1971</td>\n",
       "    </tr>\n",
       "    <tr>\n",
       "      <th>1</th>\n",
       "      <td>11544</td>\n",
       "      <td>75</td>\n",
       "      <td>image</td>\n",
       "      <td>2021-01-10 15:31:55</td>\n",
       "      <td>11619</td>\n",
       "    </tr>\n",
       "    <tr>\n",
       "      <th>2</th>\n",
       "      <td>13499</td>\n",
       "      <td>71</td>\n",
       "      <td>image</td>\n",
       "      <td>2021-01-10 15:21:20</td>\n",
       "      <td>13570</td>\n",
       "    </tr>\n",
       "    <tr>\n",
       "      <th>3</th>\n",
       "      <td>1785</td>\n",
       "      <td>2</td>\n",
       "      <td>multiple</td>\n",
       "      <td>2021-01-10 14:29:23</td>\n",
       "      <td>1787</td>\n",
       "    </tr>\n",
       "    <tr>\n",
       "      <th>4</th>\n",
       "      <td>105769</td>\n",
       "      <td>462</td>\n",
       "      <td>video</td>\n",
       "      <td>2021-01-10 14:28:05</td>\n",
       "      <td>106231</td>\n",
       "    </tr>\n",
       "    <tr>\n",
       "      <th>5</th>\n",
       "      <td>129213</td>\n",
       "      <td>540</td>\n",
       "      <td>multiple</td>\n",
       "      <td>2021-01-10 14:17:52</td>\n",
       "      <td>129753</td>\n",
       "    </tr>\n",
       "    <tr>\n",
       "      <th>6</th>\n",
       "      <td>1005</td>\n",
       "      <td>6</td>\n",
       "      <td>video</td>\n",
       "      <td>2021-01-10 13:43:32</td>\n",
       "      <td>1011</td>\n",
       "    </tr>\n",
       "    <tr>\n",
       "      <th>7</th>\n",
       "      <td>3119</td>\n",
       "      <td>24</td>\n",
       "      <td>video</td>\n",
       "      <td>2021-01-10 12:51:54</td>\n",
       "      <td>3143</td>\n",
       "    </tr>\n",
       "    <tr>\n",
       "      <th>8</th>\n",
       "      <td>12375</td>\n",
       "      <td>25</td>\n",
       "      <td>image</td>\n",
       "      <td>2021-01-10 12:51:27</td>\n",
       "      <td>12400</td>\n",
       "    </tr>\n",
       "    <tr>\n",
       "      <th>9</th>\n",
       "      <td>66274</td>\n",
       "      <td>188</td>\n",
       "      <td>image</td>\n",
       "      <td>2021-01-10 11:15:51</td>\n",
       "      <td>66462</td>\n",
       "    </tr>\n",
       "    <tr>\n",
       "      <th>10</th>\n",
       "      <td>11962</td>\n",
       "      <td>34</td>\n",
       "      <td>image</td>\n",
       "      <td>2021-01-10 10:59:40</td>\n",
       "      <td>11996</td>\n",
       "    </tr>\n",
       "    <tr>\n",
       "      <th>11</th>\n",
       "      <td>109484</td>\n",
       "      <td>378</td>\n",
       "      <td>multiple</td>\n",
       "      <td>2021-01-10 10:50:06</td>\n",
       "      <td>109862</td>\n",
       "    </tr>\n",
       "  </tbody>\n",
       "</table>\n",
       "</div>"
      ],
      "text/plain": [
       "     Likes  Comments  PostType         Time_Posted  engagement\n",
       "0     1968         3     image 2021-01-10 15:32:29        1971\n",
       "1    11544        75     image 2021-01-10 15:31:55       11619\n",
       "2    13499        71     image 2021-01-10 15:21:20       13570\n",
       "3     1785         2  multiple 2021-01-10 14:29:23        1787\n",
       "4   105769       462     video 2021-01-10 14:28:05      106231\n",
       "5   129213       540  multiple 2021-01-10 14:17:52      129753\n",
       "6     1005         6     video 2021-01-10 13:43:32        1011\n",
       "7     3119        24     video 2021-01-10 12:51:54        3143\n",
       "8    12375        25     image 2021-01-10 12:51:27       12400\n",
       "9    66274       188     image 2021-01-10 11:15:51       66462\n",
       "10   11962        34     image 2021-01-10 10:59:40       11996\n",
       "11  109484       378  multiple 2021-01-10 10:50:06      109862"
      ]
     },
     "execution_count": 61,
     "metadata": {},
     "output_type": "execute_result"
    }
   ],
   "source": []
  },
  {
   "cell_type": "code",
   "execution_count": 75,
   "metadata": {},
   "outputs": [
    {
     "data": {
      "text/html": [
       "<div>\n",
       "<style scoped>\n",
       "    .dataframe tbody tr th:only-of-type {\n",
       "        vertical-align: middle;\n",
       "    }\n",
       "\n",
       "    .dataframe tbody tr th {\n",
       "        vertical-align: top;\n",
       "    }\n",
       "\n",
       "    .dataframe thead th {\n",
       "        text-align: right;\n",
       "    }\n",
       "</style>\n",
       "<table border=\"1\" class=\"dataframe\">\n",
       "  <thead>\n",
       "    <tr style=\"text-align: right;\">\n",
       "      <th></th>\n",
       "      <th>mean</th>\n",
       "      <th>sum</th>\n",
       "    </tr>\n",
       "    <tr>\n",
       "      <th>PostType</th>\n",
       "      <th></th>\n",
       "      <th></th>\n",
       "    </tr>\n",
       "  </thead>\n",
       "  <tbody>\n",
       "    <tr>\n",
       "      <th>image</th>\n",
       "      <td>19669.666667</td>\n",
       "      <td>118018</td>\n",
       "    </tr>\n",
       "    <tr>\n",
       "      <th>multiple</th>\n",
       "      <td>80467.333333</td>\n",
       "      <td>241402</td>\n",
       "    </tr>\n",
       "    <tr>\n",
       "      <th>video</th>\n",
       "      <td>36795.000000</td>\n",
       "      <td>110385</td>\n",
       "    </tr>\n",
       "  </tbody>\n",
       "</table>\n",
       "</div>"
      ],
      "text/plain": [
       "                  mean     sum\n",
       "PostType                      \n",
       "image     19669.666667  118018\n",
       "multiple  80467.333333  241402\n",
       "video     36795.000000  110385"
      ]
     },
     "execution_count": 75,
     "metadata": {},
     "output_type": "execute_result"
    }
   ],
   "source": [
    "bytype = ig['engagement'].groupby(ig['PostType']).agg(['mean', 'sum'])\n",
    "bytype"
   ]
  },
  {
   "cell_type": "code",
   "execution_count": 76,
   "metadata": {},
   "outputs": [
    {
     "data": {
      "text/plain": [
       "<matplotlib.axes._subplots.AxesSubplot at 0x1978789b6d0>"
      ]
     },
     "execution_count": 76,
     "metadata": {},
     "output_type": "execute_result"
    },
    {
     "data": {
      "image/png": "[encoded data removed]",
      "text/plain": [
       "<Figure size 432x288 with 1 Axes>"
      ]
     },
     "metadata": {
      "needs_background": "light"
     },
     "output_type": "display_data"
    }
   ],
   "source": [
    "bytype.plot(kind='bar')"
   ]
  },
  {
   "cell_type": "code",
   "execution_count": 78,
   "metadata": {},
   "outputs": [],
   "source": [
    "bytime = ig[['Time_Posted','engagement']].copy()"
   ]
  },
  {
   "cell_type": "code",
   "execution_count": 82,
   "metadata": {},
   "outputs": [
    {
     "data": {
      "text/plain": [
       "<matplotlib.axes._subplots.AxesSubplot at 0x1978926ecd0>"
      ]
     },
     "execution_count": 82,
     "metadata": {},
     "output_type": "execute_result"
    },
    {
     "data": {
      "image/png": "[encoded data removed]",
      "text/plain": [
       "<Figure size 432x288 with 1 Axes>"
      ]
     },
     "metadata": {
      "needs_background": "light"
     },
     "output_type": "display_data"
    }
   ],
   "source": [
    "bytime.plot(x='Time_Posted', y='engagement', kind='scatter')"
   ]
  },
  {
   "cell_type": "code",
   "execution_count": null,
   "metadata": {},
   "outputs": [],
   "source": []
  }
 ],
 "metadata": {
  "kernelspec": {
   "display_name": "Python 3",
   "language": "python",
   "name": "python3"
  },
  "language_info": {
   "codemirror_mode": {
    "name": "ipython",
    "version": 3
   },
   "file_extension": ".py",
   "mimetype": "text/x-python",
   "name": "python",
   "nbconvert_exporter": "python",
   "pygments_lexer": "ipython3",
   "version": "3.8.3"
  }
 },
 "nbformat": 4,
 "nbformat_minor": 4
}
